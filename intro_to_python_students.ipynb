{
  "nbformat": 4,
  "nbformat_minor": 0,
  "metadata": {
    "colab": {
      "name": "intro_to_python_students.ipynb",
      "provenance": [],
      "collapsed_sections": [
        "27GJWJouueMT"
      ],
      "include_colab_link": true
    },
    "kernelspec": {
      "display_name": "Python 3",
      "language": "python",
      "name": "python3"
    },
    "language_info": {
      "codemirror_mode": {
        "name": "ipython",
        "version": 3
      },
      "file_extension": ".py",
      "mimetype": "text/x-python",
      "name": "python",
      "nbconvert_exporter": "python",
      "pygments_lexer": "ipython3",
      "version": "3.7.3"
    }
  },
  "cells": [
    {
      "cell_type": "markdown",
      "metadata": {
        "id": "view-in-github",
        "colab_type": "text"
      },
      "source": [
        "<a href=\"https://colab.research.google.com/github/TimoFlesch/intro2python/blob/2020/intro_to_python_students.ipynb\" target=\"_parent\"><img src=\"https://colab.research.google.com/assets/colab-badge.svg\" alt=\"Open In Colab\"/></a>"
      ]
    },
    {
      "cell_type": "markdown",
      "metadata": {
        "id": "OW_kXbq5J6Ek"
      },
      "source": [
        "# **PART 1: PYTHON - A (VERY) SHORT INTRODUCTION**"
      ]
    },
    {
      "cell_type": "code",
      "metadata": {
        "id": "7N780SDLc8P8"
      },
      "source": [
        "#test"
      ],
      "execution_count": null,
      "outputs": []
    },
    {
      "cell_type": "markdown",
      "metadata": {
        "id": "SAB59OcIvw_n"
      },
      "source": [
        "Today you'll learn the basics of programming in Python. We use a so-called *Python notebook*. the notebook consists of two types of cells, those that contain text, like the one you're reading right now, and those that contain python code.   \n",
        "Below is an example of a cell with Python code. When we click on a cell with code and either press [SHIFT] + [ENTER] or click on the (RUN) button above, we tell the computer to interpret the commands which means that it turns the Python code into actions we want it to execute."
      ]
    },
    {
      "cell_type": "code",
      "metadata": {
        "id": "jzXA8DuCwaM8"
      },
      "source": [
        "# this is a comment. Everything preceeded by a hash symbol (#) is ignored by the\n",
        "# computer. This allows you to add comments/notes/documentation to your python programme.\n",
        "print(\"hello world\")"
      ],
      "execution_count": null,
      "outputs": []
    },
    {
      "cell_type": "markdown",
      "metadata": {
        "id": "ydFDepGcwdOg"
      },
      "source": [
        "As you can see, we instructed the computer to \"print\" a string of letters.\n",
        "Don't worry too much about the syntax right now, later we'll go through this step by step!"
      ]
    },
    {
      "cell_type": "markdown",
      "metadata": {
        "id": "2kBA_M83Z1Ld"
      },
      "source": [
        "___\n",
        "## **1.1 VARIABLES**"
      ]
    },
    {
      "cell_type": "markdown",
      "metadata": {
        "id": "M9vSHfxauLc2"
      },
      "source": [
        "Variables are used to store information that can later be referenced and manipulated by your computer program. It's helpful to think of variables as containers for information. For example, imagine you build a drawer and put socks in it. In this case, the drawer would be a variable and the socks we put in would correspond to its value(s). When you reference the variable, i.e. open the drawer, you'll find socks in there. "
      ]
    },
    {
      "cell_type": "code",
      "metadata": {
        "id": "egLUcRqJxA6I"
      },
      "source": [
        "# let's create a drawer with socks\n",
        "drawer = \"socks\"\n",
        "\n",
        "# let's have a look what's inside the drawer\n",
        "drawer"
      ],
      "execution_count": null,
      "outputs": []
    },
    {
      "cell_type": "markdown",
      "metadata": {
        "id": "1oP3m5C0KfcQ"
      },
      "source": [
        "### **1.1.1 Assign Values to Variables**"
      ]
    },
    {
      "cell_type": "markdown",
      "metadata": {
        "id": "HaxWZWrSvSGF"
      },
      "source": [
        "Variables would be useless if you couldn't assign values to them. Python is able to handle all sorts of different datatypes, such as numbers, strings (=sequences of letters and symbols) and lists of numbers/letters. Below are a few examples"
      ]
    },
    {
      "cell_type": "code",
      "metadata": {
        "id": "ZMR0QXM8ZfOu"
      },
      "source": [
        "# this is an integer (a number without any decimal points)\n",
        "variable1 = 5 \n",
        "# this is another integer\n",
        "variable2 = 7\n",
        "# this is a float (a number with decimal points)\n",
        "variable3 = -2.563\n",
        "# this is a string (a sequences of characters)\n",
        "variable4 = 'Hello World'\n",
        "# this is a list (a set of different items)\n",
        "variable5 = [1,2, 'Tomato',0,'???']\n"
      ],
      "execution_count": null,
      "outputs": []
    },
    {
      "cell_type": "markdown",
      "metadata": {
        "id": "ToKYNDaAyPsW"
      },
      "source": [
        "Let's check out what's inside these variables"
      ]
    },
    {
      "cell_type": "code",
      "metadata": {
        "id": "Ixn2V250ySMu"
      },
      "source": [
        "variable5"
      ],
      "execution_count": null,
      "outputs": []
    },
    {
      "cell_type": "markdown",
      "metadata": {
        "id": "ZtWQb84byXEm"
      },
      "source": [
        "**Important!!** Variable names are somewhat arbitrary. But try to give your variables sensible names that explain what kind of information they hold (remember the drawer example above). This prevents a lot of confusion when you come back to code you've written weeks/months ago!"
      ]
    },
    {
      "cell_type": "markdown",
      "metadata": {
        "id": "o5th5t33Zyut"
      },
      "source": [
        "### **1.1.2 Operations using defined variables**\n"
      ]
    },
    {
      "cell_type": "markdown",
      "metadata": {
        "id": "yOg3z730yyrF"
      },
      "source": [
        "What makes programming languages so powerful is their ability to perform various operations on the variables you have defined. In this section, you'll learn a few of those!"
      ]
    },
    {
      "cell_type": "markdown",
      "metadata": {
        "id": "lK9eXsq_LDs_"
      },
      "source": [
        "#### **Basic addition & subtraction**"
      ]
    },
    {
      "cell_type": "markdown",
      "metadata": {
        "id": "mvNvJOcRiO7B"
      },
      "source": [
        "Let's write a program that adds two of the variables we have defined above:"
      ]
    },
    {
      "cell_type": "code",
      "metadata": {
        "id": "2_X2OvzSZ4hc"
      },
      "source": [
        "variable1 + variable2 "
      ],
      "execution_count": null,
      "outputs": []
    },
    {
      "cell_type": "markdown",
      "metadata": {
        "id": "s4KDNWcIaeEH"
      },
      "source": [
        "You can conduct basic math directly in-line, but if you need more than one operation to run, you'll want to assign them to variables:\n"
      ]
    },
    {
      "cell_type": "code",
      "metadata": {
        "id": "rKPxwjW9adGK"
      },
      "source": [
        "sum_of_two = variable1 + variable2\n",
        "difference = variable1 - variable2\n",
        "difference2 = difference - variable3"
      ],
      "execution_count": null,
      "outputs": []
    },
    {
      "cell_type": "markdown",
      "metadata": {
        "id": "kbPxKxvvLLtW"
      },
      "source": [
        "Notice how the results of these operations were not automatically displayed in the command line. This is desired behaviour of any programming language. Imagine that you have a very long and complicated script full of mathematical operations, but are only interested in the end result. It would be a nightmare if each and every intermediate result was displayed in the command line.."
      ]
    },
    {
      "cell_type": "markdown",
      "metadata": {
        "id": "-QqXgNiXLsvY"
      },
      "source": [
        "To display specific variables (and some text) in the command line, use the **print** statement.  \n",
        "The print statement is a **function**. As in maths, functions take some value as input, apply a transformation and return the result of this transformation as output. In case of the print statement, it takes strings of characters and variables as input, and - as the name suggests - \"prints\" the result to the command line (in our case the space below a cell with Python code). We'll learn more about functions later in the course.  \n",
        "As you can see in the example below, the print function accepts all sorts of different input formats. Choose the one that works best for you!"
      ]
    },
    {
      "cell_type": "code",
      "metadata": {
        "id": "WIhvjpB0LNx5"
      },
      "source": [
        "# one variable\n",
        "print(difference2) \n",
        "# multiple variables can be separated by a comma\n",
        "print(sum_of_two, difference)\n",
        "\n",
        "# we can also construct a string by concatenating text and numbers (that we have turned into strings)\n",
        "print('Sum of int1 and int2 is ' + str(sum_of_two) + ' and difference between them is ' + str(difference))\n",
        "\n",
        "# you can also use {} as placeholders and use the format method to feed values into the placeholders\n",
        "print('Sum of int1 and int2 is {}, and differene between them is {}'.format(sum_of_two, difference))"
      ],
      "execution_count": null,
      "outputs": []
    },
    {
      "cell_type": "code",
      "metadata": {
        "id": "7irA9yDHf25y"
      },
      "source": [
        "# in case you were confused: Python distinguished between different types of variables. \n",
        "# If we assign a number to a variable, Python will assume that it's a number.\n",
        "# If we put the number into quotation marks, it will assume it's a character (= letter on your keyboard) and \n",
        "# can't do maths with it.\n",
        "# \"+\" between numbers adds them up. \"+\" between strings/characters concatenates them\n",
        "five_num = 5\n",
        "five_str = '5' # this is equal to str(five_num)\n",
        "one_num = 1\n",
        "one_str = '1'\n",
        "print(five_num + one_num)\n",
        "print(five_str + one_str)\n",
        "print(five_num + five_str)\n"
      ],
      "execution_count": null,
      "outputs": []
    },
    {
      "cell_type": "markdown",
      "metadata": {
        "id": "Pgabp9RzsrNr"
      },
      "source": [
        "#### **Basic Multiplication and Division**\n"
      ]
    },
    {
      "cell_type": "markdown",
      "metadata": {
        "id": "L3MZkPW_PN_l"
      },
      "source": [
        "Imagine how limited a programming language would be, if you couldn't perform multiplication and division. Luckily, Python has you covered! "
      ]
    },
    {
      "cell_type": "code",
      "metadata": {
        "id": "WxSrtwJBs2-o"
      },
      "source": [
        "int1 = 20\n",
        "int2 = 6\n",
        "product_of_two = int1 * int2\n",
        "quotient_of_two = int1 / int2\n",
        "modulo_of_two = int1 % int2\n",
        "print('Product of int1 and int2 is {}'.format(product_of_two))\n",
        "print('Dividing int1 by int2 yields {} '.format(quotient_of_two))\n",
        "print('The remainder after dividing int1 by int2 is {} '.format(modulo_of_two))\n"
      ],
      "execution_count": null,
      "outputs": []
    },
    {
      "cell_type": "markdown",
      "metadata": {
        "id": "WCx7ErfxwZps"
      },
      "source": [
        "#### **Exponentiation**"
      ]
    },
    {
      "cell_type": "markdown",
      "metadata": {
        "id": "h8-uqyUxPio7"
      },
      "source": [
        "And of course, you can also perform exponentiation!"
      ]
    },
    {
      "cell_type": "code",
      "metadata": {
        "id": "FVpMEi2Cu6DH"
      },
      "source": [
        "base_1 = 2\n",
        "base_2 = 9\n",
        "exponent_1 = 4\n",
        "exponent_2 = -1\n",
        "exponent_3 = 0.5\n",
        "result_1 = base_1**exponent_1\n",
        "result_2 = base_1**exponent_2\n",
        "result_3 = base_2**exponent_3\n",
        "print('2^4= ' + str(result_1))\n",
        "print('2^-1 = 1/2 = ' + str(result_2))\n",
        "print('9^0.5 = square root of 9 =  ' + str(result_3))\n"
      ],
      "execution_count": null,
      "outputs": []
    },
    {
      "cell_type": "markdown",
      "metadata": {
        "id": "3MeFp6c1QSYK"
      },
      "source": [
        "#### **Logical Operators**"
      ]
    },
    {
      "cell_type": "markdown",
      "metadata": {
        "id": "hfFV1yhqRgfB"
      },
      "source": [
        "In programming you very often need to know whether a statement is  true or false. This can be achieved with Boolean variables, which you'll find become very handy over time:"
      ]
    },
    {
      "cell_type": "code",
      "metadata": {
        "id": "478GGuOpRvtf"
      },
      "source": [
        "bool1 = True\n",
        "bool2 = False \n",
        "print(bool1)\n",
        "print(bool2)\n",
        "print(bool1 and bool2)\n",
        "print(bool1 or bool2)\n",
        "print(bool1 and not bool2)"
      ],
      "execution_count": null,
      "outputs": []
    },
    {
      "cell_type": "markdown",
      "metadata": {
        "id": "4-mgaaRJSLik"
      },
      "source": [
        "More frequently, you will be able to check whether relationships between variables are true or false or do something conditionally based on whether a statement is true (see below):"
      ]
    },
    {
      "cell_type": "code",
      "metadata": {
        "id": "5x-bbukLSZeu"
      },
      "source": [
        "print(5 < 6)\n",
        "print(6 >= 5)\n",
        "print(5 != 10/2)\n",
        "print('hello' != 'world')"
      ],
      "execution_count": null,
      "outputs": []
    },
    {
      "cell_type": "markdown",
      "metadata": {
        "id": "gdtGeau7SoJR"
      },
      "source": [
        "Logical operators are very powerful. For instance, you can test whether a variable lies within a certain interval:"
      ]
    },
    {
      "cell_type": "code",
      "metadata": {
        "id": "T_aP4ZQXS38J"
      },
      "source": [
        "int1 = 10\n",
        "print(int1 < 12 and int1 > 9)\n",
        "print( 9 < int1 < 12)"
      ],
      "execution_count": null,
      "outputs": []
    },
    {
      "cell_type": "markdown",
      "metadata": {
        "id": "PGuGYduxaz_w"
      },
      "source": [
        "### **TASK: Define variables and write code to...**\n",
        "1. Calculate square root of 25, 144 and 289 \n",
        "2. Translate the following into Python\n",
        "  - assign numbers between 1 and 100 to 3 different variables\n",
        "  - add up your 3 variables and print whether the sum is bigger than 100\n",
        "\n",
        "**Hints**:\n",
        "* You can either use a built-in function (sqrt(x)), or perform clever exponentiation (what does x^0.5 do to x?)\n",
        "* look at the section on logical operators if you're stuck!\n",
        "\n"
      ]
    },
    {
      "cell_type": "code",
      "metadata": {
        "id": "rbGcv16raibA"
      },
      "source": [
        "# Your code for example 1 here \n"
      ],
      "execution_count": null,
      "outputs": []
    },
    {
      "cell_type": "code",
      "metadata": {
        "id": "lqXbdrZJb54j"
      },
      "source": [
        "# Your code for example 2 here \n"
      ],
      "execution_count": null,
      "outputs": []
    },
    {
      "cell_type": "markdown",
      "metadata": {
        "id": "RUnpVcD6btev"
      },
      "source": [
        "___\n",
        "## **1.2 LOOPS and STATEMENTS**"
      ]
    },
    {
      "cell_type": "markdown",
      "metadata": {
        "id": "kRL1dl7BzmZQ"
      },
      "source": [
        "Loops allow you to execute the same operation multiple times, but with a different type of input on each iteration.  \n",
        "Statement allow you to structure your code, and have the computer care about certain bits only if conditions you specify are met.  \n",
        "In this section, we'll learn more about both"
      ]
    },
    {
      "cell_type": "markdown",
      "metadata": {
        "id": "snpzo10LhuP_"
      },
      "source": [
        "### **1.2.1 While Loops**"
      ]
    },
    {
      "cell_type": "markdown",
      "metadata": {
        "id": "_1p_5qfZh_Ej"
      },
      "source": [
        "Use while loops whenever you need to apply an operation multiple times, but don't know exactly how many iterations are needed:"
      ]
    },
    {
      "cell_type": "code",
      "metadata": {
        "id": "ZwpYDFl6iL2y"
      },
      "source": [
        "# WHILE loops\n",
        "x = 500\n",
        "while x > 10:\n",
        "    print(str(x))\n",
        "    x = x // 2\n"
      ],
      "execution_count": null,
      "outputs": []
    },
    {
      "cell_type": "markdown",
      "metadata": {
        "id": "lKXrCp-TLmOW"
      },
      "source": [
        "### **1.2.2 For Loops**"
      ]
    },
    {
      "cell_type": "markdown",
      "metadata": {
        "id": "HsL51e_xMPYI"
      },
      "source": [
        "For loops come in handy whenever you need to apply a function to each item of a\n",
        "(potentially very long) list, and you know exactly how many iterations you need:\n",
        "(note for the pros: all for loops in python are actually for-each loops)"
      ]
    },
    {
      "cell_type": "code",
      "metadata": {
        "id": "RHHklUPmbOj8"
      },
      "source": [
        "# FOR loops \n",
        "\n",
        "modules = [\"cognitive\", \"developmental\", \"neuro\", \"clinical\", \"social\", \"computational\"]\n",
        "for x in modules:\n",
        "    print(x)"
      ],
      "execution_count": null,
      "outputs": []
    },
    {
      "cell_type": "markdown",
      "metadata": {
        "id": "MSfT3btSMAwc"
      },
      "source": [
        "### **1.2.3 If...Then Conditionals**"
      ]
    },
    {
      "cell_type": "markdown",
      "metadata": {
        "id": "lBSojpjp0X9V"
      },
      "source": [
        "Before we talk about if..then conditionals, let's first learn something new!\n",
        "the len() command counts the number if symbols in a list.\n",
        "Example:\n"
      ]
    },
    {
      "cell_type": "code",
      "metadata": {
        "id": "p0CvFZTZ0ebY"
      },
      "source": [
        "# let's count how many numbers are in this list\n",
        "print(len([4,5,5,2,1]))\n",
        "# Note that it also works with strings (which are essentially lists of symbols)\n",
        "print(len('hello world'))"
      ],
      "execution_count": null,
      "outputs": []
    },
    {
      "cell_type": "markdown",
      "metadata": {
        "id": "SB7x5emzM78i"
      },
      "source": [
        "Programming is all about case-specific processing. Use if..then statements \n",
        "to process inputs depending on conditions you have specified:"
      ]
    },
    {
      "cell_type": "code",
      "metadata": {
        "id": "FpXo3d-dcGWn"
      },
      "source": [
        "# IF...THEN statements \n",
        "\n",
        "\n",
        "favoriteModule = \"computational\"\n",
        "firstModule = \"social\"\n",
        "\n",
        "if len(firstModule) < len(favoriteModule): \n",
        "    print('These modules are of different lengths!')\n",
        "elif len(firstModule) == len(favoriteModule): \n",
        "    print('These modules are of same lengths!')\n"
      ],
      "execution_count": null,
      "outputs": []
    },
    {
      "cell_type": "markdown",
      "metadata": {
        "id": "yQMQq9RRLduW"
      },
      "source": [
        "Very commonly in coding practice you'll find that you want to check multiple conditions before doing something with your variables. Python is easy when it comes to this - just tell it whether you want to use 'and' or 'or' or a different logical connector. \n",
        "\n",
        "[Link to a good starting point on Boolean operators in Python ](https://https://docs.python.org/2.0/ref/lambda.html)"
      ]
    },
    {
      "cell_type": "code",
      "metadata": {
        "id": "UeAXZzvUc8le"
      },
      "source": [
        "a = 200\n",
        "b = 33\n",
        "c = 500\n",
        "if a > b and c > a:\n",
        "    print('Both conditions are true!')\n",
        "else: \n",
        "    print('Both conditions are not true!')\n",
        "  \n",
        "  \n",
        "if a > b or a > c:\n",
        "    print('At least one of the conditions is true!')\n"
      ],
      "execution_count": null,
      "outputs": []
    },
    {
      "cell_type": "markdown",
      "metadata": {
        "id": "rkpr5XvjcKwV"
      },
      "source": [
        "### **TASK: Write your own for loop and if/then statement**\n",
        "\n",
        "Given \n",
        "\n",
        "```\n",
        " modules = [\"cognitive\", \"developmental\", \"neuro\", \"clinical\", \"social\", \"computational\"]\n",
        " comparisonVariable = \"introductory\"\n",
        "\n",
        "```\n",
        "\n",
        "\n",
        " \n",
        "Determine whether any of the modules have names that are longer than the comparison variable."
      ]
    },
    {
      "cell_type": "code",
      "metadata": {
        "id": "cwYlwrZGcI46"
      },
      "source": [
        "modules = [\"cognitive\", \"developmental\", \"neuro\", \"clinical\", \"social\", \"computational\"]\n",
        "comparisonVariable = \"introductory\"\n",
        "\n",
        "# Your code here\n"
      ],
      "execution_count": null,
      "outputs": []
    },
    {
      "cell_type": "markdown",
      "metadata": {
        "id": "mzr0TpU0w7kz"
      },
      "source": [
        "___\n",
        "## **1.3 FUNCTIONS**"
      ]
    },
    {
      "cell_type": "markdown",
      "metadata": {
        "id": "SSpSOOeGw7y7"
      },
      "source": [
        "### **1.3.1 Introduction to Functions**"
      ]
    },
    {
      "cell_type": "markdown",
      "metadata": {
        "id": "IGEpBh8U4th_"
      },
      "source": [
        "Functions are nothing new. You have already worked with them in the previous exercises!\n",
        "\n",
        "Here are some examples...\n",
        "\n"
      ]
    },
    {
      "cell_type": "code",
      "metadata": {
        "id": "DDjZgAnt43KP"
      },
      "source": [
        "print(\"hello world\")\n",
        "print(\"2*3:\",2*3)\n",
        "print(len(\"hello world\"))"
      ],
      "execution_count": null,
      "outputs": []
    },
    {
      "cell_type": "markdown",
      "metadata": {
        "id": "JmJxHvCw5DYD"
      },
      "source": [
        "What makes coding so great, is that you're able to write your own functions! Whenever you identify a recurring task in your workflow, consider writing a function instead of copying & pasting code over and over again:"
      ]
    },
    {
      "cell_type": "code",
      "metadata": {
        "id": "7b3xPktW6Y-k"
      },
      "source": [
        "# naive approach for testing parity of several numbers:\n",
        "if 3 % 2 == 0:\n",
        "    print('{} is even'.format(3))\n",
        "else:\n",
        "    print('{} is odd'.format(3))\n",
        "\n",
        "    \n",
        "if 2 % 2 == 0:\n",
        "    print('{} is even'.format(2))\n",
        "else:\n",
        "    print('{} is odd'.format(2))\n",
        "\n",
        "\n",
        "if 11 % 2 == 0:\n",
        "    print('{} is even'.format(11))\n",
        "else:\n",
        "    print('{} is odd'.format(11))"
      ],
      "execution_count": null,
      "outputs": []
    },
    {
      "cell_type": "markdown",
      "metadata": {
        "id": "UQTXRi0dN83D"
      },
      "source": [
        "In the example above, we tested whether several numbers are odd or even.\n",
        "Instead of repeating the same if..then construct over and over again, we can \n",
        "put it in a neat little function:"
      ]
    },
    {
      "cell_type": "code",
      "metadata": {
        "id": "lWLm6V4m5u2F"
      },
      "source": [
        "# let's write a function that does the work for us!\n",
        "def return_parity(n):\n",
        "    result = str(n) + ' is'\n",
        "    if n % 2 == 0:\n",
        "        return result + ' even'\n",
        "    else:\n",
        "        return result + ' odd'\n",
        "  "
      ],
      "execution_count": null,
      "outputs": []
    },
    {
      "cell_type": "markdown",
      "metadata": {
        "id": "JyICkQ5pOL4s"
      },
      "source": [
        "Now we can simply apply the function to each of the numbers we're interested in"
      ]
    },
    {
      "cell_type": "code",
      "metadata": {
        "id": "YumornB_5-se"
      },
      "source": [
        "print(return_parity(3))\n",
        "print(return_parity(2))\n",
        "print(return_parity(11))"
      ],
      "execution_count": null,
      "outputs": []
    },
    {
      "cell_type": "markdown",
      "metadata": {
        "id": "AH7C4IhcORjX"
      },
      "source": [
        "By the way, if..then statements can be compressed into one-liners:"
      ]
    },
    {
      "cell_type": "code",
      "metadata": {
        "id": "NINVFIb68AGv"
      },
      "source": [
        "# let's make this shorter\n",
        "def return_parity(n):\n",
        "    result = str(n) + ' is '\n",
        "    return result + 'even' if n % 2 == 0 else result + 'odd'"
      ],
      "execution_count": null,
      "outputs": []
    },
    {
      "cell_type": "markdown",
      "metadata": {
        "id": "pTRmLDpsOY2e"
      },
      "source": [
        "Did you notice something? We applied the function to several different numbers.\n",
        "Why not put all numbers in a list and use a loop to iterate over them?"
      ]
    },
    {
      "cell_type": "code",
      "metadata": {
        "id": "XOOlnKtP60la"
      },
      "source": [
        "# let's combine this with loops\n",
        "numbers = [3, 2, 11]\n",
        "for ii in numbers:\n",
        "    print(return_parity(ii))"
      ],
      "execution_count": null,
      "outputs": []
    },
    {
      "cell_type": "markdown",
      "metadata": {
        "id": "C7WPZXDKOmWj"
      },
      "source": [
        "Functions can be put inside other functions. Let's write a wrapper that iterates over a list!"
      ]
    },
    {
      "cell_type": "code",
      "metadata": {
        "id": "MCdYiXfz8TNh"
      },
      "source": [
        "#let's write a wrapper!\n",
        "def check_item_parity(arr):\n",
        "    for ii in arr:\n",
        "        print(return_parity(ii))\n",
        "  "
      ],
      "execution_count": null,
      "outputs": []
    },
    {
      "cell_type": "code",
      "metadata": {
        "id": "av8aRHhA8i3o"
      },
      "source": [
        "check_item_parity(numbers)"
      ],
      "execution_count": null,
      "outputs": []
    },
    {
      "cell_type": "markdown",
      "metadata": {
        "id": "HJOPv3VvMR2Q"
      },
      "source": [
        "Now if you define a different list of numbers you want to check parity for, you can simply use your wrapped function instead of calling check_parity over and over again. See below: "
      ]
    },
    {
      "cell_type": "code",
      "metadata": {
        "id": "DQccQdsSMRH8"
      },
      "source": [
        "longerArray = [2, 3, 4, 5, 6, 7, 8, 9, 10, 23, 25, 72, 43, 52, 26, 24, 23, 16]\n",
        "check_item_parity(longerArray)"
      ],
      "execution_count": null,
      "outputs": []
    },
    {
      "cell_type": "markdown",
      "metadata": {
        "id": "MXRslFfC9z2y"
      },
      "source": [
        "Functions are treated as so-called first class objects - you can assign them to variables..."
      ]
    },
    {
      "cell_type": "code",
      "metadata": {
        "id": "C-Lz-FE5khlr"
      },
      "source": [
        "my_len = len\n",
        "print(my_len(\"hello world\"))\n",
        "\n",
        "# (don't ask why you would want to do this. but it works x) )"
      ],
      "execution_count": null,
      "outputs": []
    },
    {
      "cell_type": "markdown",
      "metadata": {
        "id": "93UltCxhkuWi"
      },
      "source": [
        ".. and you can pass them as inputs to other functions"
      ]
    },
    {
      "cell_type": "code",
      "metadata": {
        "id": "pZEmLJMc9zJI"
      },
      "source": [
        "def do_sth_with_number(number, something):\n",
        "    print(something(number))"
      ],
      "execution_count": null,
      "outputs": []
    },
    {
      "cell_type": "code",
      "metadata": {
        "id": "tP8FC7bp-HSY"
      },
      "source": [
        "do_sth_with_number(-2, abs)\n",
        "do_sth_with_number(9.34,round)\n",
        "do_sth_with_number(9,return_parity)"
      ],
      "execution_count": null,
      "outputs": []
    },
    {
      "cell_type": "markdown",
      "metadata": {
        "id": "1iHVY95Yw_SC"
      },
      "source": [
        "### **1.3.2 Docstrings**"
      ]
    },
    {
      "cell_type": "markdown",
      "metadata": {
        "id": "MqiVSoJ2xEMO"
      },
      "source": [
        "Programming can be a very complicated endeavour. And who is able to remember for each and every function how to use it? Nobody. In fact, in real life, whenever you need to write a program, you'll notice that you spend most of the time googling stuff and scrolling through online forums. That's absolutely normal and even the biggest coding pros do this all the time.  \n",
        "But even if you don't have internet, there's still hope: Python provides documentation for all of its built-in functions. These brief info snippets are called *docstrings* and we'll show you two ways to access them.  \n",
        "First, you could simply add a question mark to the function you're interested in, and execute the line of code:"
      ]
    },
    {
      "cell_type": "code",
      "metadata": {
        "id": "XPwUSARfxN0J"
      },
      "source": [
        "print?"
      ],
      "execution_count": null,
      "outputs": []
    },
    {
      "cell_type": "markdown",
      "metadata": {
        "id": "yr3ivSE_xNaB"
      },
      "source": [
        "Docstring:\n",
        "print(value, ..., sep=' ', end='\\n', file=sys.stdout, flush=False)\n",
        "\n",
        "Prints the values to a stream, or to sys.stdout by default.\n",
        "Optional keyword arguments:\n",
        "file:  a file-like object (stream); defaults to the current sys.stdout.\n",
        "sep:   string inserted between values, default a space.\n",
        "end:   string appended after the last value, default a newline.\n",
        "flush: whether to forcibly flush the stream.\n",
        "Type:      builtin_function_or_method"
      ]
    },
    {
      "cell_type": "markdown",
      "metadata": {
        "id": "fEEYnPu5xYDw"
      },
      "source": [
        "Alternatively, you pass it as argument to the help function:"
      ]
    },
    {
      "cell_type": "code",
      "metadata": {
        "id": "iLl4saNrxcda"
      },
      "source": [
        "help(print)"
      ],
      "execution_count": null,
      "outputs": []
    },
    {
      "cell_type": "markdown",
      "metadata": {
        "id": "DJd_iruuxiFG"
      },
      "source": [
        "When you write your own functions, don't forget to add documentation on how to use them. This saves a lot of time and avoids nervous breakdowns when you come back to your code a few months later. \n",
        "In fact, you can easily write your own docstrings! Here's an example    \n",
        "Docstrings are indicated by \"\"\" yourtextgoeshere \"\"\""
      ]
    },
    {
      "cell_type": "code",
      "metadata": {
        "id": "niGmfSinyQnM"
      },
      "source": [
        "def return_parity(n):\n",
        "    \"\"\" \n",
        "      This function tests whether its input is odd or even.\n",
        "      INPUT: (int) an arbitrary number\n",
        "      OUTPUT: (str) 'even' or 'odd' \n",
        "    \"\"\"\n",
        "    result = str(n) + ' is '\n",
        "    return result + 'even' if n % 2 == 0 else result + 'odd'\n"
      ],
      "execution_count": null,
      "outputs": []
    },
    {
      "cell_type": "code",
      "metadata": {
        "id": "HmiqetkRyfxa"
      },
      "source": [
        "help(return_parity)"
      ],
      "execution_count": null,
      "outputs": []
    },
    {
      "cell_type": "markdown",
      "metadata": {
        "id": "DFSomZjhDMBY"
      },
      "source": [
        "### **Task: Write your own function!**"
      ]
    },
    {
      "cell_type": "markdown",
      "metadata": {
        "id": "7L_29-wrPX3k"
      },
      "source": [
        "Write a function that takes a list of numbers as inputs and returns the mean of these numbers!  \n",
        "Remember, given a vector of numbers\n",
        "> $\\textbf{x} = [x_1, x_2, x_3, x_4, ...., x_n]$\n",
        "  \n",
        "the mean is defined as:  \n",
        "\n",
        "> $mean(\\textbf{x})=\\frac{1}{N}\\sum_{i=1}^{N} x_i = \\frac{1}{N}(x_1 + x_2 + x_3 + ... + x_n)$\n"
      ]
    },
    {
      "cell_type": "code",
      "metadata": {
        "id": "VYIMV0z5DQcx"
      },
      "source": [
        "numbers = [2,5,8,7,1,4,4,9]\n",
        "# your code goes here\n",
        "\n"
      ],
      "execution_count": null,
      "outputs": []
    },
    {
      "cell_type": "markdown",
      "metadata": {
        "id": "RtoqtwAhQfQC"
      },
      "source": [
        "Now write a function that computes the variance of a list of numbers.\n",
        "Remember, the variance is defined as \n",
        "> $var(\\textbf{x}) = \\frac{1}{N} \\sum_{i=1}^{N}(x_i-\\bar{x})^2$, where $mean(\\textbf{x}) = \\bar{x}$  \n",
        ">\n",
        "> or alternatively:  \n",
        ">\n",
        "> $var(\\textbf{x}) = \\frac{1}{N} \\sum_{i=1}^{N}(x_i^2) -\\bar{x}^2$ (\"expectation of square minus square of expectation\")"
      ]
    },
    {
      "cell_type": "code",
      "metadata": {
        "id": "u6LkZn5cyDSQ"
      },
      "source": [
        "numbers = [2,5,8,7,1,4,4,9]\n",
        "# your code goes here\n"
      ],
      "execution_count": null,
      "outputs": []
    },
    {
      "cell_type": "markdown",
      "metadata": {
        "id": "tA6FEF5HyEX5"
      },
      "source": [
        "Now add docstrings to your functions to explain how to use them"
      ]
    },
    {
      "cell_type": "code",
      "metadata": {
        "id": "W-79OVZSyOni"
      },
      "source": [
        "# your code goes here"
      ],
      "execution_count": null,
      "outputs": []
    },
    {
      "cell_type": "markdown",
      "metadata": {
        "id": "27GJWJouueMT"
      },
      "source": [
        "### **BONUS: Advanced Programming Principle: Recursion**"
      ]
    },
    {
      "cell_type": "markdown",
      "metadata": {
        "id": "BIMbYEDP8nmx"
      },
      "source": [
        "Functions are very versatile! They can even call themselves with a subset of of the \n",
        "original problem. This is called recursion. Below is a naive solution to find the factorial of a number.\n",
        "As reminder, a factorial of a number n is just a product of all integers from 1 to n:  \n",
        "**n! = 1*2*3*4*......*n**"
      ]
    },
    {
      "cell_type": "code",
      "metadata": {
        "id": "yOkX7i2N812U"
      },
      "source": [
        "def iterative_factorial(n):\n",
        "    fact = 1\n",
        "    for ii in range(n):\n",
        "        fact *= ii+1\n",
        "    return fact"
      ],
      "execution_count": null,
      "outputs": []
    },
    {
      "cell_type": "code",
      "metadata": {
        "id": "xipMmXl381-Y"
      },
      "source": [
        "print(\"4!: \",iterative_factorial(4))"
      ],
      "execution_count": null,
      "outputs": []
    },
    {
      "cell_type": "code",
      "metadata": {
        "id": "FfXsrVk65UbT"
      },
      "source": [
        "def recursive_factorial(n):\n",
        "    if n >1:\n",
        "        fact = n*recursive_factorial(n-1)\n",
        "        return fact\n",
        "    else:\n",
        "        return n\n",
        "    "
      ],
      "execution_count": null,
      "outputs": []
    },
    {
      "cell_type": "code",
      "metadata": {
        "id": "-T5K_cXi5par"
      },
      "source": [
        "print(\"4!: \",recursive_factorial(4))"
      ],
      "execution_count": null,
      "outputs": []
    },
    {
      "cell_type": "markdown",
      "metadata": {
        "id": "yLgaYKSq-yoc"
      },
      "source": [
        "___\n",
        "## **1.4 .METHODS()**"
      ]
    },
    {
      "cell_type": "markdown",
      "metadata": {
        "id": "H3FV0ztQ-2mm"
      },
      "source": [
        "Python is an object oriented language. An object is an abstract entity that contains \n",
        "some data and functions that can be applied to the data (Imagine a drawer (container) for socks (data) that has a built-in sock sorting machine (function)).   Functions that are applied directly to objects are called **methods**. In this section we'll learn how to apply methods to objects.  \n",
        "Many entities in Python are objects. For example, strings are objects as they contain some data, as for example \"hello world\", and they come with many functions that can be applied to the data. Let's have a look at an example:"
      ]
    },
    {
      "cell_type": "markdown",
      "metadata": {
        "id": "k7EErE7uwYr4"
      },
      "source": [
        "### **1.4.1 Example: methods to manipulate strings**"
      ]
    },
    {
      "cell_type": "code",
      "metadata": {
        "id": "1P-XaCi7_QgI"
      },
      "source": [
        "# here we create a simple variable that contains a sequence of symbols\n",
        "string = \"hello world\"\n",
        "# Python understands that this is what it would call a string, and allows you to apply methods\n",
        "# that are purpose-built for string manipulation:\n",
        "print(string.upper())\n",
        "print(string.capitalize())\n",
        "print(string.replace(' world',', nice to meet you'))\n",
        "listOfWords = string.split(' ')\n",
        "print(listOfWords)\n",
        "newString = ', '.join(listOfWords)\n",
        "print(newString)"
      ],
      "execution_count": null,
      "outputs": []
    },
    {
      "cell_type": "markdown",
      "metadata": {
        "id": "crIH7Usv_8T-"
      },
      "source": [
        "in contrast to functions, for which the syntax is *function(argument)*, methods are bound to objects. Thus, the syntax is *object.method(argument)*"
      ]
    },
    {
      "cell_type": "markdown",
      "metadata": {
        "id": "QWfolgywwldz"
      },
      "source": [
        "### **1.4.2 Methods are object specific!**"
      ]
    },
    {
      "cell_type": "markdown",
      "metadata": {
        "id": "3mPPCEK2AIvg"
      },
      "source": [
        "As methods are bound to a particular object type, you can't apply them to other objects. For instance, you can't capitalise numbers:"
      ]
    },
    {
      "cell_type": "code",
      "metadata": {
        "id": "rSlCxzm4AXl3"
      },
      "source": [
        "# let's create a variable that contains a number\n",
        "number = 0.5\n",
        "# Python realises that this is not a string, and therefore you're not able to capitalise it!\n",
        "number.capitalize()\n"
      ],
      "execution_count": null,
      "outputs": []
    },
    {
      "cell_type": "markdown",
      "metadata": {
        "id": "w4V1QmNHwsXo"
      },
      "source": [
        "### **1.4.3 How to figure out which methods are provided for a given object**"
      ]
    },
    {
      "cell_type": "markdown",
      "metadata": {
        "id": "b3k3rv7BAfIa"
      },
      "source": [
        "to see a list of all available methods, either press [TAB] after placing a dot behind an object, or use the following syntax"
      ]
    },
    {
      "cell_type": "code",
      "metadata": {
        "id": "UfXxkA0TAdUI"
      },
      "source": [
        "dir(str)"
      ],
      "execution_count": null,
      "outputs": []
    },
    {
      "cell_type": "code",
      "metadata": {
        "id": "kXOmSeJoA_7P"
      },
      "source": [
        "help(str.split)"
      ],
      "execution_count": null,
      "outputs": []
    },
    {
      "cell_type": "markdown",
      "metadata": {
        "id": "bB6MQJKAsfaI"
      },
      "source": [
        "### **Task: String Manipulation**\n",
        "You're given the following two strings:\n",
        "```python\n",
        "gibberish_1 = 'is much I can''t enough.'\n",
        "gibberish_2 = 'cOdinG sO FuN. JuST gEt '\n",
        "```\n",
        "* turn the strings into lists of words (use the .split method)\n",
        "* make sure that gibberish_2 contains only lower case letters (.lower() method)\n",
        "* create a new empty list ( assign [] to a variable)\n",
        "* loop through 5 steps and for each iteration, add pairs of words to your new empty list \n",
        "* turn the list into a string (use the ' '.join(list) method)\n",
        "* print the result"
      ]
    },
    {
      "cell_type": "code",
      "metadata": {
        "id": "01VtovFIuBms"
      },
      "source": [
        "gibberish_1 = 'is much I can''t enough.'\n",
        "gibberish_2 = 'cOdinG sO FuN. JuST gEt '\n",
        "\n",
        "# Your code goes here\n"
      ],
      "execution_count": null,
      "outputs": []
    },
    {
      "cell_type": "markdown",
      "metadata": {
        "id": "iMYT-1jkeA-D"
      },
      "source": [
        "# **PART2: PYTHON FOR SCIENTISTS: PACKAGES/LIBRARIES**"
      ]
    },
    {
      "cell_type": "markdown",
      "metadata": {
        "id": "KZ2ey4tieDtk"
      },
      "source": [
        "Some of the most powerful tools you'll use in Python are packages and libraries. These contain useful functions - from quite simple to more advanced ones. We'll go through a few basic examples today, but leave you with a list of libraries and packages to check out: \n",
        "\n",
        "- numpy \n",
        "- matplotlib\n",
        "- seaborn\n",
        "- scipy \n"
      ]
    },
    {
      "cell_type": "code",
      "metadata": {
        "id": "rJ2HS41meCVi"
      },
      "source": [
        "#You'll need to import every package you want to use. \n",
        "# This is not a one-time thing - you have to do it in each new Python notebook. \n",
        "# With time you'll have a pretty good sense of what packages you need \n",
        "#(and Stackoverflow to the rescue, always!). \n",
        "import numpy"
      ],
      "execution_count": null,
      "outputs": []
    },
    {
      "cell_type": "code",
      "metadata": {
        "id": "pZKg3nTiejs_"
      },
      "source": [
        "array = [2, 4, 6, 8, 10]\n",
        "\n",
        "averageOfArray = numpy.mean(array)\n",
        "print(averageOfArray)"
      ],
      "execution_count": null,
      "outputs": []
    },
    {
      "cell_type": "code",
      "metadata": {
        "id": "kCpKWnkQe24A"
      },
      "source": [
        "# Alternatively, you can use abbreviations - this is really handy. \n",
        "import numpy as np\n",
        "\n",
        "averageOfArray = np.mean(array)\n",
        "print(averageOfArray)"
      ],
      "execution_count": null,
      "outputs": []
    },
    {
      "cell_type": "code",
      "metadata": {
        "id": "7BrCkOThe_xC"
      },
      "source": [
        "# And, of course, you can print or use any of these directly, such as: \n",
        "print(np.mean(array))"
      ],
      "execution_count": null,
      "outputs": []
    },
    {
      "cell_type": "code",
      "metadata": {
        "id": "k5nXc37mfD1j"
      },
      "source": [
        "# Numpy is also powerful in prepopulating your arrays\n",
        "a = np.zeros((2))  \n",
        "print(a) \n",
        "\n",
        "print('') # space to separate outputs\n",
        "\n",
        "# or even something like if you need multiple dimensions\n",
        "b = np.ones((2, 2))\n",
        "print(b)\n",
        "\n",
        "print('')\n",
        "\n",
        "# you can also create an array filled with the same number of choice, something like \n",
        "x = 27.34 \n",
        "c = np.full((5), x)\n",
        "print(c)"
      ],
      "execution_count": null,
      "outputs": []
    },
    {
      "cell_type": "markdown",
      "metadata": {
        "id": "VK4ofpuvD3Dd"
      },
      "source": [
        "A few ways to visualize your data and important things to note "
      ]
    },
    {
      "cell_type": "code",
      "metadata": {
        "id": "96LwqG1WD0yC"
      },
      "source": [
        "# Let's start by plotting something quite simple using a line plot in matplotlib (remember to import this in every notebook)\n",
        "import matplotlib.pyplot as plt\n",
        "x = [1, 2, 3, 4, 5]\n",
        "y = [2, 5, 6, 11, 14]\n",
        "\n",
        "plt.plot(x, y, linestyle='--')"
      ],
      "execution_count": null,
      "outputs": []
    },
    {
      "cell_type": "code",
      "metadata": {
        "id": "7B1bcW2_AV-W"
      },
      "source": [
        "# Alternatively, styles can be spelled out as well (this is true for colors, etc.) \n",
        "plt.plot(x, y, linestyle='dashed', color = 'orange', linewidth = 8)\n"
      ],
      "execution_count": null,
      "outputs": []
    },
    {
      "cell_type": "code",
      "metadata": {
        "id": "pi6oGoDF_2KE"
      },
      "source": [
        "# You will rarely work with variables to plot that are this simple. \n",
        "# Instead, it makes sense to learn how to define your x axis as continuously \n",
        "# increasing so that you can plot your variable of interest on y-axis\n",
        "\n",
        "# Here we take advantage of numpy's functions linspace and sin.\n",
        "\n",
        "import numpy as np\n",
        "\n",
        "x = np.linspace(0, 10, 1000)\n",
        "\n",
        "plt.plot(x, np.sin(x), c = 'magenta', linewidth = 2.5)"
      ],
      "execution_count": null,
      "outputs": []
    },
    {
      "cell_type": "code",
      "metadata": {
        "id": "ZxKqAHg4ACrT"
      },
      "source": [
        "# It's likely you'll often want to look at a relationship between two variables. \n",
        "# You can do this simply by scattering them in matplotlib... \n",
        "\n",
        "x = [1, 2, 3, 4, 5, 1, 2, 3, 4, 5, 1, 2, 3, 4, 5]\n",
        "y = [2, 5, 6, 11, 14, 5, 2, 7, 8, 9, 1, 2, 3, 7, 3]\n",
        "\n",
        "plt.scatter(x, y, color = 'royalblue')\n"
      ],
      "execution_count": null,
      "outputs": []
    },
    {
      "cell_type": "code",
      "metadata": {
        "id": "mQT2wF7UAnPI"
      },
      "source": [
        "# Alternatively, some more powerful visualizations are available in seaborn. \n",
        "# Here, we plot the exact same as in the figure above, but denoting the line of best \n",
        "# fit for this data. \n",
        "\n",
        "import pandas as pd\n",
        "dataframe = pd.DataFrame({'x': x, \n",
        "                        'y': y})\n",
        "\n",
        "\n",
        "import seaborn as sns \n",
        "g = sns.lmplot('x', 'y', data = dataframe)"
      ],
      "execution_count": null,
      "outputs": []
    },
    {
      "cell_type": "code",
      "metadata": {
        "id": "BUwQ6z3iBFXF"
      },
      "source": [
        "# Want to know how related your variables are? \n",
        "# There are always multiple ways to do things in Python. Here is an example of \n",
        "# how even something as simple as a correlation between two variables can be calculated \n",
        "# using multiple packages. \n",
        "\n",
        "x = [1, 2, 3, 4, 5, 1, 2, 3, 4, 5, 1, 2, 3, 4, 5]\n",
        "y = [2, 5, 6, 11, 14, 5, 2, 7, 8, 9, 1, 2, 3, 7, 3]\n",
        "\n",
        "print('Correlation using numpy: ', np.corrcoef(x, y)[0][1])\n",
        "\n",
        "from scipy.stats import linregress\n",
        "print('Correlation using scipy: ', linregress(x, y)[2])"
      ],
      "execution_count": null,
      "outputs": []
    },
    {
      "cell_type": "markdown",
      "metadata": {
        "id": "7gm9sIZvgRMJ"
      },
      "source": [
        "## Task: Some visualization exercises \n",
        "So far in this class we've avoided using external datasets, but big data are hard to visualize with simulated sets. So, for th next few examples we'll ask you to play with an existing dataset for Python called Iris, which contains some flower feature data.\n",
        "\n",
        "This data is in a pandas dataframe, which means some of the functions that are most useful to work with it will be other pandas functions. Working with a dataset like this is a great example of a task that will require a bit of googling and pasting together bits of code other people have written or reading some documentation for functions you are interested in."
      ]
    },
    {
      "cell_type": "code",
      "metadata": {
        "id": "eY6ZtsrxgRrw"
      },
      "source": [
        "from sklearn import datasets\n",
        "import seaborn as sns \n",
        "\n",
        "iris = sns.load_dataset(\"iris\") #load the available data set \n",
        "iris.describe() #useful method for taking a look at your data\n"
      ],
      "execution_count": null,
      "outputs": []
    },
    {
      "cell_type": "code",
      "metadata": {
        "id": "rh_AGL0uu6Kz"
      },
      "source": [
        "# Let's have a look at the data. for 150 flowers, we have their sepal length/width, petal length/width and species. Neat!\n",
        "print(iris.shape)\n",
        "iris.head()\n"
      ],
      "execution_count": null,
      "outputs": []
    },
    {
      "cell_type": "markdown",
      "metadata": {
        "id": "6izgMqZ74JxD"
      },
      "source": [
        "###TASK: DATA PLOTTING \n",
        "Try to plot lengths against widths of the petals for all flower types. The kind of plot you'll want to use is most likely a scatterplot, so see if you can google your way to syntax that will take petal length and width as inputs for each datapoint. "
      ]
    },
    {
      "cell_type": "code",
      "metadata": {
        "id": "n7kAx99W4KJj"
      },
      "source": [
        "# Your code for task 1 goes here: \n"
      ],
      "execution_count": null,
      "outputs": []
    },
    {
      "cell_type": "markdown",
      "metadata": {
        "id": "iHPbqpAoD8sf"
      },
      "source": [
        "Now try to change your scatterplot code from the cell above to color different species of flowers differently. Hint: Seaborn is fancy, so it will call color \"hue\"... look for hue designations in scatterplot documentation for help. "
      ]
    },
    {
      "cell_type": "code",
      "metadata": {
        "id": "aHMZUgrkD6KZ"
      },
      "source": [
        "# Your code goes here\n",
        "\n"
      ],
      "execution_count": null,
      "outputs": []
    },
    {
      "cell_type": "markdown",
      "metadata": {
        "id": "ktAPt8hK4pGe"
      },
      "source": [
        "### TASK: DATA VISUALIZATIONS\n",
        "1. Try to plot all datapoints of petal lenghts by species in this dataset. What you want are little clusters of petal length values distributed by type of flower in your dataset. Hint: you might want to look at **swarmplots** using seaborn for this. \n"
      ]
    },
    {
      "cell_type": "code",
      "metadata": {
        "id": "3eXb5Sve4plK"
      },
      "source": [
        "# Your code for task 1 goes here: "
      ],
      "execution_count": null,
      "outputs": []
    },
    {
      "cell_type": "markdown",
      "metadata": {
        "id": "n-0qCFfNDzE8"
      },
      "source": [
        "\n",
        "2. When you are done with 1, try to plot means and standard deviations of petal lengths by species. Essentially, you are trying to create the exact same visualization as in the previous task, but now instead of seeing every data point you are interested in seeing the key values of your set - mean and stdev. Hint: you might want to look at **boxplots** using seaborn for this. "
      ]
    },
    {
      "cell_type": "code",
      "metadata": {
        "id": "vcltFqP8Dx9E"
      },
      "source": [
        "# Your code for task 2 goes here: \n"
      ],
      "execution_count": null,
      "outputs": []
    },
    {
      "cell_type": "code",
      "metadata": {
        "id": "X9_ywxJGJOj5"
      },
      "source": [
        "# PART3: OUTLOOK"
      ],
      "execution_count": null,
      "outputs": []
    },
    {
      "cell_type": "markdown",
      "metadata": {
        "id": "8-ask0HEc5An"
      },
      "source": [
        "We're now at the end of our little taster session. Good job!\n",
        "\n",
        "Most importantly: Don't worry if you feel a little bit overwhelmed. We covered quite a lot of material that is usually taught over several weeks. But this notebook is self-contained and will remain available online. Feel free to revisit it whenever you feel like learning more about Python or brushing up your skills!\n",
        "\n",
        "Also, there is no need to remember every single nitty gritty bit of a programming language. Even experts spend most of their time googling and searching stackoverflow.com for solutions to their problems. That's one of the great benefits of working with computers and being connected to the internet! A solution is always only a few clicks away.\n",
        "\n",
        "Below we've collected a few ressources that we think come in handy if you'd like to learn more.\n",
        "Thanks a lot for your attention!"
      ]
    },
    {
      "cell_type": "markdown",
      "metadata": {
        "id": "FYtC5QIVc5Ao"
      },
      "source": [
        "## Resources"
      ]
    },
    {
      "cell_type": "markdown",
      "metadata": {
        "id": "-91EL6_ic5Ap"
      },
      "source": [
        "#### Learn coding!\n",
        "1. A complete course https://www.learnpython.org\n",
        "2. Ditto https://www.w3schools.com/python/ \n",
        "3. Advanced Course https://automatetheboringstuff.com"
      ]
    },
    {
      "cell_type": "markdown",
      "metadata": {
        "id": "YFhb-Wdsc5Aq"
      },
      "source": [
        "#### How to install Python\n",
        "1. Just python\n",
        "https://www.codecademy.com/articles/install-python\n",
        "2. The Jupyter notebook (the thing you've been working with today)\n",
        "https://jupyter.org/install\n",
        "3. Anaconda (a collection of useful packages and other software for data scientists)\n",
        "https://www.anaconda.com/distribution/\n",
        "\n",
        "\n",
        "#### Text Editors\n",
        "Note: If you don't use notebooks, you'll need a text editor to writer your python code. Don't use Microsoft Word! You want something that automatically highlights code (makes it easier to distinguish variables, functions and the like), and provides autocompletion (saves a lot of time!). Below are a few free and popular choices:\n",
        "1. atom editor https://atom.io/\n",
        "2. vscode https://code.visualstudio.com/\n",
        "3. Sublime https://www.sublimetext.com/\n",
        "All thes editors support multiple programming languages. Thus no need to switch between programmes. I write my Python, Matlab, Javascript code and documentation in Markdown or Latex in Atom. Saves so much time!\n",
        "\n",
        "#### All in One Solutions\n",
        "You can also use an all in one solution that provides you with an editor, code interpreter (the thing that allows the computer to read and execute python code) and file managers. A bit like the Matlab software or R-Studio, which you might have heard of, but for python:\n",
        "\n",
        "1. Spyder (free) https://www.spyder-ide.org/\n",
        "2. Pycharm (free basic and commercial pro version) https://www.jetbrains.com/pycharm/"
      ]
    },
    {
      "cell_type": "markdown",
      "metadata": {
        "id": "_0DgFnrsc5Aq"
      },
      "source": [
        "#### Coding Challenges\n",
        "These challenges are a great way to test your understanding of computer\n",
        "science concepts and improve your logical thinking / problem solving skills.\n",
        "Also good to know: Almost every company uses these to assess candidates for software engineering / data science positions \n",
        "1. Hackerrank https://www.hackerrank.com/ \n",
        "2. Leetcode https://leetcode.com "
      ]
    },
    {
      "cell_type": "markdown",
      "metadata": {
        "id": "2eoVoR7oc5Ar"
      },
      "source": [
        "#### Python for Psychologists\n",
        "You can use python add-ons to run your own experiments, analyse behavioural, eye-tracking and neuroimaging data\n",
        "and to make beautiful visualisations of your results.\n",
        "Below are a few pointers \n",
        "https://www.marsja.se/best-python-libraries-psychology/ "
      ]
    },
    {
      "cell_type": "code",
      "metadata": {
        "id": "UGaTxOnac5As"
      },
      "source": [
        ""
      ],
      "execution_count": null,
      "outputs": []
    }
  ]
}