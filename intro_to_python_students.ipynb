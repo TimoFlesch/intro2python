{
  "nbformat": 4,
  "nbformat_minor": 0,
  "metadata": {
    "colab": {
      "name": "intro_to_python_students.ipynb",
      "provenance": [],
      "collapsed_sections": [
        "27GJWJouueMT"
      ]
    },
    "kernelspec": {
      "name": "python3",
      "display_name": "Python 3"
    }
  },
  "cells": [
    {
      "cell_type": "markdown",
      "metadata": {
        "id": "OW_kXbq5J6Ek",
        "colab_type": "text"
      },
      "source": [
        "# **PART 1: PYTHON - A (VERY) SHORT INTRODUCTION**"
      ]
    },
    {
      "cell_type": "markdown",
      "metadata": {
        "id": "SAB59OcIvw_n",
        "colab_type": "text"
      },
      "source": [
        "Today you'll learn the basics of programming in Python. We use a so-called *Python notebook*. the notebook consists of two types of cells, those that contain text, like the one you're reading right now, and those that contain python code.   \n",
        "Below is an example of a cell with Python code. When we click on a cell with code and either press [SHIFT] + [ENTER] or click on the (RUN) button above, we tell the computer to interpret the commands which means that it turns the Python code into actions we want it to execute."
      ]
    },
    {
      "cell_type": "code",
      "metadata": {
        "id": "jzXA8DuCwaM8",
        "colab_type": "code",
        "outputId": "253d170d-4cb4-42db-9636-3f9a50dc9950",
        "colab": {
          "base_uri": "https://localhost:8080/",
          "height": 35
        }
      },
      "source": [
        "print(\"hello world\")"
      ],
      "execution_count": 31,
      "outputs": [
        {
          "output_type": "stream",
          "text": [
            "hello world\n"
          ],
          "name": "stdout"
        }
      ]
    },
    {
      "cell_type": "markdown",
      "metadata": {
        "id": "ydFDepGcwdOg",
        "colab_type": "text"
      },
      "source": [
        "As you can see, we instructed the computer to \"print\" a string of letters.\n",
        "Don't worry too much about the syntax right now, later we'll go through this step by step!"
      ]
    },
    {
      "cell_type": "markdown",
      "metadata": {
        "id": "2kBA_M83Z1Ld",
        "colab_type": "text"
      },
      "source": [
        "## **1.1 VARIABLES**"
      ]
    },
    {
      "cell_type": "markdown",
      "metadata": {
        "id": "M9vSHfxauLc2",
        "colab_type": "text"
      },
      "source": [
        "Variables are used to store information that can later be referenced and manipulated by your computer program. It's helpful to think of variables as containers for information. For example, imagine you build a drawer and put socks in it. In this case, the drawer would be a variable and the socks we put in would correspond to its value(s). When you reference the variable, i.e. open the drawer, you'll find socks in there. "
      ]
    },
    {
      "cell_type": "code",
      "metadata": {
        "id": "egLUcRqJxA6I",
        "colab_type": "code",
        "outputId": "6c8648c6-14ec-43e8-d570-2c10914499ee",
        "colab": {
          "base_uri": "https://localhost:8080/",
          "height": 35
        }
      },
      "source": [
        "# this is a comment, Everything preceeded by a hash symbol (#) is ignored by \n",
        "# the computer. This allows you to add comments/notes/documentation to your \n",
        "# Python programme.\n",
        "\n",
        "# let's create a drawer with socks\n",
        "drawer = \"socks\"\n",
        "\n",
        "# let's have a look what's inside the drawer\n",
        "drawer"
      ],
      "execution_count": 32,
      "outputs": [
        {
          "output_type": "execute_result",
          "data": {
            "text/plain": [
              "'socks'"
            ]
          },
          "metadata": {
            "tags": []
          },
          "execution_count": 32
        }
      ]
    },
    {
      "cell_type": "markdown",
      "metadata": {
        "id": "1oP3m5C0KfcQ",
        "colab_type": "text"
      },
      "source": [
        "### **1.1.1 Assign Values to Variables**"
      ]
    },
    {
      "cell_type": "markdown",
      "metadata": {
        "id": "HaxWZWrSvSGF",
        "colab_type": "text"
      },
      "source": [
        "Variables would be useless if you couldn't assign values to them. Python is able to handle all sorts of different datatypes, such as numbers, strings (=sequences of letters and symbols) and lists of numbers/letters. Below are a few examples"
      ]
    },
    {
      "cell_type": "code",
      "metadata": {
        "id": "ZMR0QXM8ZfOu",
        "colab_type": "code",
        "colab": {}
      },
      "source": [
        "variable1 = 5 \n",
        "variable2 = 7\n",
        "variable3 = -2.563\n",
        "variable4 = 'Hello World'\n",
        "variable5 = [1,2, 'Tomato',0,'???']\n"
      ],
      "execution_count": 0,
      "outputs": []
    },
    {
      "cell_type": "markdown",
      "metadata": {
        "id": "ToKYNDaAyPsW",
        "colab_type": "text"
      },
      "source": [
        "Let's check out what's inside these variables"
      ]
    },
    {
      "cell_type": "code",
      "metadata": {
        "id": "Ixn2V250ySMu",
        "colab_type": "code",
        "outputId": "4139723f-df6e-4287-9b80-b90815cadb48",
        "colab": {
          "base_uri": "https://localhost:8080/",
          "height": 35
        }
      },
      "source": [
        "variable5"
      ],
      "execution_count": 34,
      "outputs": [
        {
          "output_type": "execute_result",
          "data": {
            "text/plain": [
              "[1, 2, 'Tomato', 0, '???']"
            ]
          },
          "metadata": {
            "tags": []
          },
          "execution_count": 34
        }
      ]
    },
    {
      "cell_type": "markdown",
      "metadata": {
        "id": "ZtWQb84byXEm",
        "colab_type": "text"
      },
      "source": [
        "**Important!!** Variable names are somewhat arbitrary. But try to give your variables sensible names that explain what kind of information they hold (remember the drawer example above). This prevents a lot of confusion when you come back to code you've written weeks/months ago!"
      ]
    },
    {
      "cell_type": "markdown",
      "metadata": {
        "id": "o5th5t33Zyut",
        "colab_type": "text"
      },
      "source": [
        "### **1.1.2 Operations using defined variables**\n"
      ]
    },
    {
      "cell_type": "markdown",
      "metadata": {
        "id": "yOg3z730yyrF",
        "colab_type": "text"
      },
      "source": [
        "What makes programming languages so powerful is their ability to perform various operations on the variables you have defined. In this section, you'll learn a few of those!"
      ]
    },
    {
      "cell_type": "markdown",
      "metadata": {
        "id": "lK9eXsq_LDs_",
        "colab_type": "text"
      },
      "source": [
        "#### **Basic addition & subtraction**"
      ]
    },
    {
      "cell_type": "markdown",
      "metadata": {
        "id": "mvNvJOcRiO7B",
        "colab_type": "text"
      },
      "source": [
        "Let's write a program that adds two of the variables we have defined above:"
      ]
    },
    {
      "cell_type": "code",
      "metadata": {
        "id": "2_X2OvzSZ4hc",
        "colab_type": "code",
        "outputId": "a75fc39f-31c0-4180-b3cf-4f9215dc197f",
        "colab": {
          "base_uri": "https://localhost:8080/",
          "height": 35
        }
      },
      "source": [
        "variable1 + variable2 "
      ],
      "execution_count": 35,
      "outputs": [
        {
          "output_type": "execute_result",
          "data": {
            "text/plain": [
              "12"
            ]
          },
          "metadata": {
            "tags": []
          },
          "execution_count": 35
        }
      ]
    },
    {
      "cell_type": "markdown",
      "metadata": {
        "id": "s4KDNWcIaeEH",
        "colab_type": "text"
      },
      "source": [
        "You can conduct basic math directly in-line, but if you need more than one operation to run, you'll want to assign them to variables:\n"
      ]
    },
    {
      "cell_type": "code",
      "metadata": {
        "id": "rKPxwjW9adGK",
        "colab_type": "code",
        "colab": {}
      },
      "source": [
        "sum_of_two = variable1 + variable2\n",
        "difference = variable1 - variable2\n",
        "difference2 = difference - variable3"
      ],
      "execution_count": 0,
      "outputs": []
    },
    {
      "cell_type": "markdown",
      "metadata": {
        "id": "kbPxKxvvLLtW",
        "colab_type": "text"
      },
      "source": [
        "Notice how the results of these operations were not automatically displayed in the command line. This is desired behaviour of any programming language. Imagine that you have a very long and complicated script full of mathematical operations, but are only interested in the end result. It would be a nightmare if each and every intermediate result was displayed in the command line.."
      ]
    },
    {
      "cell_type": "markdown",
      "metadata": {
        "id": "-QqXgNiXLsvY",
        "colab_type": "text"
      },
      "source": [
        "To display specific variables (and some text) in the command line, use the **print** statement.  \n",
        "The print statement is a **function**. As in maths, functions take some value as input, apply a transformation and return the result of this transformation as output. In case of the print statement, it takes strings of characters and variables as input, and - as the name suggests - \"prints\" the result to the command line (in our case the space below a cell with Python code). We'll learn more about functions later in the course.  \n",
        "As you can see in the example below, the print function accepts all sorts of different input formats. Choose the one that works best for you!"
      ]
    },
    {
      "cell_type": "code",
      "metadata": {
        "id": "WIhvjpB0LNx5",
        "colab_type": "code",
        "outputId": "a15f1962-52b7-4083-fb5e-6d365bb1cc9d",
        "colab": {
          "base_uri": "https://localhost:8080/",
          "height": 90
        }
      },
      "source": [
        "# one variable\n",
        "print(difference2) \n",
        "# multiple variables can be separated by a comma\n",
        "print(sum_of_two, difference)\n",
        "\n",
        "# we can also construct a string by concatenating text and numbers (that we have turned into strings)\n",
        "print('Sum of int1 and int2 is ' + str(sum_of_two) + ' and difference between them is ' + str(difference))\n",
        "\n",
        "# you can also use {} as placeholders and use the format method to feed values into the placeholders\n",
        "print('Sum of int1 and int2 is {}, and differene between them is {}'.format(sum_of_two, difference))"
      ],
      "execution_count": 37,
      "outputs": [
        {
          "output_type": "stream",
          "text": [
            "0.5630000000000002\n",
            "12 -2\n",
            "Sum of int1 and int2 is 12 and difference between them is -2\n",
            "Sum of int1 and int2 is 12, and differene between them is -2\n"
          ],
          "name": "stdout"
        }
      ]
    },
    {
      "cell_type": "code",
      "metadata": {
        "id": "7irA9yDHf25y",
        "colab_type": "code",
        "colab": {
          "base_uri": "https://localhost:8080/",
          "height": 244
        },
        "outputId": "11585c35-1ede-402c-a820-c811c6cc5f13"
      },
      "source": [
        "# in case you were confused: Python distinguished between different types of variables. \n",
        "# If we assign a number to a variable, Python will assume that it's a number.\n",
        "# If we put the number into quotation marks, it will assume it's a character (= letter on your keyboard) and can't do maths with it.\n",
        "# \"+\" between numbers adds them up. \"+\" between strings/characters concatenates them\n",
        "five_num = 5\n",
        "five_str = '5' # this is equal to str(five_num)\n",
        "one_num = 1\n",
        "one_str = '1'\n",
        "print(five_num + one_num)\n",
        "print(five_str + one_str)\n",
        "print(five_num + five_str)\n"
      ],
      "execution_count": 38,
      "outputs": [
        {
          "output_type": "stream",
          "text": [
            "6\n",
            "51\n"
          ],
          "name": "stdout"
        },
        {
          "output_type": "error",
          "ename": "TypeError",
          "evalue": "ignored",
          "traceback": [
            "\u001b[0;31m---------------------------------------------------------------------------\u001b[0m",
            "\u001b[0;31mTypeError\u001b[0m                                 Traceback (most recent call last)",
            "\u001b[0;32m<ipython-input-38-049f658627d8>\u001b[0m in \u001b[0;36m<module>\u001b[0;34m()\u001b[0m\n\u001b[1;32m      5\u001b[0m \u001b[0mprint\u001b[0m\u001b[0;34m(\u001b[0m\u001b[0mfive_num\u001b[0m \u001b[0;34m+\u001b[0m \u001b[0mone_num\u001b[0m\u001b[0;34m)\u001b[0m\u001b[0;34m\u001b[0m\u001b[0;34m\u001b[0m\u001b[0m\n\u001b[1;32m      6\u001b[0m \u001b[0mprint\u001b[0m\u001b[0;34m(\u001b[0m\u001b[0mfive_str\u001b[0m \u001b[0;34m+\u001b[0m \u001b[0mone_str\u001b[0m\u001b[0;34m)\u001b[0m\u001b[0;34m\u001b[0m\u001b[0;34m\u001b[0m\u001b[0m\n\u001b[0;32m----> 7\u001b[0;31m \u001b[0mprint\u001b[0m\u001b[0;34m(\u001b[0m\u001b[0mfive_num\u001b[0m \u001b[0;34m+\u001b[0m \u001b[0mfive_str\u001b[0m\u001b[0;34m)\u001b[0m\u001b[0;34m\u001b[0m\u001b[0;34m\u001b[0m\u001b[0m\n\u001b[0m",
            "\u001b[0;31mTypeError\u001b[0m: unsupported operand type(s) for +: 'int' and 'str'"
          ]
        }
      ]
    },
    {
      "cell_type": "markdown",
      "metadata": {
        "id": "Pgabp9RzsrNr",
        "colab_type": "text"
      },
      "source": [
        "#### **Basic Multiplication and Division**\n"
      ]
    },
    {
      "cell_type": "markdown",
      "metadata": {
        "id": "L3MZkPW_PN_l",
        "colab_type": "text"
      },
      "source": [
        "Imagine how limited a programming language would be, if you couldn't perform multiplication and division. Luckily, Python has you covered! "
      ]
    },
    {
      "cell_type": "code",
      "metadata": {
        "id": "WxSrtwJBs2-o",
        "colab_type": "code",
        "outputId": "739dbdaf-cedf-4fc8-f259-21db3cef5427",
        "colab": {
          "base_uri": "https://localhost:8080/",
          "height": 72
        }
      },
      "source": [
        "int1 = 20\n",
        "int2 = 6\n",
        "product_of_two = int1 * int2\n",
        "quotient_of_two = int1 / int2\n",
        "modulo_of_two = int1 % int2\n",
        "print('Product of int1 and int2 is {}'.format(product_of_two))\n",
        "print('Dividing int1 by int2 yields {} '.format(quotient_of_two))\n",
        "print('The remainder after dividing int1 by int2 is {} '.format(modulo_of_two))\n"
      ],
      "execution_count": 39,
      "outputs": [
        {
          "output_type": "stream",
          "text": [
            "Product of int1 and int2 is 120\n",
            "Dividing int1 by int2 yields 3.3333333333333335 \n",
            "The remainder after dividing int1 by int2 is 2 \n"
          ],
          "name": "stdout"
        }
      ]
    },
    {
      "cell_type": "markdown",
      "metadata": {
        "id": "WCx7ErfxwZps",
        "colab_type": "text"
      },
      "source": [
        "#### **Exponentiation**"
      ]
    },
    {
      "cell_type": "markdown",
      "metadata": {
        "id": "h8-uqyUxPio7",
        "colab_type": "text"
      },
      "source": [
        "And of course, you can also perform exponentiation!"
      ]
    },
    {
      "cell_type": "code",
      "metadata": {
        "id": "FVpMEi2Cu6DH",
        "colab_type": "code",
        "outputId": "d73b2b48-7972-4aa7-8302-cfebe64e9e57",
        "colab": {
          "base_uri": "https://localhost:8080/",
          "height": 72
        }
      },
      "source": [
        "base_1 = 2\n",
        "base_2 = 9\n",
        "exponent_1 = 4\n",
        "exponent_2 = -1\n",
        "exponent_3 = 0.5\n",
        "result_1 = base_1**exponent_1\n",
        "result_2 = base_1**exponent_2\n",
        "result_3 = base_2**exponent_3\n",
        "print('2^4= ' + str(result_1))\n",
        "print('2^-1 = 1/2 = ' + str(result_2))\n",
        "print('9^0.5 = square root of 9 =  ' + str(result_3))\n"
      ],
      "execution_count": 40,
      "outputs": [
        {
          "output_type": "stream",
          "text": [
            "2^4= 16\n",
            "2^-1 = 1/2 = 0.5\n",
            "9^0.5 = square root of 9 =  3.0\n"
          ],
          "name": "stdout"
        }
      ]
    },
    {
      "cell_type": "markdown",
      "metadata": {
        "id": "3MeFp6c1QSYK",
        "colab_type": "text"
      },
      "source": [
        "#### **Logical Operators**"
      ]
    },
    {
      "cell_type": "markdown",
      "metadata": {
        "id": "hfFV1yhqRgfB",
        "colab_type": "text"
      },
      "source": [
        "In programming you very often need to know whether a statement is  true or false. This can be achieved with Boolean variables, which you'll find become very handy over time:"
      ]
    },
    {
      "cell_type": "code",
      "metadata": {
        "id": "478GGuOpRvtf",
        "colab_type": "code",
        "outputId": "d87d6262-7a10-499f-c8bf-2abb9dea96e0",
        "colab": {
          "base_uri": "https://localhost:8080/",
          "height": 108
        }
      },
      "source": [
        "bool1 = True\n",
        "bool2 = False \n",
        "print(bool1)\n",
        "print(bool2)\n",
        "print(bool1 and bool2)\n",
        "print(bool1 or bool2)\n",
        "print(bool1 and not bool2)"
      ],
      "execution_count": 41,
      "outputs": [
        {
          "output_type": "stream",
          "text": [
            "True\n",
            "False\n",
            "False\n",
            "True\n",
            "True\n"
          ],
          "name": "stdout"
        }
      ]
    },
    {
      "cell_type": "markdown",
      "metadata": {
        "id": "4-mgaaRJSLik",
        "colab_type": "text"
      },
      "source": [
        "More frequently, you will be able to check whether relationships between variables are true or false or do something conditionally based on whether a statement is true (see below):"
      ]
    },
    {
      "cell_type": "code",
      "metadata": {
        "id": "5x-bbukLSZeu",
        "colab_type": "code",
        "outputId": "05733f86-2225-4da4-9466-4efe4a41639a",
        "colab": {
          "base_uri": "https://localhost:8080/",
          "height": 90
        }
      },
      "source": [
        "print(5 < 6)\n",
        "print(6 >= 5)\n",
        "print(5 != 10/2)\n",
        "print('hello' != 'world')"
      ],
      "execution_count": 42,
      "outputs": [
        {
          "output_type": "stream",
          "text": [
            "True\n",
            "True\n",
            "False\n",
            "True\n"
          ],
          "name": "stdout"
        }
      ]
    },
    {
      "cell_type": "markdown",
      "metadata": {
        "id": "gdtGeau7SoJR",
        "colab_type": "text"
      },
      "source": [
        "Logical operators are very powerful. For instance, you can test whether a variable lies within a certain interval:"
      ]
    },
    {
      "cell_type": "code",
      "metadata": {
        "id": "T_aP4ZQXS38J",
        "colab_type": "code",
        "outputId": "1459c65f-9aa7-48da-d258-355f6d4991b0",
        "colab": {
          "base_uri": "https://localhost:8080/",
          "height": 54
        }
      },
      "source": [
        "int1 = 10\n",
        "print(int1 < 12 and int1 > 9)\n",
        "print( 9 < int1 < 12)"
      ],
      "execution_count": 43,
      "outputs": [
        {
          "output_type": "stream",
          "text": [
            "True\n",
            "True\n"
          ],
          "name": "stdout"
        }
      ]
    },
    {
      "cell_type": "markdown",
      "metadata": {
        "id": "PGuGYduxaz_w",
        "colab_type": "text"
      },
      "source": [
        "### **TASK: Define variables and write code to...**\n",
        "1. Calculate square root of 25, 144 and 289 \n",
        "2. Translate the following into Python\n",
        "  - assign numbers between 1 and 100 to 3 different variables\n",
        "  - add up your 3 variables and print whether the sum is bigger than 100\n",
        "\n",
        "**Hints**:\n",
        "* You can either use a built-in function (sqrt(x)), or perform clever exponentiation (what does x^0.5 do to x?)\n",
        "* look at the section on logical operators if you're stuck!\n",
        "\n"
      ]
    },
    {
      "cell_type": "code",
      "metadata": {
        "id": "rbGcv16raibA",
        "colab_type": "code",
        "colab": {}
      },
      "source": [
        "# Your code for example 1 here \n",
        "# SAMPLE SOLUTION: \n",
        "# print(sqrt(25))\n",
        "# print(144**.5)\n",
        "# print(sqrt(289))"
      ],
      "execution_count": 0,
      "outputs": []
    },
    {
      "cell_type": "code",
      "metadata": {
        "id": "lqXbdrZJb54j",
        "colab_type": "code",
        "colab": {}
      },
      "source": [
        "# Your code for example 2 here \n",
        "# SAMPLE SOLUTION\n",
        "# var1 = 20\n",
        "# var2 = 66\n",
        "# var3 = 2\n",
        "# print((var1 + var2 + var3) > 100)"
      ],
      "execution_count": 0,
      "outputs": []
    },
    {
      "cell_type": "markdown",
      "metadata": {
        "id": "RUnpVcD6btev",
        "colab_type": "text"
      },
      "source": [
        "## **1.2 LOOPS and STATEMENTS**"
      ]
    },
    {
      "cell_type": "markdown",
      "metadata": {
        "id": "kRL1dl7BzmZQ",
        "colab_type": "text"
      },
      "source": [
        "Loops allow you to execute the same operation multiple times, but with a different type of input on each iteration.  \n",
        "Statement allow you to structure your code, and have the computer care about certain bits only if conditions you specify are met.  \n",
        "In this section, we'll learn more about both"
      ]
    },
    {
      "cell_type": "markdown",
      "metadata": {
        "id": "snpzo10LhuP_",
        "colab_type": "text"
      },
      "source": [
        "### **1.2.1 While Loops**"
      ]
    },
    {
      "cell_type": "markdown",
      "metadata": {
        "id": "_1p_5qfZh_Ej",
        "colab_type": "text"
      },
      "source": [
        "Use while loops whenever you need to apply an operation multiple times, but don't know exactly how many iterations are needed:"
      ]
    },
    {
      "cell_type": "code",
      "metadata": {
        "id": "ZwpYDFl6iL2y",
        "colab_type": "code",
        "outputId": "ddf837cb-5aad-4110-f358-b115664604ee",
        "colab": {
          "base_uri": "https://localhost:8080/",
          "height": 126
        }
      },
      "source": [
        "# WHILE loops\n",
        "x = 500\n",
        "while x > 10:\n",
        "  print(str(x))\n",
        "  x = x // 2\n"
      ],
      "execution_count": 46,
      "outputs": [
        {
          "output_type": "stream",
          "text": [
            "500\n",
            "250\n",
            "125\n",
            "62\n",
            "31\n",
            "15\n"
          ],
          "name": "stdout"
        }
      ]
    },
    {
      "cell_type": "markdown",
      "metadata": {
        "id": "lKXrCp-TLmOW",
        "colab_type": "text"
      },
      "source": [
        "### **1.2.2 For Loops**"
      ]
    },
    {
      "cell_type": "markdown",
      "metadata": {
        "id": "HsL51e_xMPYI",
        "colab_type": "text"
      },
      "source": [
        "For loops come in handy whenever you need to apply a function to each item of a\n",
        "(potentially very long) list, and you know exactly how many iterations you need:\n",
        "(note for the pros: all for loops in python are actually for-each loops)"
      ]
    },
    {
      "cell_type": "code",
      "metadata": {
        "id": "RHHklUPmbOj8",
        "colab_type": "code",
        "outputId": "f0849fa4-44af-452b-974c-057815821481",
        "colab": {
          "base_uri": "https://localhost:8080/",
          "height": 126
        }
      },
      "source": [
        "# FOR loops \n",
        "\n",
        "modules = [\"cognitive\", \"developmental\", \"neuro\", \"clinical\", \"social\", \"computational\"]\n",
        "for x in modules:\n",
        "  print(x)"
      ],
      "execution_count": 47,
      "outputs": [
        {
          "output_type": "stream",
          "text": [
            "cognitive\n",
            "developmental\n",
            "neuro\n",
            "clinical\n",
            "social\n",
            "computational\n"
          ],
          "name": "stdout"
        }
      ]
    },
    {
      "cell_type": "markdown",
      "metadata": {
        "id": "MSfT3btSMAwc",
        "colab_type": "text"
      },
      "source": [
        "### **1.2.3 If...Then Conditionals**"
      ]
    },
    {
      "cell_type": "markdown",
      "metadata": {
        "id": "lBSojpjp0X9V",
        "colab_type": "text"
      },
      "source": [
        "Before we talk about if..then conditionals, let's first learn something new!\n",
        "the len() command counts the number if symbols in a list.\n",
        "Example:\n"
      ]
    },
    {
      "cell_type": "code",
      "metadata": {
        "id": "p0CvFZTZ0ebY",
        "colab_type": "code",
        "outputId": "b70d05e8-aee6-4f1b-ce56-ab58476a5930",
        "colab": {
          "base_uri": "https://localhost:8080/",
          "height": 54
        }
      },
      "source": [
        "# let's count how many numbers are in this list\n",
        "print(len([4,5,5,2,1]))\n",
        "# Note that it also works with strings (which are essentially lists of symbols)\n",
        "print(len('hello world'))"
      ],
      "execution_count": 48,
      "outputs": [
        {
          "output_type": "stream",
          "text": [
            "5\n",
            "11\n"
          ],
          "name": "stdout"
        }
      ]
    },
    {
      "cell_type": "markdown",
      "metadata": {
        "id": "SB7x5emzM78i",
        "colab_type": "text"
      },
      "source": [
        "Programming is all about case-specific processing. Use if..then statements \n",
        "to process inputs depending on conditions you have specified:"
      ]
    },
    {
      "cell_type": "code",
      "metadata": {
        "id": "FpXo3d-dcGWn",
        "colab_type": "code",
        "outputId": "2c4a8d4e-e54f-4003-9b56-1462d8369bbc",
        "colab": {
          "base_uri": "https://localhost:8080/",
          "height": 35
        }
      },
      "source": [
        "# IF...THEN statements \n",
        "\n",
        "\n",
        "favoriteModule = \"computational\"\n",
        "firstModule = \"social\"\n",
        "\n",
        "if len(firstModule) < len(favoriteModule): \n",
        "  print('These modules are of different lengths!')\n",
        "elif len(firstModule) == len(favoriteModule): \n",
        "  print('These modules are of same lengths!')\n"
      ],
      "execution_count": 49,
      "outputs": [
        {
          "output_type": "stream",
          "text": [
            "These modules are of different lengths!\n"
          ],
          "name": "stdout"
        }
      ]
    },
    {
      "cell_type": "markdown",
      "metadata": {
        "id": "yQMQq9RRLduW",
        "colab_type": "text"
      },
      "source": [
        "Very commonly in coding practice you'll find that you want to check multiple conditions before doing something with your variables. Python is easy when it comes to this - just tell it whether you want to use 'and' or 'or' or a different logical connector. \n",
        "\n",
        "[Link to a good starting point on Boolean operators in Python ](https://https://docs.python.org/2.0/ref/lambda.html)"
      ]
    },
    {
      "cell_type": "code",
      "metadata": {
        "id": "UeAXZzvUc8le",
        "colab_type": "code",
        "outputId": "c70460ee-e408-4454-f364-1fd8eed3d90f",
        "colab": {
          "base_uri": "https://localhost:8080/",
          "height": 54
        }
      },
      "source": [
        "a = 200\n",
        "b = 33\n",
        "c = 500\n",
        "if a > b and c > a:\n",
        "  print('Both conditions are true!')\n",
        "else: \n",
        "  print('Both conditions are not true!')\n",
        "  \n",
        "  \n",
        "if a > b or a > c:\n",
        "  print('At least one of the conditions is true!')\n"
      ],
      "execution_count": 50,
      "outputs": [
        {
          "output_type": "stream",
          "text": [
            "Both conditions are true!\n",
            "At least one of the conditions is true!\n"
          ],
          "name": "stdout"
        }
      ]
    },
    {
      "cell_type": "markdown",
      "metadata": {
        "id": "rkpr5XvjcKwV",
        "colab_type": "text"
      },
      "source": [
        "### **TASK: Write your own for loop and if/then statement**\n",
        "\n",
        "Given \n",
        "\n",
        "```\n",
        " modules = [\"cognitive\", \"developmental\", \"neuro\", \"clinical\", \"social\", \"computational\"]\n",
        " comparisonVariable = \"introductory\"\n",
        "\n",
        "```\n",
        "\n",
        "\n",
        " \n",
        "Determine whether any of the modules have names that are longer than the comparison variable."
      ]
    },
    {
      "cell_type": "code",
      "metadata": {
        "id": "cwYlwrZGcI46",
        "colab_type": "code",
        "colab": {}
      },
      "source": [
        "modules = [\"cognitive\", \"developmental\", \"neuro\", \"clinical\", \"social\", \"computational\"]\n",
        "comparisonVariable = \"introductory\"\n",
        "\n",
        "# Your code here\n",
        "# SAMPLE SOLUTION\n",
        "# anyNameLonger = False\n",
        "# for mod in modules:\n",
        "#   if len(mod) > len(comparisonVariable):\n",
        "#     anyNameLonger = True\n",
        "# print(anyNameLonger)"
      ],
      "execution_count": 0,
      "outputs": []
    },
    {
      "cell_type": "markdown",
      "metadata": {
        "id": "mzr0TpU0w7kz",
        "colab_type": "text"
      },
      "source": [
        "## **1.3 FUNCTIONS**"
      ]
    },
    {
      "cell_type": "markdown",
      "metadata": {
        "id": "SSpSOOeGw7y7",
        "colab_type": "text"
      },
      "source": [
        "### **1.3.1 Introduction to Functions**"
      ]
    },
    {
      "cell_type": "markdown",
      "metadata": {
        "id": "IGEpBh8U4th_",
        "colab_type": "text"
      },
      "source": [
        "Functions are nothing new. You have already worked with them in the previous exercises!\n",
        "\n",
        "Here are some examples...\n",
        "\n"
      ]
    },
    {
      "cell_type": "code",
      "metadata": {
        "id": "DDjZgAnt43KP",
        "colab_type": "code",
        "outputId": "233481dd-bb4c-4801-889c-eff9b185bbe6",
        "colab": {
          "base_uri": "https://localhost:8080/",
          "height": 72
        }
      },
      "source": [
        "print(\"hello world\")\n",
        "print(\"2*3:\",2*3)\n",
        "print(len(\"hello world\"))"
      ],
      "execution_count": 52,
      "outputs": [
        {
          "output_type": "stream",
          "text": [
            "hello world\n",
            "2*3: 6\n",
            "11\n"
          ],
          "name": "stdout"
        }
      ]
    },
    {
      "cell_type": "markdown",
      "metadata": {
        "id": "JmJxHvCw5DYD",
        "colab_type": "text"
      },
      "source": [
        "What makes coding so great, is that you're able to write your own functions! Whenever you identify a recurring task in your workflow, consider writing a function instead of copying & pasting code over and over again:"
      ]
    },
    {
      "cell_type": "code",
      "metadata": {
        "id": "7b3xPktW6Y-k",
        "colab_type": "code",
        "outputId": "9fac29c4-c3eb-4922-dce3-c0d0a70e7984",
        "colab": {
          "base_uri": "https://localhost:8080/",
          "height": 72
        }
      },
      "source": [
        "# naive approach for testing parity of several numbers:\n",
        "if 3 % 2 == 0:\n",
        "  print('{} is even'.format(3))\n",
        "else:\n",
        "  print('{} is odd'.format(3))\n",
        "  \n",
        "if 2 % 2 == 0:\n",
        "  print('{} is even'.format(2))\n",
        "else:\n",
        "  print('{} is odd'.format(2))\n",
        "  \n",
        "if 11 % 2 == 0:\n",
        "  print('{} is even'.format(11))\n",
        "else:\n",
        "  print('{} is odd'.format(11))"
      ],
      "execution_count": 53,
      "outputs": [
        {
          "output_type": "stream",
          "text": [
            "3 is odd\n",
            "2 is even\n",
            "11 is odd\n"
          ],
          "name": "stdout"
        }
      ]
    },
    {
      "cell_type": "markdown",
      "metadata": {
        "id": "UQTXRi0dN83D",
        "colab_type": "text"
      },
      "source": [
        "In the example above, we tested whether several numbers are odd or even.\n",
        "Instead of repeating the same if..then construct over and over again, we can \n",
        "put it in a neat little function:"
      ]
    },
    {
      "cell_type": "code",
      "metadata": {
        "id": "lWLm6V4m5u2F",
        "colab_type": "code",
        "colab": {}
      },
      "source": [
        "# let's write a function that does the work for us!\n",
        "def return_parity(n):\n",
        "  result = str(n) + ' is'\n",
        "  if n % 2 == 0:\n",
        "    return result + ' even'\n",
        "  else:\n",
        "    return result + ' odd'\n",
        "  "
      ],
      "execution_count": 0,
      "outputs": []
    },
    {
      "cell_type": "markdown",
      "metadata": {
        "id": "JyICkQ5pOL4s",
        "colab_type": "text"
      },
      "source": [
        "Now we can simply apply the function to each of the numbers we're interested in"
      ]
    },
    {
      "cell_type": "code",
      "metadata": {
        "id": "YumornB_5-se",
        "colab_type": "code",
        "outputId": "87247deb-e854-4680-8a02-010ff129bce1",
        "colab": {
          "base_uri": "https://localhost:8080/",
          "height": 72
        }
      },
      "source": [
        "print(return_parity(3))\n",
        "print(return_parity(2))\n",
        "print(return_parity(11))"
      ],
      "execution_count": 55,
      "outputs": [
        {
          "output_type": "stream",
          "text": [
            "3 is odd\n",
            "2 is even\n",
            "11 is odd\n"
          ],
          "name": "stdout"
        }
      ]
    },
    {
      "cell_type": "markdown",
      "metadata": {
        "id": "AH7C4IhcORjX",
        "colab_type": "text"
      },
      "source": [
        "By the way, if..then statements can be compressed into one-liners:"
      ]
    },
    {
      "cell_type": "code",
      "metadata": {
        "id": "NINVFIb68AGv",
        "colab_type": "code",
        "colab": {}
      },
      "source": [
        "# let's make this shorter\n",
        "def return_parity(n):\n",
        "  result = str(n) + ' is '\n",
        "  return result + 'even' if n % 2 == 0 else result + 'odd'"
      ],
      "execution_count": 0,
      "outputs": []
    },
    {
      "cell_type": "markdown",
      "metadata": {
        "id": "pTRmLDpsOY2e",
        "colab_type": "text"
      },
      "source": [
        "Did you notice something? We applied the function to several different numbers.\n",
        "Why not put all numbers in a list and use a loop to iterate over them?"
      ]
    },
    {
      "cell_type": "code",
      "metadata": {
        "id": "XOOlnKtP60la",
        "colab_type": "code",
        "outputId": "ebd53683-9cb5-4b78-b7e6-82ed34c0d022",
        "colab": {
          "base_uri": "https://localhost:8080/",
          "height": 72
        }
      },
      "source": [
        "# let's combine this with loops\n",
        "numbers = [3, 2, 11]\n",
        "for ii in numbers:\n",
        "  print(return_parity(ii))"
      ],
      "execution_count": 57,
      "outputs": [
        {
          "output_type": "stream",
          "text": [
            "3 is odd\n",
            "2 is even\n",
            "11 is odd\n"
          ],
          "name": "stdout"
        }
      ]
    },
    {
      "cell_type": "markdown",
      "metadata": {
        "id": "C7WPZXDKOmWj",
        "colab_type": "text"
      },
      "source": [
        "Functions can be put inside other functions. Let's write a wrapper that iterates over a list!"
      ]
    },
    {
      "cell_type": "code",
      "metadata": {
        "id": "MCdYiXfz8TNh",
        "colab_type": "code",
        "colab": {}
      },
      "source": [
        "#let's write a wrapper!\n",
        "def check_item_parity(arr):\n",
        "  for ii in arr:\n",
        "    print(return_parity(ii))\n",
        "  "
      ],
      "execution_count": 0,
      "outputs": []
    },
    {
      "cell_type": "code",
      "metadata": {
        "id": "av8aRHhA8i3o",
        "colab_type": "code",
        "outputId": "2a482234-e9ba-4d04-e36c-64bcc5d3a792",
        "colab": {
          "base_uri": "https://localhost:8080/",
          "height": 72
        }
      },
      "source": [
        "check_item_parity(numbers)"
      ],
      "execution_count": 59,
      "outputs": [
        {
          "output_type": "stream",
          "text": [
            "3 is odd\n",
            "2 is even\n",
            "11 is odd\n"
          ],
          "name": "stdout"
        }
      ]
    },
    {
      "cell_type": "markdown",
      "metadata": {
        "id": "HJOPv3VvMR2Q",
        "colab_type": "text"
      },
      "source": [
        "Now if you define a different list of numbers you want to check parity for, you can simply use your wrapped function instead of calling check_parity over and over again. See below: "
      ]
    },
    {
      "cell_type": "code",
      "metadata": {
        "id": "DQccQdsSMRH8",
        "colab_type": "code",
        "outputId": "6821a065-fc71-4fd8-ccdd-03150c7fcafe",
        "colab": {
          "base_uri": "https://localhost:8080/",
          "height": 345
        }
      },
      "source": [
        "longerArray = [2, 3, 4, 5, 6, 7, 8, 9, 10, 23, 25, 72, 43, 52, 26, 24, 23, 16]\n",
        "check_item_parity(longerArray)"
      ],
      "execution_count": 60,
      "outputs": [
        {
          "output_type": "stream",
          "text": [
            "2 is even\n",
            "3 is odd\n",
            "4 is even\n",
            "5 is odd\n",
            "6 is even\n",
            "7 is odd\n",
            "8 is even\n",
            "9 is odd\n",
            "10 is even\n",
            "23 is odd\n",
            "25 is odd\n",
            "72 is even\n",
            "43 is odd\n",
            "52 is even\n",
            "26 is even\n",
            "24 is even\n",
            "23 is odd\n",
            "16 is even\n"
          ],
          "name": "stdout"
        }
      ]
    },
    {
      "cell_type": "markdown",
      "metadata": {
        "id": "MXRslFfC9z2y",
        "colab_type": "text"
      },
      "source": [
        "Functions are treated as so-called first class objects - you can assign them to variables..."
      ]
    },
    {
      "cell_type": "code",
      "metadata": {
        "id": "C-Lz-FE5khlr",
        "colab_type": "code",
        "outputId": "d64e2946-f152-45a8-a881-9bb8ae1297f3",
        "colab": {
          "base_uri": "https://localhost:8080/",
          "height": 35
        }
      },
      "source": [
        "my_len = len\n",
        "print(my_len(\"hello world\"))\n",
        "\n",
        "# (don't ask why you would want to do this. but it works x) )"
      ],
      "execution_count": 61,
      "outputs": [
        {
          "output_type": "stream",
          "text": [
            "11\n"
          ],
          "name": "stdout"
        }
      ]
    },
    {
      "cell_type": "markdown",
      "metadata": {
        "id": "93UltCxhkuWi",
        "colab_type": "text"
      },
      "source": [
        ".. and you can pass them as inputs to other functions"
      ]
    },
    {
      "cell_type": "code",
      "metadata": {
        "id": "pZEmLJMc9zJI",
        "colab_type": "code",
        "colab": {}
      },
      "source": [
        "def do_sth_with_number(number, something):\n",
        "  print(something(number))"
      ],
      "execution_count": 0,
      "outputs": []
    },
    {
      "cell_type": "code",
      "metadata": {
        "id": "tP8FC7bp-HSY",
        "colab_type": "code",
        "outputId": "2250b055-d1bf-4e81-8c74-ddcd53b70e14",
        "colab": {
          "base_uri": "https://localhost:8080/",
          "height": 72
        }
      },
      "source": [
        "do_sth_with_number(-2, abs)\n",
        "do_sth_with_number(9.34,round)\n",
        "do_sth_with_number(9,return_parity)"
      ],
      "execution_count": 63,
      "outputs": [
        {
          "output_type": "stream",
          "text": [
            "2\n",
            "9\n",
            "9 is odd\n"
          ],
          "name": "stdout"
        }
      ]
    },
    {
      "cell_type": "markdown",
      "metadata": {
        "id": "1iHVY95Yw_SC",
        "colab_type": "text"
      },
      "source": [
        "### **1.3.2 Docstrings**"
      ]
    },
    {
      "cell_type": "markdown",
      "metadata": {
        "id": "MqiVSoJ2xEMO",
        "colab_type": "text"
      },
      "source": [
        "Programming can be a very complicated endeavour. And who is able to remember for each and every function how to use it? Nobody. In fact, in real life, whenever you need to write a program, you'll notice that you spend most of the time googling stuff and scrolling through online forums. That's absolutely normal and even the biggest coding pros do this all the time.  \n",
        "But even if you don't have internet, there's still hope: Python provides documentation for all of its built-in functions. These brief info snippets are called *docstrings* and we'll show you two ways to access them.  \n",
        "First, you could simply add a question mark to the function you're interested in, and execute the line of code:"
      ]
    },
    {
      "cell_type": "code",
      "metadata": {
        "id": "XPwUSARfxN0J",
        "colab_type": "code",
        "colab": {}
      },
      "source": [
        "print?"
      ],
      "execution_count": 0,
      "outputs": []
    },
    {
      "cell_type": "markdown",
      "metadata": {
        "id": "yr3ivSE_xNaB",
        "colab_type": "text"
      },
      "source": [
        "Docstring:\n",
        "print(value, ..., sep=' ', end='\\n', file=sys.stdout, flush=False)\n",
        "\n",
        "Prints the values to a stream, or to sys.stdout by default.\n",
        "Optional keyword arguments:\n",
        "file:  a file-like object (stream); defaults to the current sys.stdout.\n",
        "sep:   string inserted between values, default a space.\n",
        "end:   string appended after the last value, default a newline.\n",
        "flush: whether to forcibly flush the stream.\n",
        "Type:      builtin_function_or_method"
      ]
    },
    {
      "cell_type": "markdown",
      "metadata": {
        "id": "fEEYnPu5xYDw",
        "colab_type": "text"
      },
      "source": [
        "Alternatively, you pass it as argument to the help function:"
      ]
    },
    {
      "cell_type": "code",
      "metadata": {
        "id": "iLl4saNrxcda",
        "colab_type": "code",
        "outputId": "a7ef87a0-4ceb-4919-a9bf-792f8676f12a",
        "colab": {
          "base_uri": "https://localhost:8080/",
          "height": 235
        }
      },
      "source": [
        "help(print)"
      ],
      "execution_count": 65,
      "outputs": [
        {
          "output_type": "stream",
          "text": [
            "Help on built-in function print in module builtins:\n",
            "\n",
            "print(...)\n",
            "    print(value, ..., sep=' ', end='\\n', file=sys.stdout, flush=False)\n",
            "    \n",
            "    Prints the values to a stream, or to sys.stdout by default.\n",
            "    Optional keyword arguments:\n",
            "    file:  a file-like object (stream); defaults to the current sys.stdout.\n",
            "    sep:   string inserted between values, default a space.\n",
            "    end:   string appended after the last value, default a newline.\n",
            "    flush: whether to forcibly flush the stream.\n",
            "\n"
          ],
          "name": "stdout"
        }
      ]
    },
    {
      "cell_type": "markdown",
      "metadata": {
        "id": "DJd_iruuxiFG",
        "colab_type": "text"
      },
      "source": [
        "When you write your own functions, don't forget to add documentation on how to use them. This saves a lot of time and avoids nervous breakdowns when you come back to your code a few months later. \n",
        "In fact, you can easily write your own docstrings! Here's an example    \n",
        "Docstrings are indicated by \"\"\" yourtextgoeshere \"\"\""
      ]
    },
    {
      "cell_type": "code",
      "metadata": {
        "id": "niGmfSinyQnM",
        "colab_type": "code",
        "colab": {}
      },
      "source": [
        "def return_parity(n):\n",
        "  \"\"\" This function tests whether its input is odd or even.\n",
        "      INPUT: (int) an arbitrary number\n",
        "      OUTPUT: (str) 'even' or 'odd' \n",
        "  \"\"\"\n",
        "  result = str(n) + ' is '\n",
        "  return result + 'even' if n % 2 == 0 else result + 'odd'"
      ],
      "execution_count": 0,
      "outputs": []
    },
    {
      "cell_type": "code",
      "metadata": {
        "id": "HmiqetkRyfxa",
        "colab_type": "code",
        "outputId": "77debcab-2aef-49ed-a1a1-e5109194f9b3",
        "colab": {
          "base_uri": "https://localhost:8080/",
          "height": 145
        }
      },
      "source": [
        "help(return_parity)"
      ],
      "execution_count": 67,
      "outputs": [
        {
          "output_type": "stream",
          "text": [
            "Help on function return_parity in module __main__:\n",
            "\n",
            "return_parity(n)\n",
            "    This function tests whether its input is odd or even.\n",
            "    INPUT: (int) an arbitrary number\n",
            "    OUTPUT: (str) 'even' or 'odd'\n",
            "\n"
          ],
          "name": "stdout"
        }
      ]
    },
    {
      "cell_type": "markdown",
      "metadata": {
        "id": "DFSomZjhDMBY",
        "colab_type": "text"
      },
      "source": [
        "### **Task: Write your own function!**"
      ]
    },
    {
      "cell_type": "markdown",
      "metadata": {
        "id": "7L_29-wrPX3k",
        "colab_type": "text"
      },
      "source": [
        "Write a function that takes a list of numbers as inputs and returns the mean of these numbers!  \n",
        "Remember, given a vector of numbers\n",
        "> $\\textbf{x} = [x_1, x_2, x_3, x_4, ...., x_n]$\n",
        "  \n",
        "the mean is defined as:  \n",
        "\n",
        "> $mean(\\textbf{x})=\\frac{1}{N}\\sum_{i=1}^{N} x_i = \\frac{1}{N}(x_1 + x_2 + x_3 + ... + x_n)$\n"
      ]
    },
    {
      "cell_type": "code",
      "metadata": {
        "id": "VYIMV0z5DQcx",
        "colab_type": "code",
        "colab": {}
      },
      "source": [
        "numbers = [2,5,8,7,1,4,4,9]\n",
        "# your code goes here\n",
        "# SAMPLE SOLUTION\n",
        "# def compute_mean(x):\n",
        "#   return sum(x)/len(x)\n"
      ],
      "execution_count": 0,
      "outputs": []
    },
    {
      "cell_type": "markdown",
      "metadata": {
        "id": "RtoqtwAhQfQC",
        "colab_type": "text"
      },
      "source": [
        "Now write a function that computes the variance of a list of numbers.\n",
        "Remember, the variance is defined as \n",
        "> $var(\\textbf{x}) = \\frac{1}{N} \\sum_{i=1}^{N}(x_i-\\bar{x})^2$, where $mean(\\textbf{x}) = \\bar{x}$  \n",
        ">\n",
        "> or alternatively:  \n",
        ">\n",
        "> $var(\\textbf{x}) = \\frac{1}{N} \\sum_{i=1}^{N}(x_i^2) -\\bar{x}^2$ (\"expectation of square minus square of expectation\")"
      ]
    },
    {
      "cell_type": "code",
      "metadata": {
        "id": "u6LkZn5cyDSQ",
        "colab_type": "code",
        "colab": {}
      },
      "source": [
        "numbers = [2,5,8,7,1,4,4,9]\n",
        "# your code goes here\n",
        "# SAMPLE SOLUTION\n",
        "# def compute_variance(x):  \n",
        "#   return compute_mean([ii**2 for ii in x])-compute_mean(x)**2\n",
        "# print(compute_variance(numbers))\n"
      ],
      "execution_count": 0,
      "outputs": []
    },
    {
      "cell_type": "markdown",
      "metadata": {
        "id": "tA6FEF5HyEX5",
        "colab_type": "text"
      },
      "source": [
        "Now add docstrings to your functions to explain how to use them"
      ]
    },
    {
      "cell_type": "code",
      "metadata": {
        "id": "W-79OVZSyOni",
        "colab_type": "code",
        "colab": {}
      },
      "source": [
        "#SAMPLE SOLUTIONS\n",
        "# def compute_mean(x):\n",
        "#   ''' \n",
        "#   computes mean of a list of numbers \n",
        "#   INPUT: x (list)\n",
        "#   OUTPUT: mu (float)\n",
        "#   '''\n",
        "#   return sum(x)/len(x)\n",
        "\n",
        "# def compute_variance(x):  \n",
        "#   '''\n",
        "#   computes variance of a list of numbers \n",
        "#   INPUT: x (list)\n",
        "#   OUTPUT: var (float)\n",
        "#   '''\n",
        "#   return compute_mean([ii**2 for ii in x])-compute_mean(x)**2\n",
        "\n",
        "# print(help(compute_mean))\n",
        "# print(help(compute_variance))"
      ],
      "execution_count": 0,
      "outputs": []
    },
    {
      "cell_type": "markdown",
      "metadata": {
        "id": "27GJWJouueMT",
        "colab_type": "text"
      },
      "source": [
        "### **BONUS: Advanced Programming Principle: Recursion**"
      ]
    },
    {
      "cell_type": "markdown",
      "metadata": {
        "id": "BIMbYEDP8nmx",
        "colab_type": "text"
      },
      "source": [
        "Functions are very versatile! They can even call themselves with a subset of of the \n",
        "original problem. This is called recursion. Below is a naive solution to find the factorial of a number.\n",
        "As reminder, a factorial of a number n is just a product of all integers from 1 to n:  \n",
        "**n! = 1*2*3*4*......*n**"
      ]
    },
    {
      "cell_type": "code",
      "metadata": {
        "id": "yOkX7i2N812U",
        "colab_type": "code",
        "colab": {}
      },
      "source": [
        "def iterative_factorial(n):\n",
        "  fact = 1\n",
        "  for ii in range(n):\n",
        "    fact *= ii+1\n",
        "  return fact"
      ],
      "execution_count": 0,
      "outputs": []
    },
    {
      "cell_type": "code",
      "metadata": {
        "id": "xipMmXl381-Y",
        "colab_type": "code",
        "outputId": "0d0fb74d-b991-421e-c4b1-a276b0ab7def",
        "colab": {
          "base_uri": "https://localhost:8080/",
          "height": 0
        }
      },
      "source": [
        "print(\"4!: \",iterative_factorial(4))"
      ],
      "execution_count": 72,
      "outputs": [
        {
          "output_type": "stream",
          "text": [
            "4!:  24\n"
          ],
          "name": "stdout"
        }
      ]
    },
    {
      "cell_type": "code",
      "metadata": {
        "id": "FfXsrVk65UbT",
        "colab_type": "code",
        "colab": {}
      },
      "source": [
        "def recursive_factorial(n):\n",
        "  if n >1:\n",
        "    fact = n*recursive_factorial(n-1)\n",
        "    return fact\n",
        "  else:\n",
        "    return n\n",
        "    "
      ],
      "execution_count": 0,
      "outputs": []
    },
    {
      "cell_type": "code",
      "metadata": {
        "id": "-T5K_cXi5par",
        "colab_type": "code",
        "outputId": "bd45ee45-90b4-4ce5-9edd-f05ef35ae83e",
        "colab": {
          "base_uri": "https://localhost:8080/",
          "height": 0
        }
      },
      "source": [
        "print(\"4!: \",recursive_factorial(4))"
      ],
      "execution_count": 74,
      "outputs": [
        {
          "output_type": "stream",
          "text": [
            "4!:  24\n"
          ],
          "name": "stdout"
        }
      ]
    },
    {
      "cell_type": "markdown",
      "metadata": {
        "id": "yLgaYKSq-yoc",
        "colab_type": "text"
      },
      "source": [
        "## **1.4 .METHODS()**"
      ]
    },
    {
      "cell_type": "markdown",
      "metadata": {
        "id": "H3FV0ztQ-2mm",
        "colab_type": "text"
      },
      "source": [
        "Python is an object oriented language. An object is an abstract entity that contains \n",
        "some data and functions that can be applied to the data (Imagine a drawer (container) for socks (data) that has a built-in sock sorting machine (function)).   Functions that are applied directly to objects are called **methods**. In this section we'll learn how to apply methods to objects.  \n",
        "Many entities in Python are objects. For example, strings are objects as they contain some data, as for example \"hello world\", and they come with many functions that can be applied to the data. Let's have a look at an example:"
      ]
    },
    {
      "cell_type": "markdown",
      "metadata": {
        "id": "k7EErE7uwYr4",
        "colab_type": "text"
      },
      "source": [
        "### **1.4.1 Example: methods to manipulate strings**"
      ]
    },
    {
      "cell_type": "code",
      "metadata": {
        "id": "1P-XaCi7_QgI",
        "colab_type": "code",
        "outputId": "11859409-2f54-4f33-8340-675c78926c71",
        "colab": {
          "base_uri": "https://localhost:8080/",
          "height": 108
        }
      },
      "source": [
        "# here we create a simple variable that contains a sequence of symbols\n",
        "string = \"hello world\"\n",
        "# Python understands that this is what it would call a string, and allows you to apply methods\n",
        "# that are purpose-built for string manipulation:\n",
        "print(string.upper())\n",
        "print(string.capitalize())\n",
        "print(string.replace(' world',', nice to meet you'))\n",
        "listOfWords = string.split(' ')\n",
        "print(listOfWords)\n",
        "newString = ', '.join(listOfWords)\n",
        "print(newString)"
      ],
      "execution_count": 75,
      "outputs": [
        {
          "output_type": "stream",
          "text": [
            "HELLO WORLD\n",
            "Hello world\n",
            "hello, nice to meet you\n",
            "['hello', 'world']\n",
            "hello, world\n"
          ],
          "name": "stdout"
        }
      ]
    },
    {
      "cell_type": "markdown",
      "metadata": {
        "id": "crIH7Usv_8T-",
        "colab_type": "text"
      },
      "source": [
        "in contrast to functions, for which the syntax is *function(argument)*, methods are bound to objects. Thus, the syntax is *object.method(argument)*"
      ]
    },
    {
      "cell_type": "markdown",
      "metadata": {
        "id": "QWfolgywwldz",
        "colab_type": "text"
      },
      "source": [
        "### **1.4.2 Methods are object specific!**"
      ]
    },
    {
      "cell_type": "markdown",
      "metadata": {
        "id": "3mPPCEK2AIvg",
        "colab_type": "text"
      },
      "source": [
        "As methods are bound to a particular object type, you can't apply them to other objects. For instance, you can't capitalise numbers:"
      ]
    },
    {
      "cell_type": "code",
      "metadata": {
        "id": "rSlCxzm4AXl3",
        "colab_type": "code",
        "outputId": "bb5689c6-9c0d-4e23-ab1a-f6903e08ae0b",
        "colab": {
          "base_uri": "https://localhost:8080/",
          "height": 207
        }
      },
      "source": [
        "# let's create a variable that contains a number\n",
        "number = 0.5\n",
        "# Python realises that this is not a string, and therefore you're not able to capitalise it!\n",
        "number.capitalize()\n"
      ],
      "execution_count": 76,
      "outputs": [
        {
          "output_type": "error",
          "ename": "AttributeError",
          "evalue": "ignored",
          "traceback": [
            "\u001b[0;31m---------------------------------------------------------------------------\u001b[0m",
            "\u001b[0;31mAttributeError\u001b[0m                            Traceback (most recent call last)",
            "\u001b[0;32m<ipython-input-76-a725b44e5ce9>\u001b[0m in \u001b[0;36m<module>\u001b[0;34m()\u001b[0m\n\u001b[1;32m      1\u001b[0m \u001b[0mnumber\u001b[0m \u001b[0;34m=\u001b[0m \u001b[0;36m0.5\u001b[0m\u001b[0;34m\u001b[0m\u001b[0;34m\u001b[0m\u001b[0m\n\u001b[1;32m      2\u001b[0m \u001b[0;31m# Python realises that this is not a string, and therefore you're not able to capitalise it!\u001b[0m\u001b[0;34m\u001b[0m\u001b[0;34m\u001b[0m\u001b[0;34m\u001b[0m\u001b[0m\n\u001b[0;32m----> 3\u001b[0;31m \u001b[0mnumber\u001b[0m\u001b[0;34m.\u001b[0m\u001b[0mcapitalize\u001b[0m\u001b[0;34m(\u001b[0m\u001b[0;34m)\u001b[0m\u001b[0;34m\u001b[0m\u001b[0;34m\u001b[0m\u001b[0m\n\u001b[0m",
            "\u001b[0;31mAttributeError\u001b[0m: 'float' object has no attribute 'capitalize'"
          ]
        }
      ]
    },
    {
      "cell_type": "markdown",
      "metadata": {
        "id": "w4V1QmNHwsXo",
        "colab_type": "text"
      },
      "source": [
        "### **1.4.3 How to figure out which methods are provided for a given object**"
      ]
    },
    {
      "cell_type": "markdown",
      "metadata": {
        "id": "b3k3rv7BAfIa",
        "colab_type": "text"
      },
      "source": [
        "to see a list of all available methods, either press [TAB] after placing a dot behind an object, or use the following syntax"
      ]
    },
    {
      "cell_type": "code",
      "metadata": {
        "id": "UfXxkA0TAdUI",
        "colab_type": "code",
        "outputId": "77124fb3-4835-4851-fbd5-31aae60ffe20",
        "colab": {
          "base_uri": "https://localhost:8080/",
          "height": 1000
        }
      },
      "source": [
        "dir(str)"
      ],
      "execution_count": 77,
      "outputs": [
        {
          "output_type": "execute_result",
          "data": {
            "text/plain": [
              "['__add__',\n",
              " '__class__',\n",
              " '__contains__',\n",
              " '__delattr__',\n",
              " '__dir__',\n",
              " '__doc__',\n",
              " '__eq__',\n",
              " '__format__',\n",
              " '__ge__',\n",
              " '__getattribute__',\n",
              " '__getitem__',\n",
              " '__getnewargs__',\n",
              " '__gt__',\n",
              " '__hash__',\n",
              " '__init__',\n",
              " '__init_subclass__',\n",
              " '__iter__',\n",
              " '__le__',\n",
              " '__len__',\n",
              " '__lt__',\n",
              " '__mod__',\n",
              " '__mul__',\n",
              " '__ne__',\n",
              " '__new__',\n",
              " '__reduce__',\n",
              " '__reduce_ex__',\n",
              " '__repr__',\n",
              " '__rmod__',\n",
              " '__rmul__',\n",
              " '__setattr__',\n",
              " '__sizeof__',\n",
              " '__str__',\n",
              " '__subclasshook__',\n",
              " 'capitalize',\n",
              " 'casefold',\n",
              " 'center',\n",
              " 'count',\n",
              " 'encode',\n",
              " 'endswith',\n",
              " 'expandtabs',\n",
              " 'find',\n",
              " 'format',\n",
              " 'format_map',\n",
              " 'index',\n",
              " 'isalnum',\n",
              " 'isalpha',\n",
              " 'isdecimal',\n",
              " 'isdigit',\n",
              " 'isidentifier',\n",
              " 'islower',\n",
              " 'isnumeric',\n",
              " 'isprintable',\n",
              " 'isspace',\n",
              " 'istitle',\n",
              " 'isupper',\n",
              " 'join',\n",
              " 'ljust',\n",
              " 'lower',\n",
              " 'lstrip',\n",
              " 'maketrans',\n",
              " 'partition',\n",
              " 'replace',\n",
              " 'rfind',\n",
              " 'rindex',\n",
              " 'rjust',\n",
              " 'rpartition',\n",
              " 'rsplit',\n",
              " 'rstrip',\n",
              " 'split',\n",
              " 'splitlines',\n",
              " 'startswith',\n",
              " 'strip',\n",
              " 'swapcase',\n",
              " 'title',\n",
              " 'translate',\n",
              " 'upper',\n",
              " 'zfill']"
            ]
          },
          "metadata": {
            "tags": []
          },
          "execution_count": 77
        }
      ]
    },
    {
      "cell_type": "code",
      "metadata": {
        "id": "kXOmSeJoA_7P",
        "colab_type": "code",
        "outputId": "b0025b32-f183-4d22-fba0-66e27834dfcc",
        "colab": {
          "base_uri": "https://localhost:8080/",
          "height": 217
        }
      },
      "source": [
        "help(str.split)"
      ],
      "execution_count": 78,
      "outputs": [
        {
          "output_type": "stream",
          "text": [
            "Help on method_descriptor:\n",
            "\n",
            "split(...)\n",
            "    S.split(sep=None, maxsplit=-1) -> list of strings\n",
            "    \n",
            "    Return a list of the words in S, using sep as the\n",
            "    delimiter string.  If maxsplit is given, at most maxsplit\n",
            "    splits are done. If sep is not specified or is None, any\n",
            "    whitespace string is a separator and empty strings are\n",
            "    removed from the result.\n",
            "\n"
          ],
          "name": "stdout"
        }
      ]
    },
    {
      "cell_type": "markdown",
      "metadata": {
        "id": "bB6MQJKAsfaI",
        "colab_type": "text"
      },
      "source": [
        "### **Task: String Manipulation**\n",
        "You're given the following two strings:\n",
        "```python\n",
        "gibberish_1 = 'is much I can''t enough.'\n",
        "gibberish_2 = 'cOdinG sO FuN. JuST gEt '\n",
        "```\n",
        "* turn the strings into lists of words (use the .split method)\n",
        "* make sure that gibberish_2 contains only lower case letters (.lower() method)\n",
        "* create a new empty list ( assign [] to a variable)\n",
        "* loop through 5 steps and for each iteration, add pairs of words to your new empty list \n",
        "* turn the list into a string (use the ' '.join(list) method)\n",
        "* print the result"
      ]
    },
    {
      "cell_type": "code",
      "metadata": {
        "id": "01VtovFIuBms",
        "colab_type": "code",
        "outputId": "703707c8-495a-43f6-eb5b-303e9b9c3e52",
        "colab": {
          "base_uri": "https://localhost:8080/",
          "height": 72
        }
      },
      "source": [
        "gibberish_1 = 'is much I can''t enough.'\n",
        "gibberish_2 = 'cOdinG sO FuN. JuST gEt '\n",
        "\n",
        "# Your code goes here\n",
        "# SAMPLE SOLUTION 1\n",
        "seq1 = gibberish_1.split() \n",
        "seq2 = gibberish_2.lower().split()\n",
        "wordlist = []\n",
        "for ii in range(len(seq1)):\n",
        "  wordlist.append(' '.join((seq2[ii], seq1[ii])))\n",
        "sentence = ' '.join(wordlist)\n",
        "print(sentence)\n",
        "\n",
        "# SAMPLE SOLUTION 2\n",
        "seq1 = gibberish_1.split() \n",
        "seq2 = gibberish_2.lower().split()\n",
        "wordlist = []\n",
        "for ii in range(len(seq1)):\n",
        "  wordlist.append(seq2[ii])\n",
        "  wordlist.append(seq1[ii])\n",
        "sentence = ' '.join(wordlist)\n",
        "print(sentence)\n",
        "\n",
        "# SAMPLE SOLUTION 3 \n",
        "seq1 = gibberish_1.split() \n",
        "seq2 = gibberish_2.lower().split()\n",
        "print(' '.join([' '.join((seq2[ii],seq1[ii])) for ii in range(len(seq1))]))\n"
      ],
      "execution_count": 79,
      "outputs": [
        {
          "output_type": "stream",
          "text": [
            "coding is so much fun. I just cant get enough.\n",
            "coding is so much fun. I just cant get enough.\n",
            "coding is so much fun. I just cant get enough.\n"
          ],
          "name": "stdout"
        }
      ]
    },
    {
      "cell_type": "markdown",
      "metadata": {
        "id": "iMYT-1jkeA-D",
        "colab_type": "text"
      },
      "source": [
        "# **PART2: PYTHON FOR SCIENTISTS: PACKAGES/LIBRARIES**"
      ]
    },
    {
      "cell_type": "markdown",
      "metadata": {
        "id": "KZ2ey4tieDtk",
        "colab_type": "text"
      },
      "source": [
        "Some of the most powerful tools you'll use in Python are packages and libraries. These contain useful functions - from quite simple to more advanced ones. We'll go through a few basic examples today, but leave you with a list of libraries and packages to check out: \n",
        "\n",
        "- numpy \n",
        "- matplotlib\n",
        "- seaborn\n",
        "- scipy \n"
      ]
    },
    {
      "cell_type": "code",
      "metadata": {
        "id": "rJ2HS41meCVi",
        "colab_type": "code",
        "colab": {}
      },
      "source": [
        "#You'll need to import every package you want to use. This is not a one-time thing - you have to do it in each new Python notebook. \n",
        "# With time you'll have a pretty good sense of what packages you need (and Stackoverflow to the rescue, always!). \n",
        "import numpy"
      ],
      "execution_count": 0,
      "outputs": []
    },
    {
      "cell_type": "code",
      "metadata": {
        "id": "pZKg3nTiejs_",
        "colab_type": "code",
        "outputId": "e442b9ba-84ba-4810-c16d-50e3f10dce97",
        "colab": {
          "base_uri": "https://localhost:8080/",
          "height": 35
        }
      },
      "source": [
        "array = [2, 4, 6, 8, 10]\n",
        "\n",
        "averageOfArray = numpy.mean(array)\n",
        "print(averageOfArray)"
      ],
      "execution_count": 81,
      "outputs": [
        {
          "output_type": "stream",
          "text": [
            "6.0\n"
          ],
          "name": "stdout"
        }
      ]
    },
    {
      "cell_type": "code",
      "metadata": {
        "id": "kCpKWnkQe24A",
        "colab_type": "code",
        "outputId": "6e3f470c-cb25-4e3c-c8d6-d3df0d45c238",
        "colab": {
          "base_uri": "https://localhost:8080/",
          "height": 35
        }
      },
      "source": [
        "#Alternatively, you can use abbreviations - this is really handy. \n",
        "import numpy as np\n",
        "\n",
        "averageOfArray = np.mean(array)\n",
        "print(averageOfArray)"
      ],
      "execution_count": 82,
      "outputs": [
        {
          "output_type": "stream",
          "text": [
            "6.0\n"
          ],
          "name": "stdout"
        }
      ]
    },
    {
      "cell_type": "code",
      "metadata": {
        "id": "7BrCkOThe_xC",
        "colab_type": "code",
        "outputId": "18bc1625-3921-4c06-f61b-82563150c024",
        "colab": {
          "base_uri": "https://localhost:8080/",
          "height": 35
        }
      },
      "source": [
        "# And, of course, you can print or use any of these directly, such as: \n",
        "print(np.mean(array))"
      ],
      "execution_count": 83,
      "outputs": [
        {
          "output_type": "stream",
          "text": [
            "6.0\n"
          ],
          "name": "stdout"
        }
      ]
    },
    {
      "cell_type": "code",
      "metadata": {
        "id": "k5nXc37mfD1j",
        "colab_type": "code",
        "outputId": "294b3346-a975-4a72-f185-38aa52863f4c",
        "colab": {
          "base_uri": "https://localhost:8080/",
          "height": 126
        }
      },
      "source": [
        "# Numpy is also powerful in prepopulating your arrays\n",
        "a = np.zeros((2))  \n",
        "print(a) \n",
        "\n",
        "print('') # space to separate outputs\n",
        "\n",
        "# or even something like if you need multiple dimensions\n",
        "b = np.ones((2, 2))\n",
        "print(b)\n",
        "\n",
        "print('')\n",
        "\n",
        "# you can also create an array filled with the same number of choice, something like \n",
        "x = 27.34 \n",
        "c = np.full((5), x)\n",
        "print(c)"
      ],
      "execution_count": 84,
      "outputs": [
        {
          "output_type": "stream",
          "text": [
            "[0. 0.]\n",
            "\n",
            "[[1. 1.]\n",
            " [1. 1.]]\n",
            "\n",
            "[27.34 27.34 27.34 27.34 27.34]\n"
          ],
          "name": "stdout"
        }
      ]
    },
    {
      "cell_type": "code",
      "metadata": {
        "id": "GjvLYJNLfRsL",
        "colab_type": "code",
        "colab": {}
      },
      "source": [
        ""
      ],
      "execution_count": 0,
      "outputs": []
    },
    {
      "cell_type": "markdown",
      "metadata": {
        "id": "VK4ofpuvD3Dd",
        "colab_type": "text"
      },
      "source": [
        "A few ways to visualize your data and important things to note "
      ]
    },
    {
      "cell_type": "code",
      "metadata": {
        "id": "96LwqG1WD0yC",
        "colab_type": "code",
        "outputId": "558e68e2-3ed2-4ee4-cc0b-c6c159450146",
        "colab": {
          "base_uri": "https://localhost:8080/",
          "height": 283
        }
      },
      "source": [
        "# Let's start by plotting something quite simple using a line plot in matplotlib (remember to import this in every notebook)\n",
        "import matplotlib.pyplot as plt\n",
        "x = [1, 2, 3, 4, 5]\n",
        "y = [2, 5, 6, 11, 14]\n",
        "\n",
        "plt.plot(x, y, linestyle='--')"
      ],
      "execution_count": 85,
      "outputs": [
        {
          "output_type": "execute_result",
          "data": {
            "text/plain": [
              "[<matplotlib.lines.Line2D at 0x7fe88f830860>]"
            ]
          },
          "metadata": {
            "tags": []
          },
          "execution_count": 85
        },
        {
          "output_type": "display_data",
          "data": {
            "image/png": "[encoded data removed]",
            "text/plain": [
              "<Figure size 432x288 with 1 Axes>"
            ]
          },
          "metadata": {
            "tags": []
          }
        }
      ]
    },
    {
      "cell_type": "code",
      "metadata": {
        "id": "7B1bcW2_AV-W",
        "colab_type": "code",
        "outputId": "c48e1258-5b92-4ccc-d6b1-c4f7f5d4d513",
        "colab": {
          "base_uri": "https://localhost:8080/",
          "height": 283
        }
      },
      "source": [
        "#Alternatively, styles can be spelled out as well (this is true for colors, etc.) \n",
        "plt.plot(x, y, linestyle='dashed', color = 'orange', linewidth = 8)\n"
      ],
      "execution_count": 86,
      "outputs": [
        {
          "output_type": "execute_result",
          "data": {
            "text/plain": [
              "[<matplotlib.lines.Line2D at 0x7fe88f359240>]"
            ]
          },
          "metadata": {
            "tags": []
          },
          "execution_count": 86
        },
        {
          "output_type": "display_data",
          "data": {
            "image/png": "[encoded data removed]",
            "text/plain": [
              "<Figure size 432x288 with 1 Axes>"
            ]
          },
          "metadata": {
            "tags": []
          }
        }
      ]
    },
    {
      "cell_type": "code",
      "metadata": {
        "id": "pi6oGoDF_2KE",
        "colab_type": "code",
        "outputId": "760989d9-a019-4418-bfbb-1a3248730046",
        "colab": {
          "base_uri": "https://localhost:8080/",
          "height": 283
        }
      },
      "source": [
        "# You will rarely work with variables to plot that are this simple. \n",
        "#Instead, it makes sense to learn how to define your x axis as continuously \n",
        "# increasing so that you can plot your variable of interest on y-axis\n",
        "\n",
        "# Here we take advantage of numpy's functions linspace and sin.\n",
        "\n",
        "import numpy as np\n",
        "\n",
        "x = np.linspace(0, 10, 1000)\n",
        "\n",
        "plt.plot(x, np.sin(x), c = 'magenta', linewidth = 2.5)"
      ],
      "execution_count": 87,
      "outputs": [
        {
          "output_type": "execute_result",
          "data": {
            "text/plain": [
              "[<matplotlib.lines.Line2D at 0x7fe88f2c4080>]"
            ]
          },
          "metadata": {
            "tags": []
          },
          "execution_count": 87
        },
        {
          "output_type": "display_data",
          "data": {
            "image/png": "[encoded data removed]",
            "text/plain": [
              "<Figure size 432x288 with 1 Axes>"
            ]
          },
          "metadata": {
            "tags": []
          }
        }
      ]
    },
    {
      "cell_type": "code",
      "metadata": {
        "id": "ZxKqAHg4ACrT",
        "colab_type": "code",
        "outputId": "2b6dd60e-04d3-49b9-a808-9789d9cf2e71",
        "colab": {
          "base_uri": "https://localhost:8080/",
          "height": 283
        }
      },
      "source": [
        "# It's likely you'll often want to look at a relationship between two variables. \n",
        "# You can do this simply by scattering them in matplotlib... \n",
        "\n",
        "x = [1, 2, 3, 4, 5, 1, 2, 3, 4, 5, 1, 2, 3, 4, 5]\n",
        "y = [2, 5, 6, 11, 14, 5, 2, 7, 8, 9, 1, 2, 3, 7, 3]\n",
        "\n",
        "plt.scatter(x, y, color = 'royalblue')\n"
      ],
      "execution_count": 88,
      "outputs": [
        {
          "output_type": "execute_result",
          "data": {
            "text/plain": [
              "<matplotlib.collections.PathCollection at 0x7fe88f21ca90>"
            ]
          },
          "metadata": {
            "tags": []
          },
          "execution_count": 88
        },
        {
          "output_type": "display_data",
          "data": {
            "image/png": "[encoded data removed]",
            "text/plain": [
              "<Figure size 432x288 with 1 Axes>"
            ]
          },
          "metadata": {
            "tags": []
          }
        }
      ]
    },
    {
      "cell_type": "code",
      "metadata": {
        "id": "mQT2wF7UAnPI",
        "colab_type": "code",
        "outputId": "1b964abe-9efd-4e89-da18-520e6d3f121c",
        "colab": {
          "base_uri": "https://localhost:8080/",
          "height": 369
        }
      },
      "source": [
        "# Alternatively, some more powerful visualizations are available in seaborn. \n",
        "# Here, we plot the exact same as in the figure above, but denoting the line of best \n",
        "# fit for this data. \n",
        "\n",
        "import pandas as pd\n",
        "dataframe = pd.DataFrame({'x': x, \n",
        "                        'y': y})\n",
        "\n",
        "\n",
        "import seaborn as sns \n",
        "g = sns.lmplot('x', 'y', data = dataframe)"
      ],
      "execution_count": 89,
      "outputs": [
        {
          "output_type": "display_data",
          "data": {
            "image/png": "[encoded data removed]",
            "text/plain": [
              "<Figure size 360x360 with 1 Axes>"
            ]
          },
          "metadata": {
            "tags": []
          }
        }
      ]
    },
    {
      "cell_type": "code",
      "metadata": {
        "id": "BUwQ6z3iBFXF",
        "colab_type": "code",
        "outputId": "21fa1e9c-ff24-4967-c997-83e3e647c0db",
        "colab": {
          "base_uri": "https://localhost:8080/",
          "height": 54
        }
      },
      "source": [
        "# Want to know how related your variables are? \n",
        "# There are always multiple ways to do things in Python. Here is an example of \n",
        "# how even something as simple as a correlation between two variables can be calculated \n",
        "# using multiple packages. \n",
        "\n",
        "x = [1, 2, 3, 4, 5, 1, 2, 3, 4, 5, 1, 2, 3, 4, 5]\n",
        "y = [2, 5, 6, 11, 14, 5, 2, 7, 8, 9, 1, 2, 3, 7, 3]\n",
        "\n",
        "print('Correlation using numpy: ', np.corrcoef(x, y)[0][1])\n",
        "\n",
        "from scipy.stats import linregress\n",
        "print('Correlation using scipy: ', linregress(x, y)[2])"
      ],
      "execution_count": 90,
      "outputs": [
        {
          "output_type": "stream",
          "text": [
            "Correlation using numpy:  0.6923521761619424\n",
            "Correlation using scipy:  0.6923521761619424\n"
          ],
          "name": "stdout"
        }
      ]
    },
    {
      "cell_type": "code",
      "metadata": {
        "id": "X9_ywxJGJOj5",
        "colab_type": "code",
        "colab": {}
      },
      "source": [
        ""
      ],
      "execution_count": 0,
      "outputs": []
    }
  ]
}