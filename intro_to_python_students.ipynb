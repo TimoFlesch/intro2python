{
  "nbformat": 4,
  "nbformat_minor": 0,
  "metadata": {
    "colab": {
      "name": "intro_to_python_students.ipynb",
      "provenance": [],
      "collapsed_sections": [
        "27GJWJouueMT"
      ],
      "include_colab_link": true
    },
    "kernelspec": {
      "display_name": "Python 3",
      "language": "python",
      "name": "python3"
    },
    "language_info": {
      "codemirror_mode": {
        "name": "ipython",
        "version": 3
      },
      "file_extension": ".py",
      "mimetype": "text/x-python",
      "name": "python",
      "nbconvert_exporter": "python",
      "pygments_lexer": "ipython3",
      "version": "3.7.3"
    }
  },
  "cells": [
    {
      "cell_type": "markdown",
      "metadata": {
        "id": "view-in-github",
        "colab_type": "text"
      },
      "source": [
        "<a href=\"https://colab.research.google.com/github/TimoFlesch/intro2python/blob/2020/intro_to_python_students.ipynb\" target=\"_parent\"><img src=\"https://colab.research.google.com/assets/colab-badge.svg\" alt=\"Open In Colab\"/></a>"
      ]
    },
    {
      "cell_type": "markdown",
      "metadata": {
        "id": "OW_kXbq5J6Ek"
      },
      "source": [
        "# **PART 1: PYTHON - A (VERY) SHORT INTRODUCTION**"
      ]
    },
    {
      "cell_type": "markdown",
      "metadata": {
        "id": "SAB59OcIvw_n"
      },
      "source": [
        "Today you'll learn the basics of programming in Python. We are currently using a so-called **Python notebook**. The notebook consists of two types of cells, those that contain text (like the one you're reading right now) and those that contain Python code.  \n",
        "\n",
        "Below is an example of a cell with Python code. When we click on a cell with code and either press [SHIFT] + [ENTER] or click on the [RUN] button above, we tell the computer to interpret the commands which means that it turns the Python code into actions we want it to execute."
      ]
    },
    {
      "cell_type": "code",
      "metadata": {
        "id": "jzXA8DuCwaM8"
      },
      "source": [
        "# This is a comment. Everything preceeded by a hash symbol (#) is ignored by the computer. \n",
        "# This allows you to add comments/notes/documentation to your Python programme.\n",
        "print(\"Hello world\")"
      ],
      "execution_count": null,
      "outputs": []
    },
    {
      "cell_type": "markdown",
      "metadata": {
        "id": "ydFDepGcwdOg"
      },
      "source": [
        "As you can see, we instructed the computer to \"print\" a string of letters.\n",
        "\n",
        "Don't worry too much about the syntax right now, we'll go through this step by step."
      ]
    },
    {
      "cell_type": "markdown",
      "metadata": {
        "id": "2kBA_M83Z1Ld"
      },
      "source": [
        "___\n",
        "## **1.1 VARIABLES**"
      ]
    },
    {
      "cell_type": "markdown",
      "metadata": {
        "id": "M9vSHfxauLc2"
      },
      "source": [
        "Variables are used to store information that can later be referenced and manipulated by your computer program. It's helpful to think of variables as containers for information. For example, imagine you build a drawer and put socks in it. In this case, the drawer would be a variable and the socks we put in would correspond to its value(s). When you reference the variable, i.e. open the drawer, you'll find socks in there. "
      ]
    },
    {
      "cell_type": "code",
      "metadata": {
        "id": "egLUcRqJxA6I"
      },
      "source": [
        "# Let's create a drawer with socks\n",
        "drawer = \"socks\"\n",
        "\n",
        "# Let's have a look what's inside the drawer\n",
        "drawer"
      ],
      "execution_count": null,
      "outputs": []
    },
    {
      "cell_type": "markdown",
      "metadata": {
        "id": "HaxWZWrSvSGF"
      },
      "source": [
        "Variables would be useless if you couldn't assign values to them. Python is able to handle all sorts of different datatypes, such as numbers, strings (= sequences of letters and symbols) and lists of numbers/letters. Below are a few examples:"
      ]
    },
    {
      "cell_type": "markdown",
      "metadata": {
        "id": "1oP3m5C0KfcQ"
      },
      "source": [
        "\n",
        "\n",
        "\n",
        "### **1.1.1 Assign values to variables**"
      ]
    },
    {
      "cell_type": "code",
      "metadata": {
        "id": "ZMR0QXM8ZfOu"
      },
      "source": [
        "# This is an integer (a number without any decimal points)\n",
        "variable1 = 5 \n",
        "\n",
        "# This is another integer\n",
        "variable2 = 7\n",
        "\n",
        "# This is a float (a number with decimal points)\n",
        "variable3 = -2.563\n",
        "\n",
        "# This is a string (a sequences of characters)\n",
        "variable4 = 'Hello World'\n",
        "\n",
        "# This is a list (a set of different items)\n",
        "variable5 = [1,2, 'Tomato',0,'???']\n"
      ],
      "execution_count": null,
      "outputs": []
    },
    {
      "cell_type": "markdown",
      "metadata": {
        "id": "ToKYNDaAyPsW"
      },
      "source": [
        "Let's check out what's inside these variables:"
      ]
    },
    {
      "cell_type": "code",
      "metadata": {
        "id": "Ixn2V250ySMu"
      },
      "source": [
        "variable5"
      ],
      "execution_count": null,
      "outputs": []
    },
    {
      "cell_type": "markdown",
      "metadata": {
        "id": "ZtWQb84byXEm"
      },
      "source": [
        "**IMPORTANT!** \n",
        "\n",
        "Variable names are somewhat arbitrary, but try to give your variables sensible names that explain what kind of information they hold (remember the drawer example above). This prevents a lot of confusion when you come back to code you wrote weeks or months ago!\n",
        "\n",
        "Also, there a few general rules for naming variables.\n",
        "\n",
        "1. Variable names shouldn't start with a **number**.\n",
        "2. Variable names shouldn't start with a **special symbol** (e.g. $ or ^)."
      ]
    },
    {
      "cell_type": "code",
      "metadata": {
        "id": "rn9FI0Y6mz2R"
      },
      "source": [
        "# See what happens when you try to give your variable an invalid name.\n",
        "^my_var = 12"
      ],
      "execution_count": null,
      "outputs": []
    },
    {
      "cell_type": "markdown",
      "metadata": {
        "id": "o5th5t33Zyut"
      },
      "source": [
        "### **1.1.2 Operations using defined variables**\n"
      ]
    },
    {
      "cell_type": "markdown",
      "metadata": {
        "id": "yOg3z730yyrF"
      },
      "source": [
        "What makes programming languages so powerful is their ability to perform various operations on the variables you have defined. In this section, you'll learn a few of those!"
      ]
    },
    {
      "cell_type": "markdown",
      "metadata": {
        "id": "lK9eXsq_LDs_"
      },
      "source": [
        "#### **Basic addition & subtraction**"
      ]
    },
    {
      "cell_type": "markdown",
      "metadata": {
        "id": "mvNvJOcRiO7B"
      },
      "source": [
        "Let's write a program that adds two of the variables we have defined above:"
      ]
    },
    {
      "cell_type": "code",
      "metadata": {
        "id": "2_X2OvzSZ4hc"
      },
      "source": [
        "variable1 + variable2 "
      ],
      "execution_count": null,
      "outputs": []
    },
    {
      "cell_type": "markdown",
      "metadata": {
        "id": "s4KDNWcIaeEH"
      },
      "source": [
        "You can conduct basic math directly in-line, but if you need more than one operation to run, you'll want to assign them to variables:\n"
      ]
    },
    {
      "cell_type": "code",
      "metadata": {
        "id": "rKPxwjW9adGK"
      },
      "source": [
        "sum_of_two = variable1 + variable2\n",
        "difference = variable1 - variable2\n",
        "difference2 = difference - variable3"
      ],
      "execution_count": null,
      "outputs": []
    },
    {
      "cell_type": "markdown",
      "metadata": {
        "id": "kbPxKxvvLLtW"
      },
      "source": [
        "Notice how the results of these operations were not automatically displayed in the command line. This is desired behaviour of any programming language. Imagine that you have a very long and complicated script full of mathematical operations, but are only interested in the end result. It would be a nightmare if each and every intermediate result was displayed in the command line.."
      ]
    },
    {
      "cell_type": "markdown",
      "metadata": {
        "id": "-QqXgNiXLsvY"
      },
      "source": [
        "To display specific variables (and some text) in the command line, use the **print** statement.  \n",
        "\n",
        "The print statement is a **function**. As in maths, functions take some value as input, apply a transformation and return the result of this transformation as output. In case of the print statement, it takes strings of characters and variables as input, and - as the name suggests - \"prints\" the result to the command line (in our case the space below a cell with Python code). We'll learn more about functions later in the course.  \n",
        "As you can see in the example below, the print function accepts all sorts of different input formats. Choose the one that works best for you!"
      ]
    },
    {
      "cell_type": "code",
      "metadata": {
        "id": "WIhvjpB0LNx5"
      },
      "source": [
        "# One variable\n",
        "print(difference2) \n",
        "\n",
        "# Multiple variables can be separated by a comma\n",
        "print(sum_of_two, difference)\n",
        "\n",
        "# We can also construct a string by concatenating text and numbers (that we have turned into strings using the str() function)\n",
        "print('Sum of int1 and int2 is ' + str(sum_of_two) + ' and difference between them is ' + str(difference))\n",
        "\n",
        "# You can also use {} as placeholders and use the format method to feed values into the placeholders\n",
        "print('Sum of int1 and int2 is {}, and differene between them is {}'.format(sum_of_two, difference))"
      ],
      "execution_count": null,
      "outputs": []
    },
    {
      "cell_type": "code",
      "metadata": {
        "id": "7irA9yDHf25y"
      },
      "source": [
        "# In case you were confused: Python distinguishes between different types of variables. \n",
        "# If we assign a number to a variable, Python will assume that it's a number.\n",
        "# If we put that same number into quotation marks, it will assume it's a string (= letter on your keyboard) and can't do maths with it.\n",
        "# \"+\" between numbers adds them up. \"+\" between strings concatenates them.\n",
        "five_num = 5\n",
        "five_str = '5' # This is equal to str(five_num)\n",
        "one_num = 1\n",
        "one_str = '1'\n",
        "\n",
        "print(five_num + one_num)\n",
        "print(five_str + one_str)\n",
        "print(five_num + five_str)\n"
      ],
      "execution_count": null,
      "outputs": []
    },
    {
      "cell_type": "markdown",
      "metadata": {
        "id": "Pgabp9RzsrNr"
      },
      "source": [
        "#### **Basic multiplication and division**\n"
      ]
    },
    {
      "cell_type": "markdown",
      "metadata": {
        "id": "L3MZkPW_PN_l"
      },
      "source": [
        "Imagine how limited a programming language would be if you couldn't perform multiplication and division. Luckily, Python has you covered! "
      ]
    },
    {
      "cell_type": "code",
      "metadata": {
        "id": "WxSrtwJBs2-o"
      },
      "source": [
        "int1 = 20\n",
        "int2 = 6\n",
        "product_of_two = int1 * int2\n",
        "quotient_of_two = int1 / int2\n",
        "modulo_of_two = int1 % int2\n",
        "\n",
        "print('Product of int1 and int2 is {}'.format(product_of_two))\n",
        "print('Dividing int1 by int2 yields {} '.format(quotient_of_two))\n",
        "print('The remainder after dividing int1 by int2 is {} '.format(modulo_of_two))\n"
      ],
      "execution_count": null,
      "outputs": []
    },
    {
      "cell_type": "markdown",
      "metadata": {
        "id": "WCx7ErfxwZps"
      },
      "source": [
        "#### **Exponentiation**"
      ]
    },
    {
      "cell_type": "markdown",
      "metadata": {
        "id": "h8-uqyUxPio7"
      },
      "source": [
        "And of course, you can also perform exponentiation!"
      ]
    },
    {
      "cell_type": "code",
      "metadata": {
        "id": "FVpMEi2Cu6DH"
      },
      "source": [
        "base_1 = 2\n",
        "base_2 = 9\n",
        "exponent_1 = 4\n",
        "exponent_2 = -1\n",
        "exponent_3 = 0.5\n",
        "result_1 = base_1**exponent_1\n",
        "result_2 = base_1**exponent_2\n",
        "result_3 = base_2**exponent_3\n",
        "print('2^4= ' + str(result_1))\n",
        "print('2^-1 = 1/2 = ' + str(result_2))\n",
        "print('9^0.5 = square root of 9 =  ' + str(result_3))\n"
      ],
      "execution_count": null,
      "outputs": []
    },
    {
      "cell_type": "markdown",
      "metadata": {
        "id": "3MeFp6c1QSYK"
      },
      "source": [
        "#### **Logical operators**"
      ]
    },
    {
      "cell_type": "markdown",
      "metadata": {
        "id": "hfFV1yhqRgfB"
      },
      "source": [
        "In programming you very often need to know whether some statement is  true or false. This can be achieved with so-called **Boolean variables**, which you'll find very handy over time:"
      ]
    },
    {
      "cell_type": "code",
      "metadata": {
        "id": "478GGuOpRvtf"
      },
      "source": [
        "bool1 = True\n",
        "bool2 = False \n",
        "print(bool1)\n",
        "print(bool2)\n",
        "print(bool1 and bool2)\n",
        "print(bool1 or bool2)\n",
        "print(bool1 and not bool2)"
      ],
      "execution_count": null,
      "outputs": []
    },
    {
      "cell_type": "code",
      "metadata": {
        "id": "0I5lNSpJvpsi"
      },
      "source": [
        "numBelow10 = [1,2,3,4,5,6,7,8,9]\n",
        "demonstrators = 'Timo & Jelka'\n",
        "print(11 in numBelow10) # Check whether number 11 is in the previously defined variable\n",
        "print('a' in demonstrators) # Check if any of the demonstators have letter 'a' in their name"
      ],
      "execution_count": null,
      "outputs": []
    },
    {
      "cell_type": "code",
      "metadata": {
        "id": "sg3Z1VdUrBYq"
      },
      "source": [
        "# Boolean variables also have their numerical value. Check the value of 'True' and 'False' in the code below.\n",
        "print(True == 1)\n",
        "print(False == 0)"
      ],
      "execution_count": null,
      "outputs": []
    },
    {
      "cell_type": "markdown",
      "metadata": {
        "id": "4-mgaaRJSLik"
      },
      "source": [
        "Most frequently, you will be able to check whether relationships between variables are true or false or do something conditionally based on whether a statement is true (see below):"
      ]
    },
    {
      "cell_type": "code",
      "metadata": {
        "id": "5x-bbukLSZeu"
      },
      "source": [
        "print(5 < 6)\n",
        "print(6 >= 5)\n",
        "print(5 != 10/2)\n",
        "print('hello' != 'world')"
      ],
      "execution_count": null,
      "outputs": []
    },
    {
      "cell_type": "markdown",
      "metadata": {
        "id": "gdtGeau7SoJR"
      },
      "source": [
        "Logical operators are very powerful. For instance, you can test whether a variable lies within a certain interval:"
      ]
    },
    {
      "cell_type": "code",
      "metadata": {
        "id": "T_aP4ZQXS38J"
      },
      "source": [
        "int1 = 10\n",
        "print(int1 < 12 and int1 > 9)\n",
        "print( 9 < int1 < 12)"
      ],
      "execution_count": null,
      "outputs": []
    },
    {
      "cell_type": "markdown",
      "metadata": {
        "id": "PGuGYduxaz_w"
      },
      "source": [
        "#### **TASK 1:**\n",
        "\n",
        "1. Open a new Python code cell below this task description for each of the bullet points.\n",
        "2. Calculate the square root of 144 and save it to a variable 'sqroot144'\n",
        "3. Define a string variable that will contain your name - Check if you have letter 'i' in your name\n",
        "4. Assign any 3 numbers (between 1 and 100) to 3 different variables. After doing that, add up your 3 variables and print whether their sum is between 100 and 120\n",
        "5. Check the type of each of your variables you defined by using the function type()\n",
        "\n",
        "**Hint**: You can use a built-in function (sqrt(x)) to calculate the square root of a number.\n",
        "\n",
        "\n"
      ]
    },
    {
      "cell_type": "markdown",
      "metadata": {
        "id": "RUnpVcD6btev"
      },
      "source": [
        "___\n",
        "## **1.2 LOOPS AND STATEMENTS**"
      ]
    },
    {
      "cell_type": "markdown",
      "metadata": {
        "id": "kRL1dl7BzmZQ"
      },
      "source": [
        "Loops allow you to execute the same operation multiple times, but with a different type of input on each iteration.  \n",
        "Statement allow you to structure your code, and have the computer care about certain bits only if conditions you specify are met.  \n",
        "In this section, we'll learn more about both."
      ]
    },
    {
      "cell_type": "markdown",
      "metadata": {
        "id": "snpzo10LhuP_"
      },
      "source": [
        "### **1.2.1 While loops**"
      ]
    },
    {
      "cell_type": "markdown",
      "metadata": {
        "id": "_1p_5qfZh_Ej"
      },
      "source": [
        "Use while loops whenever you need to apply an operation multiple times, but don't know exactly how many iterations are needed:"
      ]
    },
    {
      "cell_type": "code",
      "metadata": {
        "id": "ZwpYDFl6iL2y",
        "outputId": "ce90df57-d873-4abe-8ef7-b3180e1173a5",
        "colab": {
          "base_uri": "https://localhost:8080/"
        }
      },
      "source": [
        "# Example of a while loop\n",
        "x = 500\n",
        "\n",
        "while x > 10:\n",
        "    print(str(x))\n",
        "    x = x // 2\n"
      ],
      "execution_count": null,
      "outputs": [
        {
          "output_type": "stream",
          "text": [
            "500\n",
            "250\n",
            "125\n",
            "62\n",
            "31\n",
            "15\n"
          ],
          "name": "stdout"
        }
      ]
    },
    {
      "cell_type": "markdown",
      "metadata": {
        "id": "lKXrCp-TLmOW"
      },
      "source": [
        "### **1.2.2 For loops**"
      ]
    },
    {
      "cell_type": "markdown",
      "metadata": {
        "id": "HsL51e_xMPYI"
      },
      "source": [
        "For loops come in handy whenever you need to apply a function to each item of a\n",
        "(potentially very long) list, and you know exactly how many iterations you need:\n"
      ]
    },
    {
      "cell_type": "code",
      "metadata": {
        "id": "RHHklUPmbOj8",
        "outputId": "682207c8-660d-421f-997a-3b2cc407e383",
        "colab": {
          "base_uri": "https://localhost:8080/"
        }
      },
      "source": [
        "# Example of a for loop\n",
        "modules = [\"cognitive\", \"developmental\", \"neuro\", \"clinical\", \"social\", \"computational\"]\n",
        "\n",
        "for x in modules:\n",
        "    print(x)\n",
        "\n",
        "# For loops can also iterate over a sequence of numbers using the \"range\" function. \n",
        "for x in range(5): # A sequence starts with 0 and ends with 4!\n",
        "    print(x)"
      ],
      "execution_count": null,
      "outputs": [
        {
          "output_type": "stream",
          "text": [
            "cognitive\n",
            "developmental\n",
            "neuro\n",
            "clinical\n",
            "social\n",
            "computational\n",
            "0\n",
            "1\n",
            "2\n",
            "3\n",
            "4\n"
          ],
          "name": "stdout"
        }
      ]
    },
    {
      "cell_type": "markdown",
      "metadata": {
        "id": "MSfT3btSMAwc"
      },
      "source": [
        "### **1.2.3 If-then conditionals**"
      ]
    },
    {
      "cell_type": "markdown",
      "metadata": {
        "id": "lBSojpjp0X9V"
      },
      "source": [
        "Before we talk about if-then conditionals, let's first learn something new: the **len()** command counts the number if symbols in a list.\n",
        "\n",
        "Example:\n"
      ]
    },
    {
      "cell_type": "code",
      "metadata": {
        "id": "p0CvFZTZ0ebY"
      },
      "source": [
        "# Let's count how many numbers are in this list\n",
        "print(len([4,5,5,2,1]))\n",
        "\n",
        "# Note that it also works with strings (which are essentially lists of symbols)\n",
        "print(len('hello world'))"
      ],
      "execution_count": null,
      "outputs": []
    },
    {
      "cell_type": "markdown",
      "metadata": {
        "id": "SB7x5emzM78i"
      },
      "source": [
        "Programming is all about case-specific processing. \n",
        "\n",
        "Use if-then statements \n",
        "to process inputs depending on conditions you have specified:"
      ]
    },
    {
      "cell_type": "code",
      "metadata": {
        "id": "FpXo3d-dcGWn"
      },
      "source": [
        "# Example of a if-then statement\n",
        "favoriteModule = \"computational\"\n",
        "firstModule = \"social\"\n",
        "\n",
        "if len(firstModule) != len(favoriteModule): \n",
        "    print('These modules are of different lengths!')\n",
        "elif len(firstModule) == len(favoriteModule): \n",
        "    print('These modules are of same lengths!')\n",
        "\n",
        "# Based on what you have seen so far, what is the difference between = and == in Python?"
      ],
      "execution_count": null,
      "outputs": []
    },
    {
      "cell_type": "markdown",
      "metadata": {
        "id": "yQMQq9RRLduW"
      },
      "source": [
        "Very often you'll find that you want to check multiple conditions before doing something with your variables. You can do this by using logical connectors such as 'and' or 'or'. \n",
        "\n",
        "[Link to a good starting point on Boolean operators in Python ](https://https://docs.python.org/2.0/ref/lambda.html)"
      ]
    },
    {
      "cell_type": "code",
      "metadata": {
        "id": "UeAXZzvUc8le",
        "outputId": "f38ac300-2af3-4ed0-e02f-4306088fcb52",
        "colab": {
          "base_uri": "https://localhost:8080/"
        }
      },
      "source": [
        "a = 200\n",
        "b = 33\n",
        "c = 500\n",
        "\n",
        "if a > b and c > a:\n",
        "    print('Both conditions are true!')\n",
        "elif a > b or c > a: \n",
        "    print('At least one of the conditions is true!')\n",
        "else:\n",
        "    print('Both conditions are not true!')"
      ],
      "execution_count": null,
      "outputs": [
        {
          "output_type": "stream",
          "text": [
            "Both conditions are true!\n"
          ],
          "name": "stdout"
        }
      ]
    },
    {
      "cell_type": "markdown",
      "metadata": {
        "id": "rkpr5XvjcKwV"
      },
      "source": [
        "#### **TASK 2:**\n",
        "\n",
        "Write your own loops.\n",
        "\n",
        "Given:\n",
        "\n",
        "```\n",
        " modules = [\"cognitive\", \"developmental\", \"neuro\", \"clinical\", \"social\", \"computational\"]\n",
        " comparisonVariable = \"introductory\"\n",
        "```\n",
        " \n",
        "Determine whether any of the modules have names that are longer than the comparison variable."
      ]
    },
    {
      "cell_type": "code",
      "metadata": {
        "id": "cwYlwrZGcI46"
      },
      "source": [
        "modules = [\"cognitive\", \"developmental\", \"neuro\", \"clinical\", \"social\", \"computational\"]\n",
        "comparisonVariable = \"introductory\"\n",
        "\n",
        "# Type your code below:\n"
      ],
      "execution_count": null,
      "outputs": []
    },
    {
      "cell_type": "markdown",
      "metadata": {
        "id": "XsLHWHzl2Yqc"
      },
      "source": [
        "#### **BONUS TASK**:\n",
        "\n",
        "If you finish the above task early, try to write a loop that will print all numbers from the list 'numbersUpTo100' that are simultaneously divisible by 7 and by 3.\n",
        "\n",
        "**Question**: How do we get Python to do nothing within the if-else statement? (Google, Google, Google)"
      ]
    },
    {
      "cell_type": "code",
      "metadata": {
        "id": "QSkxcH2r2_p4"
      },
      "source": [
        "numbersUpTo100 = list(range(1,101))\n",
        "\n",
        "# Type your code below:\n"
      ],
      "execution_count": null,
      "outputs": []
    },
    {
      "cell_type": "markdown",
      "metadata": {
        "id": "mzr0TpU0w7kz"
      },
      "source": [
        "___\n",
        "## **1.3 FUNCTIONS**\n"
      ]
    },
    {
      "cell_type": "markdown",
      "metadata": {
        "id": "SSpSOOeGw7y7"
      },
      "source": [
        "### **1.3.1 Introduction to functions**"
      ]
    },
    {
      "cell_type": "markdown",
      "metadata": {
        "id": "IGEpBh8U4th_"
      },
      "source": [
        "Functions are nothing new. You have already worked with them in the previous exercises!\n",
        "\n",
        "Here are some examples...\n",
        "\n"
      ]
    },
    {
      "cell_type": "code",
      "metadata": {
        "id": "DDjZgAnt43KP"
      },
      "source": [
        "print(\"hello world\")\n",
        "print(\"2*3:\",2*3)\n",
        "print(len(\"hello world\"))"
      ],
      "execution_count": null,
      "outputs": []
    },
    {
      "cell_type": "markdown",
      "metadata": {
        "id": "JmJxHvCw5DYD"
      },
      "source": [
        "What makes coding so great is that you're able to write your own functions! Whenever you identify a recurring task in your workflow, consider writing a function instead of copying and pasting the code over and over again:"
      ]
    },
    {
      "cell_type": "code",
      "metadata": {
        "id": "7b3xPktW6Y-k"
      },
      "source": [
        "# Naive approach for testing parity of several numbers:\n",
        "if 3 % 2 == 0:\n",
        "    print('{} is even'.format(3))\n",
        "else:\n",
        "    print('{} is odd'.format(3))\n",
        "\n",
        "    \n",
        "if 2 % 2 == 0:\n",
        "    print('{} is even'.format(2))\n",
        "else:\n",
        "    print('{} is odd'.format(2))\n",
        "\n",
        "\n",
        "if 11 % 2 == 0:\n",
        "    print('{} is even'.format(11))\n",
        "else:\n",
        "    print('{} is odd'.format(11))"
      ],
      "execution_count": null,
      "outputs": []
    },
    {
      "cell_type": "markdown",
      "metadata": {
        "id": "UQTXRi0dN83D"
      },
      "source": [
        "In the example above, we tested whether several numbers are odd or even.\n",
        "Instead of repeating the same thing over and over again, we can put it in a neat little function:"
      ]
    },
    {
      "cell_type": "code",
      "metadata": {
        "id": "lWLm6V4m5u2F"
      },
      "source": [
        "# Let's write a function that does the work for us!\n",
        "def return_parity(n):\n",
        "    result = str(n) + ' is'\n",
        "    if n % 2 == 0:\n",
        "        return result + ' even'\n",
        "    else:\n",
        "        return result + ' odd'\n",
        "  "
      ],
      "execution_count": null,
      "outputs": []
    },
    {
      "cell_type": "markdown",
      "metadata": {
        "id": "JyICkQ5pOL4s"
      },
      "source": [
        "Now we can simply apply the function to each of the numbers we're interested in."
      ]
    },
    {
      "cell_type": "code",
      "metadata": {
        "id": "YumornB_5-se"
      },
      "source": [
        "print(return_parity(3))\n",
        "print(return_parity(2))\n",
        "print(return_parity(11))"
      ],
      "execution_count": null,
      "outputs": []
    },
    {
      "cell_type": "markdown",
      "metadata": {
        "id": "AH7C4IhcORjX"
      },
      "source": [
        "By the way, if-else statements can be compressed into one-liners:"
      ]
    },
    {
      "cell_type": "code",
      "metadata": {
        "id": "NINVFIb68AGv"
      },
      "source": [
        "# Let's make this shorter\n",
        "def return_parity(n):\n",
        "    result = str(n) + ' is '\n",
        "    return result + 'even' if n % 2 == 0 else result + 'odd'"
      ],
      "execution_count": null,
      "outputs": []
    },
    {
      "cell_type": "markdown",
      "metadata": {
        "id": "pTRmLDpsOY2e"
      },
      "source": [
        "Did you notice something? We applied the function to several different numbers.\n",
        "Why not put all numbers in a list and use a loop to iterate over them?"
      ]
    },
    {
      "cell_type": "code",
      "metadata": {
        "id": "XOOlnKtP60la"
      },
      "source": [
        "# Let's combine this with loops\n",
        "numbers = [3, 2, 11]\n",
        "for num in numbers:\n",
        "    print(return_parity(num))"
      ],
      "execution_count": null,
      "outputs": []
    },
    {
      "cell_type": "markdown",
      "metadata": {
        "id": "C7WPZXDKOmWj"
      },
      "source": [
        "Functions can be put inside other functions. Let's write a wrapper that iterates over a list!"
      ]
    },
    {
      "cell_type": "code",
      "metadata": {
        "id": "MCdYiXfz8TNh"
      },
      "source": [
        "#let's write a wrapper!\n",
        "def check_item_parity(arr):\n",
        "    for ii in arr:\n",
        "        print(return_parity(ii))\n",
        "  "
      ],
      "execution_count": null,
      "outputs": []
    },
    {
      "cell_type": "code",
      "metadata": {
        "id": "av8aRHhA8i3o"
      },
      "source": [
        "check_item_parity(numbers)"
      ],
      "execution_count": null,
      "outputs": []
    },
    {
      "cell_type": "markdown",
      "metadata": {
        "id": "HJOPv3VvMR2Q"
      },
      "source": [
        "Now if you define a different list of numbers you want to check parity for, you can simply use your wrapped function instead of calling return_parity over and over again. See below: "
      ]
    },
    {
      "cell_type": "code",
      "metadata": {
        "id": "DQccQdsSMRH8"
      },
      "source": [
        "longerArray = [2, 3, 4, 5, 6, 7, 8, 9, 10, 23, 25, 72, 43, 52, 26, 24, 23, 16]\n",
        "check_item_parity(longerArray)"
      ],
      "execution_count": null,
      "outputs": []
    },
    {
      "cell_type": "markdown",
      "metadata": {
        "id": "MXRslFfC9z2y"
      },
      "source": [
        "Functions are treated as so-called first class objects - you can assign them to variables..."
      ]
    },
    {
      "cell_type": "code",
      "metadata": {
        "id": "C-Lz-FE5khlr"
      },
      "source": [
        "my_len = len\n",
        "print(my_len(\"hello world\"))\n",
        "\n",
        "# (don't ask why you would want to do this. but it works x) )"
      ],
      "execution_count": null,
      "outputs": []
    },
    {
      "cell_type": "markdown",
      "metadata": {
        "id": "93UltCxhkuWi"
      },
      "source": [
        "... and you can pass them as inputs to other functions."
      ]
    },
    {
      "cell_type": "code",
      "metadata": {
        "id": "pZEmLJMc9zJI"
      },
      "source": [
        "def do_sth_with_number(number, something):\n",
        "    print(something(number))"
      ],
      "execution_count": null,
      "outputs": []
    },
    {
      "cell_type": "code",
      "metadata": {
        "id": "tP8FC7bp-HSY"
      },
      "source": [
        "do_sth_with_number(-2, abs)\n",
        "do_sth_with_number(9.34, round)\n",
        "do_sth_with_number(9, return_parity)"
      ],
      "execution_count": null,
      "outputs": []
    },
    {
      "cell_type": "markdown",
      "metadata": {
        "id": "1iHVY95Yw_SC"
      },
      "source": [
        "### **1.3.2 Docstrings**"
      ]
    },
    {
      "cell_type": "markdown",
      "metadata": {
        "id": "MqiVSoJ2xEMO"
      },
      "source": [
        "Programming can be a very complicated endeavour. \n",
        "Who is able to remember each and every function and how to use it? **Nobody.** \n",
        "\n",
        "In fact, in real life, whenever you need to write a program, you'll notice that you spend most of the time Googling stuff and scrolling through online forums. That's absolutely normal and even the biggest coding pros do this all the time.  \n",
        "But even if you don't have internet, there's still hope: Python provides documentation for all of its built-in functions. These brief info snippets are called **docstrings** and now, you will learn two ways to access them.  \n",
        "\n",
        "First, you could simply add a question mark to the function you're interested in, and execute the line of code:"
      ]
    },
    {
      "cell_type": "code",
      "metadata": {
        "id": "XPwUSARfxN0J"
      },
      "source": [
        "print?"
      ],
      "execution_count": null,
      "outputs": []
    },
    {
      "cell_type": "markdown",
      "metadata": {
        "id": "yr3ivSE_xNaB"
      },
      "source": [
        "Docstring:\n",
        "print(value, ..., sep=' ', end='\\n', file=sys.stdout, flush=False)\n",
        "\n",
        "Prints the values to a stream, or to sys.stdout by default.\n",
        "Optional keyword arguments:\n",
        "file:  a file-like object (stream); defaults to the current sys.stdout.\n",
        "sep:   string inserted between values, default a space.\n",
        "end:   string appended after the last value, default a newline.\n",
        "flush: whether to forcibly flush the stream.\n",
        "Type:      builtin_function_or_method"
      ]
    },
    {
      "cell_type": "markdown",
      "metadata": {
        "id": "fEEYnPu5xYDw"
      },
      "source": [
        "Alternatively, you pass it as argument to the help function:"
      ]
    },
    {
      "cell_type": "code",
      "metadata": {
        "id": "iLl4saNrxcda"
      },
      "source": [
        "help(print)"
      ],
      "execution_count": null,
      "outputs": []
    },
    {
      "cell_type": "markdown",
      "metadata": {
        "id": "DJd_iruuxiFG"
      },
      "source": [
        "**When you write your own functions, don't forget to add documentation on how to use them.** \n",
        "\n",
        "This saves a lot of time and avoids nervous breakdowns when you come back to your code a few months later. \n",
        "In fact, you can easily write your own docstrings! Here's an example:"
      ]
    },
    {
      "cell_type": "code",
      "metadata": {
        "id": "niGmfSinyQnM"
      },
      "source": [
        "def return_parity(n):\n",
        "    \"\"\" \n",
        "      This function tests whether its input is odd or even.\n",
        "      INPUT: (int) an arbitrary number\n",
        "      OUTPUT: (str) 'even' or 'odd' \n",
        "    \"\"\"\n",
        "    result = str(n) + ' is '\n",
        "    return result + 'even' if n % 2 == 0 else result + 'odd'\n"
      ],
      "execution_count": null,
      "outputs": []
    },
    {
      "cell_type": "code",
      "metadata": {
        "id": "HmiqetkRyfxa"
      },
      "source": [
        "help(return_parity)"
      ],
      "execution_count": null,
      "outputs": []
    },
    {
      "cell_type": "markdown",
      "metadata": {
        "id": "DFSomZjhDMBY"
      },
      "source": [
        "#### **TASK 3:**"
      ]
    },
    {
      "cell_type": "markdown",
      "metadata": {
        "id": "7L_29-wrPX3k"
      },
      "source": [
        "Write a function that takes a list of numbers as input and returns the **mean** of these numbers.\n",
        "\n",
        "Remember, given a vector of numbers\n",
        "> $\\textbf{x} = [x_1, x_2, x_3, x_4, ...., x_n]$\n",
        "  \n",
        "the mean is defined as:  \n",
        "\n",
        "> $mean(\\textbf{x})=\\frac{1}{N}\\sum_{i=1}^{N} x_i = \\frac{1}{N}(x_1 + x_2 + x_3 + ... + x_n)$\n",
        "\n",
        "**Don't forget to add docstrings to your function!**\n"
      ]
    },
    {
      "cell_type": "code",
      "metadata": {
        "id": "VYIMV0z5DQcx"
      },
      "source": [
        "numbers = [2,5,8,7,1,4,4,9]\n",
        "\n",
        "# Type your code below:\n",
        "\n"
      ],
      "execution_count": null,
      "outputs": []
    },
    {
      "cell_type": "markdown",
      "metadata": {
        "id": "RtoqtwAhQfQC"
      },
      "source": [
        "Now write a function that computes the **variance** of a list of numbers.\n",
        "\n",
        "Remember, the variance is defined as \n",
        "> $var(\\textbf{x}) = \\frac{1}{N} \\sum_{i=1}^{N}(x_i-\\bar{x})^2$, where $mean(\\textbf{x}) = \\bar{x}$  \n",
        ">\n",
        "> or alternatively:  \n",
        ">\n",
        "> $var(\\textbf{x}) = \\frac{1}{N} \\sum_{i=1}^{N}(x_i^2) -\\bar{x}^2$ (\"expectation of square minus square of expectation\")\n",
        "\n",
        "**Don't forget to add docstrings to your function!**\n",
        "\n"
      ]
    },
    {
      "cell_type": "code",
      "metadata": {
        "id": "u6LkZn5cyDSQ"
      },
      "source": [
        "numbers = [2,5,8,7,1,4,4,9]\n",
        "\n",
        "# Type your code below:\n"
      ],
      "execution_count": null,
      "outputs": []
    },
    {
      "cell_type": "markdown",
      "metadata": {
        "id": "3zMd-uHYMoMG"
      },
      "source": [
        "#### **BONUS TASK**:\n",
        "\n",
        "After you have written the functions yourself, you can try an alternative way to calculate mean and variance in Python.\n",
        "\n",
        "**Hint:** Google Python's **statistics** module.\n"
      ]
    },
    {
      "cell_type": "code",
      "metadata": {
        "id": "H6WswYbeMnSa"
      },
      "source": [
        "numbers = [2,5,8,7,1,4,4,9]\n",
        "\n",
        "# Type your code below:\n"
      ],
      "execution_count": null,
      "outputs": []
    },
    {
      "cell_type": "markdown",
      "metadata": {
        "id": "27GJWJouueMT"
      },
      "source": [
        "### **BONUS: Advanced Programming Principle: Recursion**"
      ]
    },
    {
      "cell_type": "markdown",
      "metadata": {
        "id": "BIMbYEDP8nmx"
      },
      "source": [
        "Functions are very versatile! They can even call themselves with a subset of of the \n",
        "original problem. This is called recursion. Below is a naive solution to find the factorial of a number.\n",
        "As reminder, a factorial of a number n is just a product of all integers from 1 to n:  \n",
        "**n! = 1*2*3*4*......*n**"
      ]
    },
    {
      "cell_type": "code",
      "metadata": {
        "id": "yOkX7i2N812U"
      },
      "source": [
        "def iterative_factorial(n):\n",
        "    fact = 1\n",
        "    for ii in range(n):\n",
        "        fact *= ii+1\n",
        "    return fact"
      ],
      "execution_count": null,
      "outputs": []
    },
    {
      "cell_type": "code",
      "metadata": {
        "id": "xipMmXl381-Y"
      },
      "source": [
        "print(\"4!: \",iterative_factorial(4))"
      ],
      "execution_count": null,
      "outputs": []
    },
    {
      "cell_type": "code",
      "metadata": {
        "id": "FfXsrVk65UbT"
      },
      "source": [
        "def recursive_factorial(n):\n",
        "    if n >1:\n",
        "        fact = n*recursive_factorial(n-1)\n",
        "        return fact\n",
        "    else:\n",
        "        return n\n",
        "    "
      ],
      "execution_count": null,
      "outputs": []
    },
    {
      "cell_type": "code",
      "metadata": {
        "id": "-T5K_cXi5par"
      },
      "source": [
        "print(\"4!: \",recursive_factorial(4))"
      ],
      "execution_count": null,
      "outputs": []
    },
    {
      "cell_type": "markdown",
      "metadata": {
        "id": "yLgaYKSq-yoc"
      },
      "source": [
        "___\n",
        "## **1.4 .METHODS()**"
      ]
    },
    {
      "cell_type": "markdown",
      "metadata": {
        "id": "H3FV0ztQ-2mm"
      },
      "source": [
        "Python is an object-oriented language. An object is an abstract entity that contains \n",
        "some data and functions that can be applied to the data (Imagine a drawer (container) for socks (data) that has a built-in sock sorting machine (function)).   Functions that are applied directly to objects are called **methods**. In this section we'll learn how to apply methods to objects.  \n",
        "\n",
        "\n",
        "Many entities in Python are objects. For example, strings are objects as they contain some data, as for example \"hello world\", and they come with many functions that can be applied to the data. \n",
        "\n",
        "Let's have a look at an example:"
      ]
    },
    {
      "cell_type": "markdown",
      "metadata": {
        "id": "k7EErE7uwYr4"
      },
      "source": [
        "### **1.4.1 Example: Methods to manipulate strings**"
      ]
    },
    {
      "cell_type": "code",
      "metadata": {
        "id": "1P-XaCi7_QgI"
      },
      "source": [
        "# First, we create a simple variable that contains a sequence of symbols\n",
        "string = \"hello world\"\n",
        "\n",
        "# Python understands that this is a string, and allows you to apply methods\n",
        "# that are purpose-built for string manipulation:\n",
        "print(string.upper())\n",
        "print(string.capitalize())\n",
        "print(string.replace(' world',', nice to meet you'))\n",
        "listOfWords = string.split(' ')\n",
        "print(listOfWords)\n",
        "newString = ', '.join(listOfWords)\n",
        "print(newString)"
      ],
      "execution_count": null,
      "outputs": []
    },
    {
      "cell_type": "markdown",
      "metadata": {
        "id": "crIH7Usv_8T-"
      },
      "source": [
        "In contrast to functions, for which the syntax is **function(argument)**, methods are bound to objects. Thus, the syntax is **object.method(argument)**."
      ]
    },
    {
      "cell_type": "markdown",
      "metadata": {
        "id": "QWfolgywwldz"
      },
      "source": [
        "### **1.4.2 Methods are object specific!**"
      ]
    },
    {
      "cell_type": "markdown",
      "metadata": {
        "id": "3mPPCEK2AIvg"
      },
      "source": [
        "As methods are bound to a particular object type, you can't apply them to other objects. For instance, you can't capitalise numbers:"
      ]
    },
    {
      "cell_type": "code",
      "metadata": {
        "id": "rSlCxzm4AXl3"
      },
      "source": [
        "# Let's create a variable that contains a number\n",
        "number = 0.5\n",
        "\n",
        "# Python realises that this is not a string, and therefore you're not able to capitalise it!\n",
        "number.capitalize()\n"
      ],
      "execution_count": null,
      "outputs": []
    },
    {
      "cell_type": "markdown",
      "metadata": {
        "id": "w4V1QmNHwsXo"
      },
      "source": [
        "### **1.4.3 How to figure out which methods are provided for a given object**"
      ]
    },
    {
      "cell_type": "markdown",
      "metadata": {
        "id": "b3k3rv7BAfIa"
      },
      "source": [
        "To see a list of all available methods, either press [TAB] after placing a dot behind an object, or use the following syntax:"
      ]
    },
    {
      "cell_type": "code",
      "metadata": {
        "id": "UfXxkA0TAdUI"
      },
      "source": [
        "dir(str)"
      ],
      "execution_count": null,
      "outputs": []
    },
    {
      "cell_type": "code",
      "metadata": {
        "id": "kXOmSeJoA_7P"
      },
      "source": [
        "help(str.split)"
      ],
      "execution_count": null,
      "outputs": []
    },
    {
      "cell_type": "markdown",
      "metadata": {
        "id": "bB6MQJKAsfaI"
      },
      "source": [
        "#### **TASK 4**:\n",
        "You're given the following two strings:\n",
        "\n",
        "```python\n",
        "gibberish_1 = 'is much I can''t enough.'\n",
        "gibberish_2 = 'cOdinG sO FuN. JuST gEt '\n",
        "```\n",
        "1. Turn the strings into lists of words (use the .split method)\n",
        "2. Make sure that gibberish_2 contains only lower case letters (.lower() method)\n",
        "3. Create a new empty list ( assign [] to a variable)\n",
        "4. Loop through 5 steps and for each iteration, add pairs of words to your new empty list \n",
        "5. Turn the list into a string (use the ' '.join(list) method)\n",
        "6. Print the result"
      ]
    },
    {
      "cell_type": "code",
      "metadata": {
        "id": "01VtovFIuBms"
      },
      "source": [
        "gibberish_1 = 'is much I can''t enough.'\n",
        "gibberish_2 = 'cOdinG sO FuN. JuST gEt '\n",
        "\n",
        "# Type your code below:\n"
      ],
      "execution_count": null,
      "outputs": []
    },
    {
      "cell_type": "markdown",
      "metadata": {
        "id": "kRIKZ9Tuo1Mg"
      },
      "source": [
        "#### **TASK 4**:\n",
        "\n",
        "You're given the following string:\n",
        "\n",
        "```python\n",
        "sentence = 'Michaelmas term starts in October.'\n",
        "```\n",
        "\n",
        "1. Write a function that puts all vowels in the upper case, while all the consonants stay in the lower case. Test your function on the variable 'sentence'.\n",
        "\n",
        "2. Create a new variable where the word 'Michaelmas' will be replaced with the word 'Trinity' and 'October' with 'April'."
      ]
    },
    {
      "cell_type": "code",
      "metadata": {
        "id": "Nyhz2wxbqFxY",
        "outputId": "8091d80b-582b-4c5b-faa9-5b40f9b612ab",
        "colab": {
          "base_uri": "https://localhost:8080/",
          "height": 35
        }
      },
      "source": [
        "sentence = 'Michaelmas term starts in October.'\n",
        "\n",
        "# Type your code below:\n"
      ],
      "execution_count": null,
      "outputs": [
        {
          "output_type": "execute_result",
          "data": {
            "application/vnd.google.colaboratory.intrinsic+json": {
              "type": "string"
            },
            "text/plain": [
              "'mIchAElmAs tErm stArts In OctObEr.'"
            ]
          },
          "metadata": {
            "tags": []
          },
          "execution_count": 36
        }
      ]
    },
    {
      "cell_type": "code",
      "metadata": {
        "id": "tft-4ClLtGAE"
      },
      "source": [
        "# Solution (Task 1):\n",
        "def UpperVowelsLowerConsonants(string):\n",
        "  newString = []\n",
        "  vowels = ['a','e','i','o','u', 'A', 'E', 'I', 'O', 'U']\n",
        "  for letter in string:\n",
        "    if letter in vowels:\n",
        "      letter = letter.upper()\n",
        "      newString.append(letter)\n",
        "    else:\n",
        "      letter = letter.lower()\n",
        "      newString.append(letter)\n",
        "  newString = ''.join(newString)\n",
        "  return(newString)\n",
        "\n",
        "UpperVowelsLowerConsonants(sentence)"
      ],
      "execution_count": null,
      "outputs": []
    },
    {
      "cell_type": "code",
      "metadata": {
        "id": "qjMdZoQttHJb",
        "outputId": "5ea9b7b8-8eaa-4e5d-ee90-28a2ce410f85",
        "colab": {
          "base_uri": "https://localhost:8080/"
        }
      },
      "source": [
        "# Solution (Task 2):\n",
        "sentenceTT = sentence.replace('Michaelmas', 'Trinity')\n",
        "sentenceTT = sentenceTT.replace('October', 'April')\n",
        "\n",
        "print(sentenceTT)"
      ],
      "execution_count": null,
      "outputs": [
        {
          "output_type": "stream",
          "text": [
            "Trinity term starts in April.\n"
          ],
          "name": "stdout"
        }
      ]
    },
    {
      "cell_type": "markdown",
      "metadata": {
        "id": "iMYT-1jkeA-D"
      },
      "source": [
        "# **PART 2: PYTHON FOR SCIENTISTS: PACKAGES/LIBRARIES**"
      ]
    },
    {
      "cell_type": "markdown",
      "metadata": {
        "id": "KZ2ey4tieDtk"
      },
      "source": [
        "Some of the most powerful tools you'll use in Python are packages and libraries. These contain useful functions - from quite simple to more advanced ones. We'll go through only a few basic examples today, but we'll leave you with a list of libraries and packages to check out: \n",
        "\n",
        "- numpy \n",
        "- matplotlib\n",
        "- seaborn\n",
        "- scipy \n",
        "\n",
        "**You'll need to import every package you want to use**. This is not a one-time thing - you have to do it in each new Python notebook. With time you'll have a pretty good sense of what packages you need (and Stackoverflow to the rescue, always!). "
      ]
    },
    {
      "cell_type": "code",
      "metadata": {
        "id": "rJ2HS41meCVi"
      },
      "source": [
        "# Try it yourself\n",
        "import numpy"
      ],
      "execution_count": null,
      "outputs": []
    },
    {
      "cell_type": "code",
      "metadata": {
        "id": "pZKg3nTiejs_"
      },
      "source": [
        "# Calculate the mean in a new way\n",
        "array = [2, 4, 6, 8, 10]\n",
        "\n",
        "averageOfArray = numpy.mean(array)\n",
        "print(averageOfArray)"
      ],
      "execution_count": null,
      "outputs": []
    },
    {
      "cell_type": "code",
      "metadata": {
        "id": "kCpKWnkQe24A"
      },
      "source": [
        "# Alternatively, you can use abbreviations for packages - this is really handy. \n",
        "import numpy as np\n",
        "\n",
        "averageOfArray = np.mean(array)\n",
        "print(averageOfArray)"
      ],
      "execution_count": null,
      "outputs": []
    },
    {
      "cell_type": "code",
      "metadata": {
        "id": "7BrCkOThe_xC"
      },
      "source": [
        "# And, of course, you can print or use any of these directly, such as: \n",
        "print(np.mean(array))"
      ],
      "execution_count": null,
      "outputs": []
    },
    {
      "cell_type": "code",
      "metadata": {
        "id": "k5nXc37mfD1j"
      },
      "source": [
        "# Numpy is also powerful in prepopulating your arrays\n",
        "a = np.zeros((2))  \n",
        "print(a) \n",
        "\n",
        "print('') # Space to separate outputs\n",
        "\n",
        "# Even if you need multiple dimensions\n",
        "b = np.ones((2, 2))\n",
        "print(b)\n",
        "\n",
        "print('') # Space to separate outputs\n",
        "\n",
        "# You can also create an array filled with the same number of choice, something like \n",
        "x = 27.34 \n",
        "c = np.full((5), x)\n",
        "print(c)"
      ],
      "execution_count": null,
      "outputs": []
    },
    {
      "cell_type": "markdown",
      "metadata": {
        "id": "VK4ofpuvD3Dd"
      },
      "source": [
        "### **2.1 DATA VISUALIZATION**"
      ]
    },
    {
      "cell_type": "code",
      "metadata": {
        "id": "96LwqG1WD0yC"
      },
      "source": [
        "# Let's start by plotting something quite simple using a line plot in matplotlib (remember to import this in every notebook)\n",
        "import matplotlib.pyplot as plt\n",
        "\n",
        "x = [1, 2, 3, 4, 5]\n",
        "y = [2, 5, 6, 11, 14]\n",
        "\n",
        "plt.plot(x, y, linestyle='--')"
      ],
      "execution_count": null,
      "outputs": []
    },
    {
      "cell_type": "code",
      "metadata": {
        "id": "7B1bcW2_AV-W"
      },
      "source": [
        "# Alternatively, styles can be spelled out as well (this is true for colors, etc.) \n",
        "plt.plot(x, y, linestyle='dashed', color = 'orange', linewidth = 8)\n"
      ],
      "execution_count": null,
      "outputs": []
    },
    {
      "cell_type": "code",
      "metadata": {
        "id": "pi6oGoDF_2KE"
      },
      "source": [
        "# You will rarely work with variables to plot that are this simple. \n",
        "# Instead, it makes sense to learn how to define your x axis as continuously \n",
        "# increasing so that you can plot your variable of interest on y-axis\n",
        "\n",
        "# Here we take advantage of numpy's functions linspace and sin.\n",
        "\n",
        "import numpy as np\n",
        "\n",
        "x = np.linspace(0, 10, 1000)\n",
        "\n",
        "plt.plot(x, np.sin(x), c = 'magenta', linewidth = 2.5)"
      ],
      "execution_count": null,
      "outputs": []
    },
    {
      "cell_type": "code",
      "metadata": {
        "id": "ZxKqAHg4ACrT"
      },
      "source": [
        "# It's likely you'll often want to look at a relationship between two variables. \n",
        "# You can do this simply by scattering them in matplotlib. \n",
        "\n",
        "x = [1, 2, 3, 4, 5, 1, 2, 3, 4, 5, 1, 2, 3, 4, 5]\n",
        "y = [2, 5, 6, 11, 14, 5, 2, 7, 8, 9, 1, 2, 3, 7, 3]\n",
        "\n",
        "plt.scatter(x, y, color = 'royalblue')\n"
      ],
      "execution_count": null,
      "outputs": []
    },
    {
      "cell_type": "code",
      "metadata": {
        "id": "mQT2wF7UAnPI"
      },
      "source": [
        "# Alternatively, more powerful visualizations are available in seaborn. \n",
        "# Here, we are plotting the exact same data as in the figure above, but we are also denoting \n",
        "# the line of best fit for this data. \n",
        "\n",
        "import pandas as pd\n",
        "import seaborn as sns \n",
        "\n",
        "dataframe = pd.DataFrame({'x': x, \n",
        "                        'y': y})\n",
        "\n",
        "g = sns.lmplot('x', 'y', data = dataframe)"
      ],
      "execution_count": null,
      "outputs": []
    },
    {
      "cell_type": "code",
      "metadata": {
        "id": "BUwQ6z3iBFXF"
      },
      "source": [
        "# Want to know how correlated your variables are? \n",
        "# There are always multiple ways to do things in Python. Here is an example of \n",
        "# how even something as simple as a correlation between two variables can be calculated \n",
        "# using multiple packages. \n",
        "\n",
        "x = [1, 2, 3, 4, 5, 1, 2, 3, 4, 5, 1, 2, 3, 4, 5]\n",
        "y = [2, 5, 6, 11, 14, 5, 2, 7, 8, 9, 1, 2, 3, 7, 3]\n",
        "\n",
        "print('Correlation using numpy: ', np.corrcoef(x, y)[0][1]) # What do you think [0][1] means?\n",
        "\n",
        "from scipy.stats import linregress\n",
        "print('Correlation using scipy: ', linregress(x, y)[2])"
      ],
      "execution_count": null,
      "outputs": []
    },
    {
      "cell_type": "markdown",
      "metadata": {
        "id": "JgVF7vWHwEIS"
      },
      "source": [
        "### **2.2 HANDS-ON DATA VISUALIZATION AND ANALYSIS**\n",
        "\n",
        "Remember the social decision-making experiment you completed a couple of weeks ago?\n",
        "\n",
        "The image below might refresh your memory:\n",
        "\n",
        "![Screenshot 2020-11-12 at 00.02.23.png](data:image/png;base64,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)\n"
      ]
    },
    {
      "cell_type": "markdown",
      "metadata": {
        "id": "MLnNZovhw3pV"
      },
      "source": [
        "We will now try to analyse the same data in Python, let's start!"
      ]
    },
    {
      "cell_type": "markdown",
      "metadata": {
        "id": "Wdkvw8HdtC-1"
      },
      "source": [
        "### **2.2.1 How to visualize and analyze your data when you have a categorical independent variable**\n",
        "\n",
        "\n"
      ]
    },
    {
      "cell_type": "code",
      "metadata": {
        "id": "NNDm52dXwC9W"
      },
      "source": [
        "# Load the data\n",
        "socialDecisionMakingData_ANOVA = pd.read_excel('data_BN_task1.xlsx', sheet_name = 'ANOVA')\n",
        "\n",
        "# Before you start any analysis, explore the ANOVA dataset \n",
        "print(socialDecisionMakingData_ANOVA.shape)\n",
        "\n",
        "# You can have a look at the first five rows using .head()\n",
        "socialDecisionMakingData_ANOVA.head()"
      ],
      "execution_count": null,
      "outputs": []
    },
    {
      "cell_type": "code",
      "metadata": {
        "id": "eWRuXrhDzMYW"
      },
      "source": [
        "# You can look at more (or less) than five rows as well!\n",
        "socialDecisionMakingData_ANOVA.head(10)"
      ],
      "execution_count": null,
      "outputs": []
    },
    {
      "cell_type": "code",
      "metadata": {
        "id": "tmesZXM7zH3R"
      },
      "source": [
        "# Just as you can look at the first five rows, you can look at \n",
        "# the last five using .tail()\n",
        "socialDecisionMakingData_ANOVA.tail()"
      ],
      "execution_count": null,
      "outputs": []
    },
    {
      "cell_type": "code",
      "metadata": {
        "id": "TZRMLNiqzSqq"
      },
      "source": [
        "# You can display all columns and their data types with .info():\n",
        "socialDecisionMakingData_ANOVA.info()"
      ],
      "execution_count": null,
      "outputs": []
    },
    {
      "cell_type": "markdown",
      "metadata": {
        "id": "7VFFl8yu0Quy"
      },
      "source": [
        "#### **TASK 5**:\n",
        "\n",
        "1. Try to find a method that will tell you how many responses there are in the 'low', 'medium' and 'high' condition. (**Question**: How do we access a column in pandas data frame?)\n",
        "\n",
        "2. Try to calculate a grand mean rating score and a mean rating score for each condition.\n",
        "\n",
        "**We haven't covered these methods/functions so far, so head to Google!**"
      ]
    },
    {
      "cell_type": "code",
      "metadata": {
        "id": "-4mA46ySz2dt"
      },
      "source": [
        "# Type your code below:\n",
        "\n",
        "# Solution (Task 1):\n",
        "socialDecisionMakingData_ANOVA['influence_level'].value_counts()\n",
        "\n",
        "# Solution (Task 2):\n",
        "import numpy as np \n",
        "grand_mean = np. mean(socialDecisionMakingData_ANOVA['rating_score']) # Overall mean rating score\n",
        "\n",
        "# Mean rating score per condition\n",
        "mean_per_condition = socialDecisionMakingData_ANOVA.groupby('influence_level').mean()"
      ],
      "execution_count": null,
      "outputs": []
    },
    {
      "cell_type": "markdown",
      "metadata": {
        "id": "e-DhifmBlnJV"
      },
      "source": [
        "**Visualizing distribution of data**"
      ]
    },
    {
      "cell_type": "code",
      "metadata": {
        "id": "HXyBcjsSkJex"
      },
      "source": [
        "import seaborn as sns # We will be relying on seaborn library in this set of tasks\n",
        "\n",
        "# Histogram\n",
        "sns.displot(socialDecisionMakingData_ANOVA, x= \"rating_score\")"
      ],
      "execution_count": null,
      "outputs": []
    },
    {
      "cell_type": "code",
      "metadata": {
        "id": "yVitWMtGkxvt"
      },
      "source": [
        "# We can choose the size of histogram bins\n",
        "# Compare the two plots below\n",
        "\n",
        "# Plot 1\n",
        "sns.displot(socialDecisionMakingData_ANOVA, x= \"rating_score\", binwidth = 0.1)"
      ],
      "execution_count": null,
      "outputs": []
    },
    {
      "cell_type": "code",
      "metadata": {
        "id": "IraExK7Pk1kT"
      },
      "source": [
        "# Plot 2\n",
        "sns.displot(socialDecisionMakingData_ANOVA, x= \"rating_score\", binwidth = 0.01)"
      ],
      "execution_count": null,
      "outputs": []
    },
    {
      "cell_type": "markdown",
      "metadata": {
        "id": "TWKn2re4l433"
      },
      "source": [
        "Now we can ask the question how this distribution might differ across different variables in the dataset."
      ]
    },
    {
      "cell_type": "code",
      "metadata": {
        "id": "MurYEP5hlk9o"
      },
      "source": [
        "# We will plot a separate histogram for each of the unique values of 'influence_level'\n",
        "# Feel free to adjust the binwidth so that you can easily read the plot\n",
        "sns.displot(socialDecisionMakingData_ANOVA, x= \"rating_score\", hue = 'influence_level', multiple = 'dodge') "
      ],
      "execution_count": null,
      "outputs": []
    },
    {
      "cell_type": "markdown",
      "metadata": {
        "id": "56ohD7rRnTBs"
      },
      "source": [
        "**Visualizing data when you have categorical variables**"
      ]
    },
    {
      "cell_type": "code",
      "metadata": {
        "id": "Wru2DhZ4nlJu"
      },
      "source": [
        "# Let's take a closer look at our data\n",
        "# We can specify the type of plot we want by using the argument 'kind'\n",
        "sns.catplot(x=\"influence_level\", y=\"rating_score\",\n",
        "            kind=\"box\", data=socialDecisionMakingData_ANOVA) # This is a so-called box plot "
      ],
      "execution_count": null,
      "outputs": []
    },
    {
      "cell_type": "markdown",
      "metadata": {
        "id": "_7X3-9fxqvd5"
      },
      "source": [
        "#### **TASK 6**:\n",
        "\n",
        "1. Now try to make a so-called **violin plot** using the same variables we used above (influence_level, rating_score)."
      ]
    },
    {
      "cell_type": "code",
      "metadata": {
        "id": "EvWjfI_0oUfO"
      },
      "source": [
        "# Type your code below:\n",
        "\n",
        "\n",
        "# What do the boxplot and the violin plot show us?"
      ],
      "execution_count": null,
      "outputs": []
    },
    {
      "cell_type": "code",
      "metadata": {
        "id": "qbgrJBTYrN0B"
      },
      "source": [
        "# Solution (Task 1):\n",
        "sns.catplot(x=\"influence_level\", y=\"rating_score\",\n",
        "            kind=\"violin\", data=socialDecisionMakingData_ANOVA)"
      ],
      "execution_count": null,
      "outputs": []
    },
    {
      "cell_type": "markdown",
      "metadata": {
        "id": "IqoRBofPrnfW"
      },
      "source": [
        "**Removing outliers**\n",
        "\n",
        "Based on the box plot and the violin plot, there seem to be some data points that significantly differ from other observations.\n",
        "\n",
        "Let's identify and remove so-called **outliers**."
      ]
    },
    {
      "cell_type": "code",
      "metadata": {
        "id": "2CCZBYie5omk"
      },
      "source": [
        "# Clean outliers - To do\n"
      ],
      "execution_count": null,
      "outputs": []
    },
    {
      "cell_type": "markdown",
      "metadata": {
        "id": "uoJPn6nasJVc"
      },
      "source": [
        "**Check assumptions**\n",
        "\n",
        "The analysis we want to do is **repeated-measures ANOVA**. Do you remember the assumptions for this analysis?"
      ]
    },
    {
      "cell_type": "code",
      "metadata": {
        "id": "g4H3rv6ZsS8u"
      },
      "source": [
        "# Check assumptions - To do \n"
      ],
      "execution_count": null,
      "outputs": []
    },
    {
      "cell_type": "markdown",
      "metadata": {
        "id": "6yo_CalVseEi"
      },
      "source": [
        "**Repeated-measures ANOVA**\n",
        "\n",
        "Having visualized the data, removed outliers and checked assumptions, we can now do the main analysis!"
      ]
    },
    {
      "cell_type": "code",
      "metadata": {
        "id": "qSsL0Dyfs3hB"
      },
      "source": [
        "# RM ANOVA - To do\n"
      ],
      "execution_count": null,
      "outputs": []
    },
    {
      "cell_type": "markdown",
      "metadata": {
        "id": "XNk4d6m3s-F9"
      },
      "source": [
        "### **2.2.2 How to visualize and analyze your data when you have a continuous independent variable**"
      ]
    },
    {
      "cell_type": "code",
      "metadata": {
        "id": "dOXkGi2ntkWI"
      },
      "source": [
        "# Load the data \n",
        "socialDecisionMakingData_GLM = pd.read_excel('data_BN_task1.xlsx', sheet_name = 'GLM')"
      ],
      "execution_count": null,
      "outputs": []
    },
    {
      "cell_type": "markdown",
      "metadata": {
        "id": "fA5vfxYZtsF4"
      },
      "source": [
        "#### **TASK 7**:\n",
        "\n",
        "1. Examine the GLM dataset the same way we did above for the ANOVA dataset (e.g. check the shape, the first/last few rows, descriptive statistics)."
      ]
    },
    {
      "cell_type": "code",
      "metadata": {
        "id": "miO0c2ddt8kx"
      },
      "source": [
        "# Type your code below: \n",
        "# Open new code cells as you need.\n"
      ],
      "execution_count": null,
      "outputs": []
    },
    {
      "cell_type": "code",
      "metadata": {
        "id": "hFxzhk_KuJU1"
      },
      "source": [
        "# To do: Visualizations/Outlier detection/linear regression"
      ],
      "execution_count": null,
      "outputs": []
    },
    {
      "cell_type": "markdown",
      "metadata": {
        "id": "8-ask0HEc5An"
      },
      "source": [
        "We're now at the end of our little taster session. **Good job!**\n",
        "\n",
        "Most importantly: Don't worry if you feel a little bit overwhelmed. We covered **a lot** of material that is usually taught over several weeks. But this notebook is self-contained and will remain available online. Feel free to revisit it whenever you feel like learning more about Python or brushing up your skills!\n",
        "\n",
        "Also, there is no need to remember every single nitty gritty bit of a programming language. Even experts spend most of their time Googling and searching stackoverflow.com for solutions to their problems. That's one of the great benefits of working with computers and being connected to the Internet! A solution is always only a few clicks away.\n",
        "\n",
        "Below we've collected a few resources that we think come in handy if you'd like to learn more.\n",
        "\n",
        "Thanks a lot for your attention!"
      ]
    },
    {
      "cell_type": "markdown",
      "metadata": {
        "id": "FYtC5QIVc5Ao"
      },
      "source": [
        "## RESOURCES"
      ]
    },
    {
      "cell_type": "markdown",
      "metadata": {
        "id": "YFhb-Wdsc5Aq"
      },
      "source": [
        "#### **Learn to code!**\n",
        "1. A complete course https://www.learnpython.org\n",
        "2. Ditto https://www.w3schools.com/python/ \n",
        "3. Advanced course https://automatetheboringstuff.com\n",
        "\n",
        "#### **How to install Python**\n",
        "1. Just Python\n",
        "https://www.codecademy.com/articles/install-python\n",
        "2. The Jupyter Notebook (the thing you've been working with today)\n",
        "https://jupyter.org/install\n",
        "3. Anaconda (a collection of useful packages and other software for data scientists)\n",
        "https://www.anaconda.com/distribution/\n",
        "\n",
        "#### **Text editors**\n",
        "Note: If you don't use notebooks, you'll need a text editor to write your Python code. **Don't use Microsoft Word!** You want something that automatically highlights code (and makes it easier to distinguish variables, functions and the like), and provides autocompletion (saves A LOT of time). \n",
        "\n",
        "Below are a few free and popular choices:\n",
        "1. atom editor https://atom.io/\n",
        "2. vscode https://code.visualstudio.com/\n",
        "3. Sublime https://www.sublimetext.com/\n",
        "\n",
        "All these editors support multiple programming languages. I write my Python, Matlab, Javascript code and documentation in Markdown or Latex in Atom. Saves so much time!\n",
        "\n",
        "#### **All-in-one solutions**\n",
        "You can also use an all-in-one solution that provides you with an editor, code interpreter (the thing that allows the computer to read and execute Python code) and file managers(a bit like the Matlab software or R-Studio, which you might have heard of). \n",
        "\n",
        "For Python, you can use:\n",
        "\n",
        "1. Spyder (free) https://www.spyder-ide.org/\n",
        "2. Pycharm (free basic and commercial pro version) https://www.jetbrains.com/pycharm/\n",
        "\n",
        "#### **Coding challenges**\n",
        "These challenges are a great way to test your understanding of computer\n",
        "science concepts and improve your logical thinking / problem solving skills.\n",
        "\n",
        "**Pro tip**: Almost every company uses these challenges to assess candidates for software engineering and data science positions.\n",
        "1. Hackerrank https://www.hackerrank.com/ \n",
        "2. Leetcode https://leetcode.com \n",
        "\n",
        "#### **Python for psychologists**\n",
        "You can use Python add-ons to run your own experiments, analyse behavioural, eye-tracking and neuroimaging data\n",
        "and to make beautiful visualisations of your results.\n",
        "\n",
        "Below are a few pointers:\n",
        "\n",
        "https://www.marsja.se/best-python-libraries-psychology/ "
      ]
    }
  ]
}