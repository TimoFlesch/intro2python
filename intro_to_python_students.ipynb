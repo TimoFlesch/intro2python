{
  "nbformat": 4,
  "nbformat_minor": 0,
  "metadata": {
    "colab": {
      "name": "intro_to_python_students.ipynb",
      "provenance": [],
      "collapsed_sections": [
        "1oP3m5C0KfcQ",
        "o5th5t33Zyut",
        "lK9eXsq_LDs_",
        "Pgabp9RzsrNr",
        "WCx7ErfxwZps",
        "PGuGYduxaz_w",
        "snpzo10LhuP_",
        "lKXrCp-TLmOW",
        "MSfT3btSMAwc",
        "rkpr5XvjcKwV",
        "SSpSOOeGw7y7",
        "1iHVY95Yw_SC",
        "DFSomZjhDMBY",
        "yLgaYKSq-yoc",
        "k7EErE7uwYr4",
        "QWfolgywwldz",
        "w4V1QmNHwsXo",
        "27GJWJouueMT"
      ],
      "include_colab_link": true
    },
    "kernelspec": {
      "name": "python3",
      "display_name": "Python 3"
    }
  },
  "cells": [
    {
      "cell_type": "markdown",
      "metadata": {
        "id": "view-in-github",
        "colab_type": "text"
      },
      "source": [
        "<a href=\"https://colab.research.google.com/github/TimoFlesch/intro2python/blob/master/intro_to_python_students.ipynb\" target=\"_parent\"><img src=\"https://colab.research.google.com/assets/colab-badge.svg\" alt=\"Open In Colab\"/></a>"
      ]
    },
    {
      "cell_type": "markdown",
      "metadata": {
        "id": "OW_kXbq5J6Ek",
        "colab_type": "text"
      },
      "source": [
        "# **PART 1: PYTHON - A (VERY) SHORT INTRODUCTION**"
      ]
    },
    {
      "cell_type": "markdown",
      "metadata": {
        "id": "2kBA_M83Z1Ld",
        "colab_type": "text"
      },
      "source": [
        "## **1.1 VARIABLES**"
      ]
    },
    {
      "cell_type": "markdown",
      "metadata": {
        "id": "1oP3m5C0KfcQ",
        "colab_type": "text"
      },
      "source": [
        "### **1.1.1 Assign Values to Variables**"
      ]
    },
    {
      "cell_type": "code",
      "metadata": {
        "id": "ZMR0QXM8ZfOu",
        "colab_type": "code",
        "colab": {}
      },
      "source": [
        "int1 = 5\n",
        "int2 = 7\n",
        "array1 = [1, 2, 3, 4, 5]\n"
      ],
      "execution_count": 0,
      "outputs": []
    },
    {
      "cell_type": "markdown",
      "metadata": {
        "id": "o5th5t33Zyut",
        "colab_type": "text"
      },
      "source": [
        "### **1.1.2 Operations using defined variables**\n"
      ]
    },
    {
      "cell_type": "markdown",
      "metadata": {
        "id": "lK9eXsq_LDs_",
        "colab_type": "text"
      },
      "source": [
        "#### Basic addition & subtraction "
      ]
    },
    {
      "cell_type": "code",
      "metadata": {
        "id": "2_X2OvzSZ4hc",
        "colab_type": "code",
        "outputId": "e7e4e85b-6d0d-4836-9c19-d7a76146e187",
        "colab": {
          "base_uri": "https://localhost:8080/",
          "height": 35
        }
      },
      "source": [
        "int1 + int2 "
      ],
      "execution_count": 0,
      "outputs": [
        {
          "output_type": "execute_result",
          "data": {
            "text/plain": [
              "12"
            ]
          },
          "metadata": {
            "tags": []
          },
          "execution_count": 3
        }
      ]
    },
    {
      "cell_type": "markdown",
      "metadata": {
        "id": "s4KDNWcIaeEH",
        "colab_type": "text"
      },
      "source": [
        "You can conduct basic math directly in-line, but if you need more than one operation to run, you'll want to print your outputs or assign them to new variables"
      ]
    },
    {
      "cell_type": "code",
      "metadata": {
        "id": "rKPxwjW9adGK",
        "colab_type": "code",
        "outputId": "2ffcd856-a8cf-4e30-90e1-ec6c26102552",
        "colab": {
          "base_uri": "https://localhost:8080/",
          "height": 54
        }
      },
      "source": [
        "sum_of_two = int1 + int2\n",
        "difference = int1 - int2\n",
        "print(sum_of_two, difference)\n",
        "print('Sum of int1 and int2 is', sum_of_two, 'and difference between them is ',  difference)"
      ],
      "execution_count": 0,
      "outputs": [
        {
          "output_type": "stream",
          "text": [
            "12 -2\n",
            "Sum of int1 and int2 is 12 and difference between them is  -2\n"
          ],
          "name": "stdout"
        }
      ]
    },
    {
      "cell_type": "markdown",
      "metadata": {
        "id": "Pgabp9RzsrNr",
        "colab_type": "text"
      },
      "source": [
        "#### Basic Multiplication and Division\n"
      ]
    },
    {
      "cell_type": "code",
      "metadata": {
        "id": "WxSrtwJBs2-o",
        "colab_type": "code",
        "outputId": "dc04cf00-8ebd-4d29-f2fb-226fd7299ee4",
        "colab": {
          "base_uri": "https://localhost:8080/",
          "height": 54
        }
      },
      "source": [
        "int1 = 20\n",
        "int2 = 6\n",
        "product_of_two = int1 * int2\n",
        "quotient_of_two = int1 / int2\n",
        "quotient_of_two_rounded = int1 // int2\n",
        "# print(product_of_two, quotient_of_two, quotient_of_two_rounded)\n",
        "print('Product of int1 and int2 is {}'.format(product_of_two,quotient_of_two, quotient_of_two_rounded))\n",
        "print('Dividing int1 by int2 yields {} ... unless we enforce rounding to the nearest integer: {}'.format(quotient_of_two, quotient_of_two_rounded))\n"
      ],
      "execution_count": 0,
      "outputs": [
        {
          "output_type": "stream",
          "text": [
            "Product of int1 and int2 is 120\n",
            "Dividing int1 by int2 yields 3.3333333333333335 ... unless we enforce rounding to the nearest integer: 3\n"
          ],
          "name": "stdout"
        }
      ]
    },
    {
      "cell_type": "markdown",
      "metadata": {
        "id": "WCx7ErfxwZps",
        "colab_type": "text"
      },
      "source": [
        "#### Exponentiation"
      ]
    },
    {
      "cell_type": "code",
      "metadata": {
        "id": "FVpMEi2Cu6DH",
        "colab_type": "code",
        "outputId": "7a245207-a68c-46e5-9cbd-8a77293d8d4a",
        "colab": {
          "base_uri": "https://localhost:8080/",
          "height": 72
        }
      },
      "source": [
        "base_1 = 2\n",
        "base_2 = 9\n",
        "exponent_1 = 4\n",
        "exponent_2 = -1\n",
        "exponent_3 = 0.5\n",
        "example_1 = base_1**exponent_1\n",
        "example_2 = base_1**exponent_2\n",
        "example_3 = base_2**exponent_3\n",
        "print('2⁴: ' + str(example_1))\n",
        "print('1/2: ' + str(example_2))\n",
        "print('sqrt(9): ' + str(example_3))\n"
      ],
      "execution_count": 0,
      "outputs": [
        {
          "output_type": "stream",
          "text": [
            "2⁴: 16\n",
            "1/2: 0.5\n",
            "sqrt(9): 3.0\n"
          ],
          "name": "stdout"
        }
      ]
    },
    {
      "cell_type": "markdown",
      "metadata": {
        "id": "PGuGYduxaz_w",
        "colab_type": "text"
      },
      "source": [
        "### **TASK: Define variables and write code to...**\n",
        "1. Calculate square root of 25, 144 and 289\n",
        "2. Translate the following into Python\n",
        "  - calculate 3 random numbers between 1 and 100 \n",
        "  - add up your 3 random numbers and print whether the sum is bigger than 100\n",
        "\n"
      ]
    },
    {
      "cell_type": "code",
      "metadata": {
        "id": "rbGcv16raibA",
        "colab_type": "code",
        "colab": {}
      },
      "source": [
        "# Your code for example 1 here "
      ],
      "execution_count": 0,
      "outputs": []
    },
    {
      "cell_type": "code",
      "metadata": {
        "id": "lqXbdrZJb54j",
        "colab_type": "code",
        "colab": {}
      },
      "source": [
        "# Your code for example 2 here "
      ],
      "execution_count": 0,
      "outputs": []
    },
    {
      "cell_type": "markdown",
      "metadata": {
        "id": "RUnpVcD6btev",
        "colab_type": "text"
      },
      "source": [
        "## **1.2 LOOPS and STATEMENTS**"
      ]
    },
    {
      "cell_type": "markdown",
      "metadata": {
        "id": "snpzo10LhuP_",
        "colab_type": "text"
      },
      "source": [
        "### **1.2.1 While Loops**"
      ]
    },
    {
      "cell_type": "markdown",
      "metadata": {
        "id": "_1p_5qfZh_Ej",
        "colab_type": "text"
      },
      "source": [
        "Use while loops whenever you need to apply an operation multiple times ,but don't know exactly how many iterations are needed:"
      ]
    },
    {
      "cell_type": "code",
      "metadata": {
        "id": "ZwpYDFl6iL2y",
        "colab_type": "code",
        "colab": {
          "base_uri": "https://localhost:8080/",
          "height": 115
        },
        "outputId": "3a4d931c-1072-4744-c45a-d71783b861ed"
      },
      "source": [
        "# WHILE loops\n",
        "x = 500\n",
        "while x > 10:\n",
        "  print(str(x))\n",
        "  x //= 2\n"
      ],
      "execution_count": 3,
      "outputs": [
        {
          "output_type": "stream",
          "text": [
            "500\n",
            "250\n",
            "125\n",
            "62\n",
            "31\n",
            "15\n"
          ],
          "name": "stdout"
        }
      ]
    },
    {
      "cell_type": "markdown",
      "metadata": {
        "id": "lKXrCp-TLmOW",
        "colab_type": "text"
      },
      "source": [
        "### **1.2.2 For Loops**"
      ]
    },
    {
      "cell_type": "markdown",
      "metadata": {
        "id": "HsL51e_xMPYI",
        "colab_type": "text"
      },
      "source": [
        "For loops come in handy whenever you need to apply a function to each item of a\n",
        "(potentially very long) list, and you know exactly how many iterations you need:\n",
        "(note for the pros: all for loops in python are actually for-each loops)"
      ]
    },
    {
      "cell_type": "code",
      "metadata": {
        "id": "RHHklUPmbOj8",
        "colab_type": "code",
        "outputId": "e2b63d69-589e-4d81-db68-3bff446bc82e",
        "colab": {
          "base_uri": "https://localhost:8080/",
          "height": 119
        }
      },
      "source": [
        "# FOR loops \n",
        "\n",
        "modules = [\"cognitive\", \"developmental\", \"neuro\", \"clinical\", \"social\", \"computational\"]\n",
        "for x in modules:\n",
        "  print(x)"
      ],
      "execution_count": 0,
      "outputs": [
        {
          "output_type": "stream",
          "text": [
            "cognitive\n",
            "developmental\n",
            "neuro\n",
            "clinical\n",
            "social\n",
            "computational\n"
          ],
          "name": "stdout"
        }
      ]
    },
    {
      "cell_type": "markdown",
      "metadata": {
        "id": "MSfT3btSMAwc",
        "colab_type": "text"
      },
      "source": [
        "### **1.2.3 If..Then Conditionals**"
      ]
    },
    {
      "cell_type": "markdown",
      "metadata": {
        "id": "SB7x5emzM78i",
        "colab_type": "text"
      },
      "source": [
        "Programming is all about case-specific processing. Use if..then statements \n",
        "to process inputs depending on conditions you have specified:"
      ]
    },
    {
      "cell_type": "code",
      "metadata": {
        "id": "FpXo3d-dcGWn",
        "colab_type": "code",
        "outputId": "6b9d88f1-85ef-4f10-c557-aa81b81a7436",
        "colab": {
          "base_uri": "https://localhost:8080/",
          "height": 34
        }
      },
      "source": [
        "# IF...THEN statements \n",
        "\n",
        "favoriteModule = \"computational\"\n",
        "firstModule = \"social\"\n",
        "\n",
        "if len(firstModule) < len(favoriteModule): \n",
        "  print('Different lenghts!')\n",
        "elif len(firstModule) == len(favoriteModule): \n",
        "  print('Same lenghts!')\n"
      ],
      "execution_count": 0,
      "outputs": [
        {
          "output_type": "stream",
          "text": [
            "Different lenghts!\n"
          ],
          "name": "stdout"
        }
      ]
    },
    {
      "cell_type": "code",
      "metadata": {
        "id": "UeAXZzvUc8le",
        "colab_type": "code",
        "outputId": "f7daebf4-4775-4a8c-e925-6bcf280d2812",
        "colab": {
          "base_uri": "https://localhost:8080/",
          "height": 51
        }
      },
      "source": [
        "a = 200\n",
        "b = 33\n",
        "c = 500\n",
        "if a > b and c > a:\n",
        "  print('Both conditions are true!')\n",
        "else: \n",
        "  print('Both conditions are not true!')\n",
        "  \n",
        "  \n",
        "if a > b or a > c:\n",
        "  print('At least one of the conditions is true!')\n"
      ],
      "execution_count": 0,
      "outputs": [
        {
          "output_type": "stream",
          "text": [
            "Both conditions are true!\n",
            "At least one of the conditions is true!\n"
          ],
          "name": "stdout"
        }
      ]
    },
    {
      "cell_type": "markdown",
      "metadata": {
        "id": "rkpr5XvjcKwV",
        "colab_type": "text"
      },
      "source": [
        "### **TASK: Write your own for loop and if/then statement**\n",
        "\n",
        "Given \n",
        "\n",
        "```\n",
        " modules = [\"cognitive\", \"developmental\", \"neuro\", \"clinical\", \"social\", \"computational\"]\n",
        " comparisonVariable = \"introductory\"\n",
        "\n",
        "```\n",
        "\n",
        "\n",
        " \n",
        "Determine whether any of the modules have names that are longer than the comparison variable."
      ]
    },
    {
      "cell_type": "code",
      "metadata": {
        "id": "cwYlwrZGcI46",
        "colab_type": "code",
        "colab": {}
      },
      "source": [
        "# Your code here"
      ],
      "execution_count": 0,
      "outputs": []
    },
    {
      "cell_type": "markdown",
      "metadata": {
        "id": "mzr0TpU0w7kz",
        "colab_type": "text"
      },
      "source": [
        "## **1.3 FUNCTIONS**"
      ]
    },
    {
      "cell_type": "markdown",
      "metadata": {
        "id": "SSpSOOeGw7y7",
        "colab_type": "text"
      },
      "source": [
        "### **1.3.1 Introduction to Functions**"
      ]
    },
    {
      "cell_type": "markdown",
      "metadata": {
        "id": "IGEpBh8U4th_",
        "colab_type": "text"
      },
      "source": [
        "You have already worked with functions in the previous exercises! \n"
      ]
    },
    {
      "cell_type": "code",
      "metadata": {
        "id": "DDjZgAnt43KP",
        "colab_type": "code",
        "outputId": "a3c8e2ae-15b5-4b8e-d33e-6f37e74162fa",
        "colab": {
          "base_uri": "https://localhost:8080/",
          "height": 68
        }
      },
      "source": [
        "print(\"hello world\")\n",
        "print(\"2*3:\",2*3)\n",
        "print(len(\"hello world\"))"
      ],
      "execution_count": 0,
      "outputs": [
        {
          "output_type": "stream",
          "text": [
            "hello world\n",
            "2*3: 6\n",
            "11\n"
          ],
          "name": "stdout"
        }
      ]
    },
    {
      "cell_type": "markdown",
      "metadata": {
        "id": "JmJxHvCw5DYD",
        "colab_type": "text"
      },
      "source": [
        "Programming languages are extremely powerful, as they allow you to write your own functions. Whenever you identify a recurring task in your workflow, consider writing a function instead of copying &pasting code:"
      ]
    },
    {
      "cell_type": "code",
      "metadata": {
        "id": "7b3xPktW6Y-k",
        "colab_type": "code",
        "outputId": "809a8ba8-4d1d-49ff-c303-5a32e74d932c",
        "colab": {
          "base_uri": "https://localhost:8080/",
          "height": 68
        }
      },
      "source": [
        "# naive approach for testing parity of several numbers:\n",
        "if 3 % 2 == 0:\n",
        "  print('{} is even'.format(3))\n",
        "else:\n",
        "  print('{} is odd'.format(3))\n",
        "  \n",
        "if 2 % 2 == 0:\n",
        "  print('{} is even'.format(2))\n",
        "else:\n",
        "  print('{} is odd'.format(2))\n",
        "  \n",
        "if 11 % 2 == 0:\n",
        "  print('{} is even'.format(11))\n",
        "else:\n",
        "  print('{} is odd'.format(11))"
      ],
      "execution_count": 0,
      "outputs": [
        {
          "output_type": "stream",
          "text": [
            "3 is odd\n",
            "2 is even\n",
            "11 is odd\n"
          ],
          "name": "stdout"
        }
      ]
    },
    {
      "cell_type": "markdown",
      "metadata": {
        "id": "UQTXRi0dN83D",
        "colab_type": "text"
      },
      "source": [
        "In the example above, we tested whether several numbers are odd or even.\n",
        "Instead of repeating the same if..then construct over and over again, we can \n",
        "put it in a neat little function:"
      ]
    },
    {
      "cell_type": "code",
      "metadata": {
        "id": "lWLm6V4m5u2F",
        "colab_type": "code",
        "colab": {}
      },
      "source": [
        "# let's write a function that does the work for us!\n",
        "def return_parity(n):\n",
        "  result = str(n) + ' is'\n",
        "  if n % 2 == 0:\n",
        "    return result + ' even'\n",
        "  else:\n",
        "    return result + ' odd'\n",
        "  "
      ],
      "execution_count": 0,
      "outputs": []
    },
    {
      "cell_type": "markdown",
      "metadata": {
        "id": "JyICkQ5pOL4s",
        "colab_type": "text"
      },
      "source": [
        "now we can simply apply the function to each of the numbers we're interested in"
      ]
    },
    {
      "cell_type": "code",
      "metadata": {
        "id": "YumornB_5-se",
        "colab_type": "code",
        "outputId": "15b85077-094f-402e-e527-9002435a0af1",
        "colab": {
          "base_uri": "https://localhost:8080/",
          "height": 68
        }
      },
      "source": [
        "print(return_parity(3))\n",
        "print(return_parity(2))\n",
        "print(return_parity(11))"
      ],
      "execution_count": 0,
      "outputs": [
        {
          "output_type": "stream",
          "text": [
            "3 is odd\n",
            "2 is even\n",
            "11 is odd\n"
          ],
          "name": "stdout"
        }
      ]
    },
    {
      "cell_type": "markdown",
      "metadata": {
        "id": "AH7C4IhcORjX",
        "colab_type": "text"
      },
      "source": [
        "By the way, if..then statements can be compressed into one-liners:"
      ]
    },
    {
      "cell_type": "code",
      "metadata": {
        "id": "NINVFIb68AGv",
        "colab_type": "code",
        "colab": {}
      },
      "source": [
        "# let's make this shorter\n",
        "def return_parity(n):\n",
        "  result = str(n) + ' is '\n",
        "  return result + 'even' if n % 2 == 0 else result + 'odd'"
      ],
      "execution_count": 0,
      "outputs": []
    },
    {
      "cell_type": "markdown",
      "metadata": {
        "id": "pTRmLDpsOY2e",
        "colab_type": "text"
      },
      "source": [
        "Did you notice something? We applied the function to several different numbers.\n",
        "Why not put all numbers in a list and use a loop to iterate over them?"
      ]
    },
    {
      "cell_type": "code",
      "metadata": {
        "id": "XOOlnKtP60la",
        "colab_type": "code",
        "outputId": "792a577e-5ac5-4c88-8cad-308426965357",
        "colab": {
          "base_uri": "https://localhost:8080/",
          "height": 72
        }
      },
      "source": [
        "# let's combine this with loops\n",
        "numbers = [3, 2, 11]\n",
        "for ii in numbers:\n",
        "  print(return_parity(ii))"
      ],
      "execution_count": 0,
      "outputs": [
        {
          "output_type": "stream",
          "text": [
            "3 is odd\n",
            "2 is even\n",
            "11 is odd\n"
          ],
          "name": "stdout"
        }
      ]
    },
    {
      "cell_type": "markdown",
      "metadata": {
        "id": "C7WPZXDKOmWj",
        "colab_type": "text"
      },
      "source": [
        "Functions can be put inside other functions. Let's write a wrapper that iterates over a list!"
      ]
    },
    {
      "cell_type": "code",
      "metadata": {
        "id": "MCdYiXfz8TNh",
        "colab_type": "code",
        "colab": {}
      },
      "source": [
        "#let's write a wrapper!\n",
        "def check_item_parity(arr):\n",
        "  for ii in arr:\n",
        "    print(return_parity(ii))\n",
        "  "
      ],
      "execution_count": 0,
      "outputs": []
    },
    {
      "cell_type": "code",
      "metadata": {
        "id": "av8aRHhA8i3o",
        "colab_type": "code",
        "outputId": "9a381477-e90a-4431-8d58-e5a7f607ba4f",
        "colab": {
          "base_uri": "https://localhost:8080/",
          "height": 72
        }
      },
      "source": [
        "check_item_parity(numbers)"
      ],
      "execution_count": 0,
      "outputs": [
        {
          "output_type": "stream",
          "text": [
            "3 is odd\n",
            "2 is even\n",
            "11 is odd\n"
          ],
          "name": "stdout"
        }
      ]
    },
    {
      "cell_type": "markdown",
      "metadata": {
        "id": "1iHVY95Yw_SC",
        "colab_type": "text"
      },
      "source": [
        "### **1.3.2 Docstrings**"
      ]
    },
    {
      "cell_type": "markdown",
      "metadata": {
        "id": "MqiVSoJ2xEMO",
        "colab_type": "text"
      },
      "source": [
        "To find out how to use a function, you can just append a question mark to its name:"
      ]
    },
    {
      "cell_type": "code",
      "metadata": {
        "id": "XPwUSARfxN0J",
        "colab_type": "code",
        "colab": {}
      },
      "source": [
        "print?"
      ],
      "execution_count": 0,
      "outputs": []
    },
    {
      "cell_type": "markdown",
      "metadata": {
        "id": "yr3ivSE_xNaB",
        "colab_type": "text"
      },
      "source": [
        "Docstring:\n",
        "print(value, ..., sep=' ', end='\\n', file=sys.stdout, flush=False)\n",
        "\n",
        "Prints the values to a stream, or to sys.stdout by default.\n",
        "Optional keyword arguments:\n",
        "file:  a file-like object (stream); defaults to the current sys.stdout.\n",
        "sep:   string inserted between values, default a space.\n",
        "end:   string appended after the last value, default a newline.\n",
        "flush: whether to forcibly flush the stream.\n",
        "Type:      builtin_function_or_method"
      ]
    },
    {
      "cell_type": "markdown",
      "metadata": {
        "id": "fEEYnPu5xYDw",
        "colab_type": "text"
      },
      "source": [
        "alternatively, you pass it as argument to the help function:"
      ]
    },
    {
      "cell_type": "code",
      "metadata": {
        "id": "iLl4saNrxcda",
        "colab_type": "code",
        "colab": {
          "base_uri": "https://localhost:8080/",
          "height": 212
        },
        "outputId": "4e3bfacc-401e-4bc8-ecbc-9d5154a3896f"
      },
      "source": [
        "help(print)"
      ],
      "execution_count": 5,
      "outputs": [
        {
          "output_type": "stream",
          "text": [
            "Help on built-in function print in module builtins:\n",
            "\n",
            "print(...)\n",
            "    print(value, ..., sep=' ', end='\\n', file=sys.stdout, flush=False)\n",
            "    \n",
            "    Prints the values to a stream, or to sys.stdout by default.\n",
            "    Optional keyword arguments:\n",
            "    file:  a file-like object (stream); defaults to the current sys.stdout.\n",
            "    sep:   string inserted between values, default a space.\n",
            "    end:   string appended after the last value, default a newline.\n",
            "    flush: whether to forcibly flush the stream.\n",
            "\n"
          ],
          "name": "stdout"
        }
      ]
    },
    {
      "cell_type": "markdown",
      "metadata": {
        "id": "DJd_iruuxiFG",
        "colab_type": "text"
      },
      "source": [
        "When you write your own functions, don't forget to add documentation on how to use them. This saves a lot of time and avoids nervous breakdowns when you come back to your code a few months later. \n",
        "Documentation for functions can be provided as so-called *docstrings*. These are the snippets that will be shown whenever you pas them as argument to the help function.   \n",
        "Docstrings are indicated by \"\"\" yourtextgoeshere \"\"\""
      ]
    },
    {
      "cell_type": "code",
      "metadata": {
        "id": "niGmfSinyQnM",
        "colab_type": "code",
        "colab": {}
      },
      "source": [
        "def return_parity(n):\n",
        "  \"\"\" This function tests whether its input is odd or even.\n",
        "      INPUT: (int) an arbitrary number\n",
        "      OUTPUT: (str) 'even' or 'odd' \n",
        "  \"\"\"\n",
        "  result = str(n) + ' is '\n",
        "  return result + 'even' if n % 2 == 0 else result + 'odd'"
      ],
      "execution_count": 0,
      "outputs": []
    },
    {
      "cell_type": "code",
      "metadata": {
        "id": "HmiqetkRyfxa",
        "colab_type": "code",
        "colab": {
          "base_uri": "https://localhost:8080/",
          "height": 131
        },
        "outputId": "4de8bb96-af18-432a-d91b-39a315020565"
      },
      "source": [
        "help(return_parity)"
      ],
      "execution_count": 8,
      "outputs": [
        {
          "output_type": "stream",
          "text": [
            "Help on function return_parity in module __main__:\n",
            "\n",
            "return_parity(n)\n",
            "    This function tests whether its input is odd or even.\n",
            "    INPUT: (int) an arbitrary number\n",
            "    OUTPUT: (str) 'even' or 'odd'\n",
            "\n"
          ],
          "name": "stdout"
        }
      ]
    },
    {
      "cell_type": "markdown",
      "metadata": {
        "id": "DFSomZjhDMBY",
        "colab_type": "text"
      },
      "source": [
        "### **Task: Write your own function!**"
      ]
    },
    {
      "cell_type": "markdown",
      "metadata": {
        "id": "7L_29-wrPX3k",
        "colab_type": "text"
      },
      "source": [
        "Write a function that takes a list of numbers as inputs and returns the mean of these numbers!  \n",
        "Remember, the mean is defined as:\n",
        ">$mean(x)=\\frac{1}{N}\\sum_{i=1}^{N} x_i$\n"
      ]
    },
    {
      "cell_type": "code",
      "metadata": {
        "id": "VYIMV0z5DQcx",
        "colab_type": "code",
        "colab": {}
      },
      "source": [
        ""
      ],
      "execution_count": 0,
      "outputs": []
    },
    {
      "cell_type": "markdown",
      "metadata": {
        "id": "RtoqtwAhQfQC",
        "colab_type": "text"
      },
      "source": [
        "Now write a function that computes the variance of a list of numbers.\n",
        "Remember, the variance is defined as \n",
        "> $var(x) = \\frac{1}{N} \\sum_{i=1}^{N}(x_i-\\bar{x})^2$  \n",
        "\n",
        "or   \n",
        "\n",
        "> $var(x) = \\frac{1}{N} \\sum_{i=1}^{N}(x_i^2) -\\bar{x}^2$ (\"expectation of square minus square of expectation\")"
      ]
    },
    {
      "cell_type": "code",
      "metadata": {
        "id": "u6LkZn5cyDSQ",
        "colab_type": "code",
        "colab": {}
      },
      "source": [
        ""
      ],
      "execution_count": 0,
      "outputs": []
    },
    {
      "cell_type": "markdown",
      "metadata": {
        "id": "tA6FEF5HyEX5",
        "colab_type": "text"
      },
      "source": [
        "Now add docstrings to your functions to explain how to use them"
      ]
    },
    {
      "cell_type": "code",
      "metadata": {
        "id": "W-79OVZSyOni",
        "colab_type": "code",
        "colab": {}
      },
      "source": [
        ""
      ],
      "execution_count": 0,
      "outputs": []
    },
    {
      "cell_type": "markdown",
      "metadata": {
        "id": "yLgaYKSq-yoc",
        "colab_type": "text"
      },
      "source": [
        "## **1.4 .METHODS()**"
      ]
    },
    {
      "cell_type": "markdown",
      "metadata": {
        "id": "H3FV0ztQ-2mm",
        "colab_type": "text"
      },
      "source": [
        "Python is an object oriented language. An object is an abstract entity that contains \n",
        "some data and functions that can be applied to the data. Functions that are applied to objects are called **methods**. In this section we'll learn how to apply methods to objects.  \n",
        "Most entities in Python are objects. For example, strings are objects as they contain some data, as for example \"hello world\", and they come with many functions that can be applied to the data. Let's have a look at an example:"
      ]
    },
    {
      "cell_type": "markdown",
      "metadata": {
        "id": "k7EErE7uwYr4",
        "colab_type": "text"
      },
      "source": [
        "### **1.4.1 Example: methods to manipulate strings**"
      ]
    },
    {
      "cell_type": "code",
      "metadata": {
        "id": "1P-XaCi7_QgI",
        "colab_type": "code",
        "outputId": "955f7e5b-da2b-4e21-f66e-85a6dad6c733",
        "colab": {
          "base_uri": "https://localhost:8080/",
          "height": 68
        }
      },
      "source": [
        "string = \"hello world\"\n",
        "print(string.upper())\n",
        "print(string.capitalize())\n",
        "print(string.replace(' world',', nice to meet you'))"
      ],
      "execution_count": 0,
      "outputs": [
        {
          "output_type": "stream",
          "text": [
            "HELLO WORLD\n",
            "Hello world\n",
            "hello, nice to meet you\n"
          ],
          "name": "stdout"
        }
      ]
    },
    {
      "cell_type": "markdown",
      "metadata": {
        "id": "crIH7Usv_8T-",
        "colab_type": "text"
      },
      "source": [
        "in contrast to functions, for which the syntax is *function(argument)*, methods are bound to objects. Thus, the syntax is *object.method(argument)*"
      ]
    },
    {
      "cell_type": "markdown",
      "metadata": {
        "id": "QWfolgywwldz",
        "colab_type": "text"
      },
      "source": [
        "### **1.4.2 Methods are object specific!**"
      ]
    },
    {
      "cell_type": "markdown",
      "metadata": {
        "id": "3mPPCEK2AIvg",
        "colab_type": "text"
      },
      "source": [
        "As methods are bound to a particular object type, you can't apply them to other objects. For instance, you can't capitalise numbers:"
      ]
    },
    {
      "cell_type": "code",
      "metadata": {
        "id": "rSlCxzm4AXl3",
        "colab_type": "code",
        "outputId": "8052a80c-4030-461c-a05c-c378e5d04197",
        "colab": {
          "base_uri": "https://localhost:8080/",
          "height": 180
        }
      },
      "source": [
        "number = 0.5\n",
        "number.capitalize()\n"
      ],
      "execution_count": 0,
      "outputs": [
        {
          "output_type": "error",
          "ename": "AttributeError",
          "evalue": "ignored",
          "traceback": [
            "\u001b[0;31m---------------------------------------------------------------------------\u001b[0m",
            "\u001b[0;31mAttributeError\u001b[0m                            Traceback (most recent call last)",
            "\u001b[0;32m<ipython-input-72-138566a789d3>\u001b[0m in \u001b[0;36m<module>\u001b[0;34m()\u001b[0m\n\u001b[1;32m      1\u001b[0m \u001b[0mnumber\u001b[0m \u001b[0;34m=\u001b[0m \u001b[0;36m0.5\u001b[0m\u001b[0;34m\u001b[0m\u001b[0;34m\u001b[0m\u001b[0m\n\u001b[0;32m----> 2\u001b[0;31m \u001b[0mnumber\u001b[0m\u001b[0;34m.\u001b[0m\u001b[0mcapitalize\u001b[0m\u001b[0;34m(\u001b[0m\u001b[0;34m)\u001b[0m\u001b[0;34m\u001b[0m\u001b[0;34m\u001b[0m\u001b[0m\n\u001b[0m",
            "\u001b[0;31mAttributeError\u001b[0m: 'float' object has no attribute 'capitalize'"
          ]
        }
      ]
    },
    {
      "cell_type": "markdown",
      "metadata": {
        "id": "w4V1QmNHwsXo",
        "colab_type": "text"
      },
      "source": [
        "### **1.4.3 How to figure out which methods are provided for a given object**"
      ]
    },
    {
      "cell_type": "markdown",
      "metadata": {
        "id": "b3k3rv7BAfIa",
        "colab_type": "text"
      },
      "source": [
        "to see a list of all available methods, either press [TAB] after placing a dot behind an object, or use the following syntax"
      ]
    },
    {
      "cell_type": "code",
      "metadata": {
        "id": "UfXxkA0TAdUI",
        "colab_type": "code",
        "outputId": "4773ad85-b5d6-401b-a788-e89124afd837",
        "colab": {
          "base_uri": "https://localhost:8080/",
          "height": 1000
        }
      },
      "source": [
        "dir(str)"
      ],
      "execution_count": 0,
      "outputs": [
        {
          "output_type": "execute_result",
          "data": {
            "text/plain": [
              "['__add__',\n",
              " '__class__',\n",
              " '__contains__',\n",
              " '__delattr__',\n",
              " '__dir__',\n",
              " '__doc__',\n",
              " '__eq__',\n",
              " '__format__',\n",
              " '__ge__',\n",
              " '__getattribute__',\n",
              " '__getitem__',\n",
              " '__getnewargs__',\n",
              " '__gt__',\n",
              " '__hash__',\n",
              " '__init__',\n",
              " '__init_subclass__',\n",
              " '__iter__',\n",
              " '__le__',\n",
              " '__len__',\n",
              " '__lt__',\n",
              " '__mod__',\n",
              " '__mul__',\n",
              " '__ne__',\n",
              " '__new__',\n",
              " '__reduce__',\n",
              " '__reduce_ex__',\n",
              " '__repr__',\n",
              " '__rmod__',\n",
              " '__rmul__',\n",
              " '__setattr__',\n",
              " '__sizeof__',\n",
              " '__str__',\n",
              " '__subclasshook__',\n",
              " 'capitalize',\n",
              " 'casefold',\n",
              " 'center',\n",
              " 'count',\n",
              " 'encode',\n",
              " 'endswith',\n",
              " 'expandtabs',\n",
              " 'find',\n",
              " 'format',\n",
              " 'format_map',\n",
              " 'index',\n",
              " 'isalnum',\n",
              " 'isalpha',\n",
              " 'isdecimal',\n",
              " 'isdigit',\n",
              " 'isidentifier',\n",
              " 'islower',\n",
              " 'isnumeric',\n",
              " 'isprintable',\n",
              " 'isspace',\n",
              " 'istitle',\n",
              " 'isupper',\n",
              " 'join',\n",
              " 'ljust',\n",
              " 'lower',\n",
              " 'lstrip',\n",
              " 'maketrans',\n",
              " 'partition',\n",
              " 'replace',\n",
              " 'rfind',\n",
              " 'rindex',\n",
              " 'rjust',\n",
              " 'rpartition',\n",
              " 'rsplit',\n",
              " 'rstrip',\n",
              " 'split',\n",
              " 'splitlines',\n",
              " 'startswith',\n",
              " 'strip',\n",
              " 'swapcase',\n",
              " 'title',\n",
              " 'translate',\n",
              " 'upper',\n",
              " 'zfill']"
            ]
          },
          "metadata": {
            "tags": []
          },
          "execution_count": 74
        }
      ]
    },
    {
      "cell_type": "code",
      "metadata": {
        "id": "kXOmSeJoA_7P",
        "colab_type": "code",
        "outputId": "8d5d71d1-d82c-4a45-8fee-32645beebbbb",
        "colab": {
          "base_uri": "https://localhost:8080/",
          "height": 204
        }
      },
      "source": [
        "help(str.split)"
      ],
      "execution_count": 0,
      "outputs": [
        {
          "output_type": "stream",
          "text": [
            "Help on method_descriptor:\n",
            "\n",
            "split(...)\n",
            "    S.split(sep=None, maxsplit=-1) -> list of strings\n",
            "    \n",
            "    Return a list of the words in S, using sep as the\n",
            "    delimiter string.  If maxsplit is given, at most maxsplit\n",
            "    splits are done. If sep is not specified or is None, any\n",
            "    whitespace string is a separator and empty strings are\n",
            "    removed from the result.\n",
            "\n"
          ],
          "name": "stdout"
        }
      ]
    },
    {
      "cell_type": "markdown",
      "metadata": {
        "id": "sFMTDXasDRHE",
        "colab_type": "text"
      },
      "source": [
        "## **ADVANCED CONTENT (OPTIONAL)**\n",
        "This section is optional and intended for those of you who discovered the beaty of Python and would like to learn even more!\n",
        "* programming principle: recursion\n",
        "* data types (structs, tuples, sets)\n",
        "* list comprehension: how and why to use them (hint: speed)\n",
        "* object oriented programming: build your own objects and methods!\n",
        "* error handling: try catch etc.."
      ]
    },
    {
      "cell_type": "markdown",
      "metadata": {
        "id": "27GJWJouueMT",
        "colab_type": "text"
      },
      "source": [
        "### **Recursion**"
      ]
    },
    {
      "cell_type": "markdown",
      "metadata": {
        "id": "BIMbYEDP8nmx",
        "colab_type": "text"
      },
      "source": [
        "Functions are very versatile! They can even call themselves with a subset of of the \n",
        "original problem. This is called recursion. Below is a naive solution to find the factorial of a number.\n",
        "As reminder, a factorial of a number n is just a product of all integers from 1 to n:  \n",
        "**n! = 1*2*3*4*......*n**"
      ]
    },
    {
      "cell_type": "code",
      "metadata": {
        "id": "yOkX7i2N812U",
        "colab_type": "code",
        "colab": {}
      },
      "source": [
        "def iterative_factorial(n):\n",
        "  fact = 1\n",
        "  for ii in range(n):\n",
        "    fact *= ii+1\n",
        "  return fact"
      ],
      "execution_count": 0,
      "outputs": []
    },
    {
      "cell_type": "code",
      "metadata": {
        "id": "xipMmXl381-Y",
        "colab_type": "code",
        "outputId": "d923e53d-37b0-4297-c013-3ca7789488fb",
        "colab": {
          "base_uri": "https://localhost:8080/",
          "height": 34
        }
      },
      "source": [
        "print(\"4!: \",iterative_factorial(4))"
      ],
      "execution_count": 0,
      "outputs": [
        {
          "output_type": "stream",
          "text": [
            "4!:  24\n"
          ],
          "name": "stdout"
        }
      ]
    },
    {
      "cell_type": "code",
      "metadata": {
        "id": "FfXsrVk65UbT",
        "colab_type": "code",
        "colab": {}
      },
      "source": [
        "def recursive_factorial(n):\n",
        "  if n >1:\n",
        "    fact = n*recursive_factorial(n-1)\n",
        "    return fact\n",
        "  else:\n",
        "    return n\n",
        "    "
      ],
      "execution_count": 0,
      "outputs": []
    },
    {
      "cell_type": "code",
      "metadata": {
        "id": "-T5K_cXi5par",
        "colab_type": "code",
        "outputId": "37e08db5-7e07-468f-8987-c89909910104",
        "colab": {
          "base_uri": "https://localhost:8080/",
          "height": 34
        }
      },
      "source": [
        "print(\"4!: \",recursive_factorial(4))"
      ],
      "execution_count": 0,
      "outputs": [
        {
          "output_type": "stream",
          "text": [
            "4!:  24\n"
          ],
          "name": "stdout"
        }
      ]
    },
    {
      "cell_type": "markdown",
      "metadata": {
        "id": "MXRslFfC9z2y",
        "colab_type": "text"
      },
      "source": [
        "functions are actually treated by python as objects. that is, you can pass them as arguments to other functions:"
      ]
    },
    {
      "cell_type": "code",
      "metadata": {
        "id": "pZEmLJMc9zJI",
        "colab_type": "code",
        "colab": {}
      },
      "source": [
        "def do_sth_with_number(number, something):\n",
        "  print(something(number))"
      ],
      "execution_count": 0,
      "outputs": []
    },
    {
      "cell_type": "code",
      "metadata": {
        "id": "tP8FC7bp-HSY",
        "colab_type": "code",
        "outputId": "0539cf6e-9ca4-40fb-eb67-d6f734eddd45",
        "colab": {
          "base_uri": "https://localhost:8080/",
          "height": 51
        }
      },
      "source": [
        "do_sth_with_number(-2, abs)\n",
        "do_sth_with_number(9.34,round)"
      ],
      "execution_count": 0,
      "outputs": [
        {
          "output_type": "stream",
          "text": [
            "2\n",
            "9\n"
          ],
          "name": "stdout"
        }
      ]
    },
    {
      "cell_type": "markdown",
      "metadata": {
        "id": "HZBuferRHlW_",
        "colab_type": "text"
      },
      "source": [
        ""
      ]
    },
    {
      "cell_type": "markdown",
      "metadata": {
        "id": "iMYT-1jkeA-D",
        "colab_type": "text"
      },
      "source": [
        "# **PART2: PYTHON FOR SCIENTISTS: PACKAGES/LIBRARIES**"
      ]
    },
    {
      "cell_type": "markdown",
      "metadata": {
        "id": "KZ2ey4tieDtk",
        "colab_type": "text"
      },
      "source": [
        "Some of the most powerful tools you'll use in Python are packages and libraries. These contain useful functions - from quite simple to more advanced ones. We'll go through a few basic examples today, but leave you with a list of libraries and packages to check out: \n",
        "\n",
        "- numpy \n",
        "- matplotlib\n",
        "- seaborn\n",
        "- scipy \n"
      ]
    },
    {
      "cell_type": "code",
      "metadata": {
        "id": "rJ2HS41meCVi",
        "colab_type": "code",
        "colab": {}
      },
      "source": [
        "#You'll need to import every package you want to use. This is not a one-time thing - you have to do it in each new Python notebook. \n",
        "# With time you'll have a pretty good sense of what packages you need (Stackoverflow to the rescue, always!). \n",
        "import numpy"
      ],
      "execution_count": 0,
      "outputs": []
    },
    {
      "cell_type": "code",
      "metadata": {
        "id": "pZKg3nTiejs_",
        "colab_type": "code",
        "outputId": "c5c68dbe-2ced-4e9b-9ba8-feb5ea256363",
        "colab": {
          "base_uri": "https://localhost:8080/",
          "height": 34
        }
      },
      "source": [
        "array = [2, 4, 6, 8, 10]\n",
        "\n",
        "averageOfArray = numpy.mean(array)\n",
        "print(averageOfArray)"
      ],
      "execution_count": 0,
      "outputs": [
        {
          "output_type": "stream",
          "text": [
            "6.0\n"
          ],
          "name": "stdout"
        }
      ]
    },
    {
      "cell_type": "code",
      "metadata": {
        "id": "kCpKWnkQe24A",
        "colab_type": "code",
        "outputId": "ee48404a-8b59-4481-b54c-c27482dd2d92",
        "colab": {
          "base_uri": "https://localhost:8080/",
          "height": 34
        }
      },
      "source": [
        "#Alternatively, you can use abbreviations - this is really handy. \n",
        "import numpy as np\n",
        "\n",
        "averageOfArray = np.mean(array)\n",
        "print(averageOfArray)"
      ],
      "execution_count": 0,
      "outputs": [
        {
          "output_type": "stream",
          "text": [
            "6.0\n"
          ],
          "name": "stdout"
        }
      ]
    },
    {
      "cell_type": "code",
      "metadata": {
        "id": "7BrCkOThe_xC",
        "colab_type": "code",
        "outputId": "a20fa5de-6cd0-493d-9143-f0cea46386d8",
        "colab": {
          "base_uri": "https://localhost:8080/",
          "height": 34
        }
      },
      "source": [
        "#And, of course, you can print directly, such as: \n",
        "print(np.mean(array))"
      ],
      "execution_count": 0,
      "outputs": [
        {
          "output_type": "stream",
          "text": [
            "6.0\n"
          ],
          "name": "stdout"
        }
      ]
    },
    {
      "cell_type": "code",
      "metadata": {
        "id": "k5nXc37mfD1j",
        "colab_type": "code",
        "outputId": "a9e44892-295a-41ec-b328-ef100171ce71",
        "colab": {
          "base_uri": "https://localhost:8080/",
          "height": 85
        }
      },
      "source": [
        "#Numpy is also powerful in prepopulating your arrays\n",
        "a = np.zeros((2))  \n",
        "print(a) \n",
        "\n",
        "#or even something like if you need multiple dimensions\n",
        "\n",
        "b = np.ones((2, 2))\n",
        "print(b)\n",
        "\n",
        "#you can also create an array filled with the same number of choice, something like \n",
        "x = 27.34 \n",
        "c = np.full((5), x)\n",
        "print(c)"
      ],
      "execution_count": 0,
      "outputs": [
        {
          "output_type": "stream",
          "text": [
            "[0. 0.]\n",
            "[[1. 1.]\n",
            " [1. 1.]]\n",
            "[27.34 27.34 27.34 27.34 27.34]\n"
          ],
          "name": "stdout"
        }
      ]
    },
    {
      "cell_type": "code",
      "metadata": {
        "id": "GjvLYJNLfRsL",
        "colab_type": "code",
        "colab": {}
      },
      "source": [
        ""
      ],
      "execution_count": 0,
      "outputs": []
    },
    {
      "cell_type": "markdown",
      "metadata": {
        "id": "VK4ofpuvD3Dd",
        "colab_type": "text"
      },
      "source": [
        "## Mirta: add a few visualisations examples (line, scatter, correlations, maybe seaborn)\n"
      ]
    },
    {
      "cell_type": "code",
      "metadata": {
        "id": "96LwqG1WD0yC",
        "colab_type": "code",
        "outputId": "58ca24c9-df4d-4d33-f65d-4bb46e274d01",
        "colab": {
          "base_uri": "https://localhost:8080/",
          "height": 286
        }
      },
      "source": [
        "# Let's start by plotting something quite simple using a line plot in matplotlib (remember to import this in every notebook)\n",
        "import matplotlib.pyplot as plt\n",
        "x = [1, 2, 3, 4, 5]\n",
        "y = [2, 5, 6, 11, 14]\n",
        "\n",
        "plt.plot(x, y, linestyle='--')\n"
      ],
      "execution_count": 0,
      "outputs": [
        {
          "output_type": "execute_result",
          "data": {
            "text/plain": [
              "[<matplotlib.lines.Line2D at 0x7fc401674f28>]"
            ]
          },
          "metadata": {
            "tags": []
          },
          "execution_count": 30
        },
        {
          "output_type": "display_data",
          "data": {
            "image/png": "[encoded data removed]",
            "text/plain": [
              "<Figure size 432x288 with 1 Axes>"
            ]
          },
          "metadata": {
            "tags": []
          }
        }
      ]
    },
    {
      "cell_type": "code",
      "metadata": {
        "id": "7B1bcW2_AV-W",
        "colab_type": "code",
        "outputId": "e3e7c812-feef-455d-e79e-737198cbaab3",
        "colab": {
          "base_uri": "https://localhost:8080/",
          "height": 286
        }
      },
      "source": [
        "#Alternatively, styles can be spelled out as well (this is true for colors, etc.) \n",
        "plt.plot(x, y, linestyle='dashed', color = 'orange')\n"
      ],
      "execution_count": 0,
      "outputs": [
        {
          "output_type": "execute_result",
          "data": {
            "text/plain": [
              "[<matplotlib.lines.Line2D at 0x7fc4015bfdd8>]"
            ]
          },
          "metadata": {
            "tags": []
          },
          "execution_count": 32
        },
        {
          "output_type": "display_data",
          "data": {
            "image/png": "[encoded data removed]",
            "text/plain": [
              "<Figure size 432x288 with 1 Axes>"
            ]
          },
          "metadata": {
            "tags": []
          }
        }
      ]
    },
    {
      "cell_type": "code",
      "metadata": {
        "id": "pi6oGoDF_2KE",
        "colab_type": "code",
        "outputId": "d529e31f-94f7-4fa9-fea2-cce04f635a74",
        "colab": {
          "base_uri": "https://localhost:8080/",
          "height": 286
        }
      },
      "source": [
        "# You will rarely work with variables to plot that are this simple. \n",
        "#Instead, it makes sense to learn how to define your x axis as continuously \n",
        "# increasing so that you can plot your variable of interest on y-axis\n",
        "\n",
        "# Here we take advantage of numpy's functions linspace and sin.\n",
        "\n",
        "# \n",
        "\n",
        "import numpy as np\n",
        "\n",
        "x = np.linspace(0, 10, 1000)\n",
        "\n",
        "plt.plot(x, np.sin(x), c = 'magenta', linewidth = 2.5)"
      ],
      "execution_count": 0,
      "outputs": [
        {
          "output_type": "execute_result",
          "data": {
            "text/plain": [
              "[<matplotlib.lines.Line2D at 0x7fc401209a58>]"
            ]
          },
          "metadata": {
            "tags": []
          },
          "execution_count": 41
        },
        {
          "output_type": "display_data",
          "data": {
            "image/png": "[encoded data removed]",
            "text/plain": [
              "<Figure size 432x288 with 1 Axes>"
            ]
          },
          "metadata": {
            "tags": []
          }
        }
      ]
    },
    {
      "cell_type": "code",
      "metadata": {
        "id": "ZxKqAHg4ACrT",
        "colab_type": "code",
        "outputId": "15067df4-b66f-4a07-a94f-81aca5209fbe",
        "colab": {
          "base_uri": "https://localhost:8080/",
          "height": 286
        }
      },
      "source": [
        "# It's likely you'll often want to look at a relationship between two variables. \n",
        "# You can do this simply by scattering them in matplotlib... \n",
        "\n",
        "x = [1, 2, 3, 4, 5, 1, 2, 3, 4, 5, 1, 2, 3, 4, 5]\n",
        "y = [2, 5, 6, 11, 14, 5, 2, 7, 8, 9, 1, 2, 3, 7, 3]\n",
        "\n",
        "plt.scatter(x, y, color = 'royalblue')\n"
      ],
      "execution_count": 0,
      "outputs": [
        {
          "output_type": "execute_result",
          "data": {
            "text/plain": [
              "<matplotlib.collections.PathCollection at 0x7fc401168550>"
            ]
          },
          "metadata": {
            "tags": []
          },
          "execution_count": 44
        },
        {
          "output_type": "display_data",
          "data": {
            "image/png": "[encoded data removed]",
            "text/plain": [
              "<Figure size 432x288 with 1 Axes>"
            ]
          },
          "metadata": {
            "tags": []
          }
        }
      ]
    },
    {
      "cell_type": "code",
      "metadata": {
        "id": "mQT2wF7UAnPI",
        "colab_type": "code",
        "outputId": "d8670292-066d-4e34-f90e-943ab61911cc",
        "colab": {
          "base_uri": "https://localhost:8080/",
          "height": 369
        }
      },
      "source": [
        "# Alternatively, some more powerful visualizations are available in seaborn. \n",
        "# Here, we plot the exact same as in the figure above, but denoting the line of best \n",
        "# fit for this data. \n",
        "\n",
        "import pandas as pd\n",
        "dataframe = pd.DataFrame({'x': x, \n",
        "                        'y': y})\n",
        "\n",
        "\n",
        "import seaborn as sns\n",
        "g = sns.lmplot('x', 'y', data = dataframe)"
      ],
      "execution_count": 0,
      "outputs": [
        {
          "output_type": "display_data",
          "data": {
            "image/png": "[encoded data removed]",
            "text/plain": [
              "<Figure size 360x360 with 1 Axes>"
            ]
          },
          "metadata": {
            "tags": []
          }
        }
      ]
    },
    {
      "cell_type": "code",
      "metadata": {
        "id": "BUwQ6z3iBFXF",
        "colab_type": "code",
        "colab": {}
      },
      "source": [
        ""
      ],
      "execution_count": 0,
      "outputs": []
    }
  ]
}