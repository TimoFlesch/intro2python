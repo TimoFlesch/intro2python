{
 "cells": [
  {
   "cell_type": "markdown",
   "metadata": {
    "id": "jp3A1E5aKCQ9"
   },
   "source": [
    "#### **TASK 1 - LOOPS**\n",
    "\n",
    "1. Define a list that will contain all the numbers from 1 to 100 and name it 'numbersUpTo100'. Avoid typing each number separately!\n",
    "2. Write a loop that will print all numbers from the list 'numbersUpTo100' that are simultaneously divisible by 7 and by 3.\n",
    "\n",
    "**Question**: How do we get Python to do nothing within the if-else statement? (Google, Google, Google)"
   ]
  },
  {
   "cell_type": "code",
   "execution_count": null,
   "metadata": {
    "id": "raearUPOHnv8"
   },
   "outputs": [],
   "source": [
    "# POSSIBLE SOLUTION(S):\n",
    "numbersUpTo100 = list(range(1,101))\n",
    "\n",
    "for number in numbersUpTo100:\n",
    "  if number % 3 == 0 and number % 7 == 0:\n",
    "    print(number)\n",
    "  else:\n",
    "    pass # Answer to the question above"
   ]
  },
  {
   "cell_type": "markdown",
   "metadata": {
    "id": "7jOztJJnKc_Y"
   },
   "source": [
    "#### **TASK 2 - FUNCTIONS**\n",
    "\n",
    "Write a function that computes the **variance** of a list of numbers (and test it using the list defined below).\n",
    "\n",
    "Remember, the variance is defined as \n",
    "> $var(\\textbf{x}) = \\frac{1}{N-1} \\sum_{i=1}^{N}(x_i-\\bar{x})^2$, where $mean(\\textbf{x}) = \\bar{x}$  \n",
    ">\n",
    "\n",
    "**Don't forget to add docstrings to your function!**"
   ]
  },
  {
   "cell_type": "code",
   "execution_count": null,
   "metadata": {
    "id": "huwjRfZIKrWs"
   },
   "outputs": [],
   "source": [
    "numbers = [2,5,8,7,1,4,4,9]\n",
    "\n",
    "# POSSIBLE SOLUTION(S):\n",
    "# You can use the function you defined in the main Notebook\n",
    "# or you can use a mean function that already exists in Python\n",
    "def compute_mean(x): \n",
    "    \"\"\" \n",
    "      This function calculates the average of a list of numbers.\n",
    "    \"\"\"\n",
    "    return sum(x)/len(x)\n",
    "\n",
    "def compute_variance(x):\n",
    "    \"\"\" \n",
    "      This function calculates the variance of a list of numbers.\n",
    "      It relies on the compute_mean function.\n",
    "    \"\"\"\n",
    "    mu = compute_mean(x)\n",
    "    differences_squared = []\n",
    "    for ii in x:\n",
    "        differences_squared.append((ii-mu)**2)\n",
    "    variance = sum(differences_squared) / (len(x)-1)\n",
    "    return variance \n",
    "\n",
    "print(compute_variance(numbers))"
   ]
  },
  {
   "cell_type": "markdown",
   "metadata": {
    "id": "l4U9X3SQdUIP"
   },
   "source": [
    "Check your docstrings!"
   ]
  },
  {
   "cell_type": "code",
   "execution_count": 4,
   "metadata": {
    "id": "p-N9UB6LdXEZ"
   },
   "outputs": [],
   "source": [
    "compute_variance?"
   ]
  },
  {
   "cell_type": "code",
   "execution_count": null,
   "metadata": {
    "id": "aWOZqGn-dpCJ"
   },
   "outputs": [],
   "source": [
    "help(compute_variance)"
   ]
  },
  {
   "cell_type": "markdown",
   "metadata": {
    "id": "SNWtIaZbK9cB"
   },
   "source": [
    "#### **TASK 3 - PYTHON LIBRARIES & METHODS**\n",
    "\n",
    "After you have written the function to calculate variance yourself, you can try an alternative (and easier) way to calculate it in Python.\n",
    "\n",
    "**Hint**: Google Python's **statistics** library (Don't forget to import it!)."
   ]
  },
  {
   "cell_type": "code",
   "execution_count": null,
   "metadata": {
    "id": "f2WMCtRELDRG"
   },
   "outputs": [],
   "source": [
    "# POSSIBLE SOLUTION(S):\n",
    "import statistics\n",
    "\n",
    "statistics.variance(numbers)"
   ]
  },
  {
   "cell_type": "markdown",
   "metadata": {
    "id": "Yo1TCqxxTpQb"
   },
   "source": [
    "#### **TASK 4 - NUMPY LIBRARY**\n",
    "\n",
    "1. Import numpy as np\n",
    "2. Create an array of 10 zeros (and save it to a variable) \n",
    "3. Create a 5 x 5 matrix with ones (and save it to a variable) \n",
    "4. Create a 3 x 3 matrix with values from 1 to 9 (and save it to a variable) "
   ]
  },
  {
   "cell_type": "code",
   "execution_count": null,
   "metadata": {
    "id": "4xUTIUS7Uacg"
   },
   "outputs": [],
   "source": [
    "# POSSIBLE SOLUTION(S):\n",
    "\n",
    "# Task 4.1\n",
    "import numpy as np\n",
    "\n",
    "# Task 4.2\n",
    "array0s = np.zeros(10)\n",
    "print(array0s)\n",
    "\n",
    "# Task 4.3\n",
    "array1s = np.ones((5,5))\n",
    "print(array1s)\n",
    "\n",
    "# Task 4.4\n",
    "matrix3x3 = np.array([[1,2,3],[4,5,6],[7,8,9]])\n",
    "print(matrix3x3)"
   ]
  },
  {
   "cell_type": "code",
   "execution_count": null,
   "metadata": {
    "id": "0BO_AEKpfdLL"
   },
   "outputs": [],
   "source": [
    "# Task 4.4\n",
    "# You can also predefine the matrix.\n",
    "matrix_1to9 = [[1,2,3],[4,5,6],[7,8,9]]\n",
    "matrix3x3 = np.array(matrix_1to9)\n",
    "print(matrix3x3)"
   ]
  },
  {
   "cell_type": "markdown",
   "metadata": {
    "id": "zaDCSl0RMsGa"
   },
   "source": [
    "#### **TASK 5 - PLAY WITH OUR SOCIAL DECISION-MAKING DATA**\n",
    "\n",
    "Calculate a mean rating score for each condition - low, medium and high influence."
   ]
  },
  {
   "cell_type": "code",
   "execution_count": null,
   "metadata": {
    "id": "I2NlWJU7NORz"
   },
   "outputs": [],
   "source": [
    "# Load the data (ANOVA)\n",
    "import pandas as pd\n",
    "socialDecisionMakingData_ANOVA = pd.read_excel('data/data_BN_task1.xlsx', sheet_name = 'ANOVA')"
   ]
  },
  {
   "cell_type": "code",
   "execution_count": null,
   "metadata": {
    "id": "-7T-2N0kNiH_"
   },
   "outputs": [],
   "source": [
    "# POSSIBLE SOLUTION(S):\n",
    "mean_per_condition = socialDecisionMakingData_ANOVA.groupby('influence_level').mean()\n",
    "print(mean_per_condition)"
   ]
  },
  {
   "cell_type": "markdown",
   "metadata": {
    "id": "_pEO7MsoN1PN"
   },
   "source": [
    "#### **TASK 6 - ADDITIONAL DATA VISUALIZATION (SOCIAL DECISION-MAKING DATA)**\n",
    "\n",
    "Create different plots (e.g. bar plots, categorical scatter plots) of the two available columns in the ANOVA data frame (rating_score, influence_level).\n",
    "\n",
    "You can plot the data using the libraries **matplotlib** or **seaborn** (or you can combine both). Check out this tutorial for inspiration:\n",
    "\n",
    "https://seaborn.pydata.org/tutorial/categorical.html\n",
    "\n",
    "P.S. If you want to go a step further, you can try to adjust the details of your plot - change the labels of x and y axes, give your plot a title etc."
   ]
  },
  {
   "cell_type": "code",
   "execution_count": null,
   "metadata": {
    "id": "BGRMQCFVPg00"
   },
   "outputs": [],
   "source": [
    "import seaborn as sns\n",
    "import matplotlib.pyplot as plt\n",
    "import numpy as np\n",
    "\n",
    "# Bar plot\n",
    "sns.catplot(x='influence_level', y='rating_score', kind=\"bar\", \n",
    "            order=[\"low\", \"medium\", \"high\"], # Order of conditions on x-axis\n",
    "            ci=68, # This means the plot will display the standard error of the mean\n",
    "            capsize=.2, # Add caps to error bars\n",
    "            data=socialDecisionMakingData_ANOVA)\n",
    "\n",
    "plt.xlabel(\"Influence level\") # Change the label of x-axis\n",
    "plt.ylabel(\"Rating score\") # Change the label of y-axis\n",
    "plt.xticks(np.arange(3),('Low', 'Medium', 'High')) # Change the labels of categories on x-axis\n",
    "plt.title(\"Confidence under different levels of social influence\") # Add title to the plot"
   ]
  },
  {
   "cell_type": "code",
   "execution_count": null,
   "metadata": {
    "id": "x1vCPewNmXN1"
   },
   "outputs": [],
   "source": [
    "# Categorical scatterplot\n",
    "import seaborn as sns\n",
    "import matplotlib.pyplot as plt\n",
    "import numpy as np\n",
    "\n",
    "sns.catplot(x='influence_level', y='rating_score', kind=\"swarm\", \n",
    "            order=[\"low\", \"medium\", \"high\"], # Order of conditions on x-axis\n",
    "            size=5, # Size of the plot\n",
    "            data=socialDecisionMakingData_ANOVA)\n",
    "\n",
    "plt.xlabel(\"Influence level\") # Change the label of x-axis\n",
    "plt.ylabel(\"Rating score\") # Change the label of y-axis\n",
    "plt.xticks(np.arange(3),('Low', 'Medium', 'High')) # Change the labels of categories on x-axis\n",
    "plt.title(\"Confidence under different levels of social influence\") # Add title to the plot"
   ]
  }
 ],
 "metadata": {
  "colab": {
   "collapsed_sections": [],
   "name": "Python core practical_Bonus tasks_Solutions.ipynb",
   "provenance": []
  },
  "kernelspec": {
   "display_name": "Python 3",
   "language": "python",
   "name": "python3"
  },
  "language_info": {
   "codemirror_mode": {
    "name": "ipython",
    "version": 3
   },
   "file_extension": ".py",
   "mimetype": "text/x-python",
   "name": "python",
   "nbconvert_exporter": "python",
   "pygments_lexer": "ipython3",
   "version": "3.7.3"
  }
 },
 "nbformat": 4,
 "nbformat_minor": 1
}
