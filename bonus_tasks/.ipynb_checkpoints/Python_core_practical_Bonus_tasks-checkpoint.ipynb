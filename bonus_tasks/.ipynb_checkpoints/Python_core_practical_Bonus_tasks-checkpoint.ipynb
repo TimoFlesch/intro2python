{
 "cells": [
  {
   "cell_type": "markdown",
   "metadata": {
    "id": "N0jQFbtwpm-R"
   },
   "source": [
    "#### **BONUS TASKS**\n",
    "\n",
    "If you have finished all the tasks included in the main Python notebook, you can do the following bonus tasks for additional practice. You can try to do them during the core practical itself or you can return to this notebook later - whatever works best for you.\n",
    "\n",
    "You can find the solutions for all the tasks below in the **Python_core_practical_Bonus tasks_Solutions** notebook. However, bear in mind that there are always (**ALWAYS**) multiple ways you can do something in Python, and if your code doesn't match the solution we offered but still gives you the correct output, that's also fine! \n",
    "\n",
    "Also, in this notebook, we wanted to put you in the skin of neuroscientists/psychologists who are using Python, but don't necessarily know a coding solution on the top of their heads. With that in mind, some bonus tasks take you a step further and go beyond the content covered in the core practical. **Don't be daunted, and remember that Google is your best friend!**\n",
    "\n",
    "**Happy coding!**"
   ]
  },
  {
   "cell_type": "markdown",
   "metadata": {
    "id": "jp3A1E5aKCQ9"
   },
   "source": [
    "#### **TASK 1 - LOOPS**\n",
    "\n",
    "1. Define a list that will contain all the numbers from 1 to 100 and name it 'numbersUpTo100'. Avoid typing each number separately!\n",
    "2. Write a loop that will print all numbers from the list 'numbersUpTo100' that are simultaneously divisible by 7 and by 3.\n",
    "\n",
    "**Question**: How do we get Python to do nothing within the if-else statement? (Google, Google, Google)"
   ]
  },
  {
   "cell_type": "code",
   "execution_count": null,
   "metadata": {
    "id": "raearUPOHnv8"
   },
   "outputs": [],
   "source": [
    "# Type your code below:\n"
   ]
  },
  {
   "cell_type": "markdown",
   "metadata": {
    "id": "7jOztJJnKc_Y"
   },
   "source": [
    "#### **TASK 2 - FUNCTIONS**\n",
    "\n",
    "Write a function that computes the **variance** of a list of numbers (and test it using the list defined below).\n",
    "\n",
    "Remember, the variance is defined as \n",
    "> $var(\\textbf{x}) = \\frac{1}{N-1} \\sum_{i=1}^{N}(x_i-\\bar{x})^2$, where $mean(\\textbf{x}) = \\bar{x}$  \n",
    ">\n",
    "\n",
    "**Don't forget to add docstrings to your function!**"
   ]
  },
  {
   "cell_type": "code",
   "execution_count": null,
   "metadata": {
    "id": "huwjRfZIKrWs"
   },
   "outputs": [],
   "source": [
    "numbers = [2,5,8,7,1,4,4,9]\n",
    "\n",
    "# Type your code below:\n"
   ]
  },
  {
   "cell_type": "markdown",
   "metadata": {
    "id": "l4U9X3SQdUIP"
   },
   "source": [
    "Check your docstrings!"
   ]
  },
  {
   "cell_type": "code",
   "execution_count": null,
   "metadata": {
    "id": "p-N9UB6LdXEZ"
   },
   "outputs": [],
   "source": [
    "# Type your code below:\n"
   ]
  },
  {
   "cell_type": "markdown",
   "metadata": {
    "id": "SNWtIaZbK9cB"
   },
   "source": [
    "#### **TASK 3 - PYTHON LIBRARIES & METHODS**\n",
    "\n",
    "After you have written the function to calculate variance yourself, you can try an alternative (and easier) way to calculate it in Python.\n",
    "\n",
    "**Hint**: Google Python's **statistics** library (Don't forget to import it!)."
   ]
  },
  {
   "cell_type": "code",
   "execution_count": null,
   "metadata": {
    "id": "f2WMCtRELDRG"
   },
   "outputs": [],
   "source": [
    "# Type your code below:\n"
   ]
  },
  {
   "cell_type": "markdown",
   "metadata": {
    "id": "DIMS1Wy2LXil"
   },
   "source": [
    "#### **BONUS BONUS: RECURSION (ADVANCED PROGRAMMING PRINCIPLE)**\n",
    "\n",
    "Functions are very versatile - they can even call themselves! In programming, this is called **recursion**. Below is a naive solution to find the factorial of a number, and we will use this to show you how recursion works.\n",
    "\n",
    "As a reminder, a factorial of a number n is just a product of all integers from 1 to n:  \n",
    "\n",
    "**n! = 1 * 2 * 3 * 4 * ... * n**\n",
    "\n",
    "For example:\n",
    "\n",
    "**5! = 1 * 2 * 3 * 4 * 5**"
   ]
  },
  {
   "cell_type": "code",
   "execution_count": null,
   "metadata": {
    "id": "FA56zVodLv1b"
   },
   "outputs": [],
   "source": [
    "# This is a simple function where no recursion is used\n",
    "def iterative_factorial(n):\n",
    "    fact = 1\n",
    "    for ii in range(n):\n",
    "      fact *= ii+1 # This is the same as writing fact = fact * (ii+1) \n",
    "    return fact"
   ]
  },
  {
   "cell_type": "code",
   "execution_count": null,
   "metadata": {
    "id": "UErqeLYoLzfJ"
   },
   "outputs": [],
   "source": [
    "print(\"4!: \",iterative_factorial(4))"
   ]
  },
  {
   "cell_type": "code",
   "execution_count": null,
   "metadata": {
    "id": "HMVnRHGCL1Mr"
   },
   "outputs": [],
   "source": [
    "# This is a function where recursion is used\n",
    "def recursive_factorial(n):\n",
    "    if n >1:\n",
    "        fact = n*recursive_factorial(n-1) # Pay attention to this line\n",
    "        return fact\n",
    "    else:\n",
    "        return n"
   ]
  },
  {
   "cell_type": "code",
   "execution_count": null,
   "metadata": {
    "id": "aOSM4MidL3DW"
   },
   "outputs": [],
   "source": [
    "print(\"4!: \",recursive_factorial(4))"
   ]
  },
  {
   "cell_type": "markdown",
   "metadata": {
    "id": "Yo1TCqxxTpQb"
   },
   "source": [
    "#### **TASK 4 - NUMPY LIBRARY**\n",
    "\n",
    "1. Import numpy as np\n",
    "2. Create an array of 10 zeros (and save it to a variable) \n",
    "3. Create a 5 x 5 matrix with ones (and save it to a variable) \n",
    "4. Create a 3 x 3 matrix with values from 1 to 9 (and save it to a variable) "
   ]
  },
  {
   "cell_type": "code",
   "execution_count": null,
   "metadata": {
    "id": "4xUTIUS7Uacg"
   },
   "outputs": [],
   "source": [
    "# Type your code below:\n"
   ]
  },
  {
   "cell_type": "markdown",
   "metadata": {
    "id": "zaDCSl0RMsGa"
   },
   "source": [
    "#### **TASK 5 - PLAY WITH OUR SOCIAL DECISION-MAKING DATA**\n",
    "\n",
    "Calculate a mean rating score for each condition - low, medium and high influence."
   ]
  },
  {
   "cell_type": "code",
   "execution_count": null,
   "metadata": {
    "id": "I2NlWJU7NORz"
   },
   "outputs": [],
   "source": [
    "# Load the data (ANOVA)\n",
    "import pandas as pd\n",
    "socialDecisionMakingData_ANOVA = pd.read_excel('data/data_BN_task1.xlsx', sheet_name = 'ANOVA')"
   ]
  },
  {
   "cell_type": "code",
   "execution_count": null,
   "metadata": {
    "id": "-7T-2N0kNiH_"
   },
   "outputs": [],
   "source": [
    "# Type your code below:\n"
   ]
  },
  {
   "cell_type": "markdown",
   "metadata": {
    "id": "_pEO7MsoN1PN"
   },
   "source": [
    "#### **TASK 6 - ADDITIONAL DATA VISUALIZATION (SOCIAL DECISION-MAKING DATA)**\n",
    "\n",
    "Create different plots (e.g. bar plots, categorical scatterplots) of the two available columns in the ANOVA data frame (rating_score, influence_level).\n",
    "\n",
    "You can plot the data using the libraries **matplotlib** or **seaborn** (or you can combine both). Check out this tutorial for inspiration:\n",
    "\n",
    "https://seaborn.pydata.org/tutorial/categorical.html\n",
    "\n",
    "P.S. If you want to go a step further, you can try to adjust the details of your plot - change the labels of x and y axes, give your plot a title etc."
   ]
  },
  {
   "cell_type": "code",
   "execution_count": null,
   "metadata": {
    "id": "BGRMQCFVPg00"
   },
   "outputs": [],
   "source": [
    "# Type your code below:\n"
   ]
  },
  {
   "cell_type": "markdown",
   "metadata": {
    "id": "a0SyJVAgps6m"
   },
   "source": [
    "### **YOU HAVE REACHED THE END, GREAT JOB!**"
   ]
  }
 ],
 "metadata": {
  "colab": {
   "collapsed_sections": [],
   "name": "Python_core_practical_Bonus tasks.ipynb",
   "provenance": []
  },
  "kernelspec": {
   "display_name": "Python 3",
   "language": "python",
   "name": "python3"
  },
  "language_info": {
   "codemirror_mode": {
    "name": "ipython",
    "version": 3
   },
   "file_extension": ".py",
   "mimetype": "text/x-python",
   "name": "python",
   "nbconvert_exporter": "python",
   "pygments_lexer": "ipython3",
   "version": "3.7.3"
  }
 },
 "nbformat": 4,
 "nbformat_minor": 1
}
