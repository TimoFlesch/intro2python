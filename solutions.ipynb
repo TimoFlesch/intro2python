{
 "cells": [
  {
   "cell_type": "markdown",
   "metadata": {
    "colab_type": "text",
    "id": "OW_kXbq5J6Ek"
   },
   "source": [
    "# **PART 1: PYTHON - A (VERY) SHORT INTRODUCTION**"
   ]
  },
  {
   "cell_type": "markdown",
   "metadata": {
    "colab_type": "text",
    "id": "PGuGYduxaz_w"
   },
   "source": [
    "### **TASK 1:**\n",
    "\n",
    "1. Open a new Python code cell below this task description for each of the bullet points.\n",
    "2. Calculate the square root of 144 and save it to a variable 'sqroot144'\n",
    "3. Define a string variable that will contain your name and check if you have letter 'i' in your name\n",
    "4. Assign any 3 numbers (between 1 and 100) to 3 different variables. After doing that, add up your 3 variables and print whether their sum is between 100 and 120\n",
    "5. Check the type of each of the variables you defined by using the function type()\n",
    "\n"
   ]
  },
  {
   "cell_type": "code",
   "execution_count": 3,
   "metadata": {
    "colab": {},
    "colab_type": "code",
    "id": "rbGcv16raibA"
   },
   "outputs": [
    {
     "name": "stdout",
     "output_type": "stream",
     "text": [
      "12.0\n"
     ]
    }
   ],
   "source": [
    "# 1.2\n",
    "sqroot144 = 144**.5\n",
    "print(sqroot144)"
   ]
  },
  {
   "cell_type": "code",
   "execution_count": 20,
   "metadata": {},
   "outputs": [
    {
     "name": "stdout",
     "output_type": "stream",
     "text": [
      "True\n"
     ]
    }
   ],
   "source": [
    "# 1.3 with \"in\" statement\n",
    "myName = 'Timo'\n",
    "print('i' in myName)"
   ]
  },
  {
   "cell_type": "code",
   "execution_count": 7,
   "metadata": {
    "colab": {},
    "colab_type": "code",
    "id": "lqXbdrZJb54j"
   },
   "outputs": [
    {
     "name": "stdout",
     "output_type": "stream",
     "text": [
      "yes\n"
     ]
    }
   ],
   "source": [
    "# 1.3 with for loop\n",
    "myName = 'Timo'\n",
    "for letter in myName:\n",
    "    if letter=='i':\n",
    "        print('yes')\n",
    "        break\n"
   ]
  },
  {
   "cell_type": "code",
   "execution_count": 10,
   "metadata": {},
   "outputs": [
    {
     "name": "stdout",
     "output_type": "stream",
     "text": [
      "yes\n"
     ]
    }
   ],
   "source": [
    "# 1.3 with while loop\n",
    "myName = 'Timo'\n",
    "has_i = False \n",
    "idx = 0\n",
    "while(not has_i):\n",
    "    if myName[idx]=='i':\n",
    "        has_i = True\n",
    "        print('yes')\n",
    "    idx +=1\n",
    "    "
   ]
  },
  {
   "cell_type": "code",
   "execution_count": 17,
   "metadata": {},
   "outputs": [
    {
     "name": "stdout",
     "output_type": "stream",
     "text": [
      "yes\n"
     ]
    }
   ],
   "source": [
    "# 1.4 \n",
    "var1 = 21\n",
    "var2 = 14\n",
    "var3 = 80\n",
    "sumOfThree = var1+var2+var3\n",
    "if 120 > sumOfThree > 100:\n",
    "    print('yes')\n",
    "else:\n",
    "    print('no')"
   ]
  },
  {
   "cell_type": "code",
   "execution_count": 16,
   "metadata": {},
   "outputs": [
    {
     "name": "stdout",
     "output_type": "stream",
     "text": [
      "yes\n"
     ]
    }
   ],
   "source": [
    "# 1.4 \n",
    "var1 = 21\n",
    "var2 = 14\n",
    "var3 = 80\n",
    "sumOfThree = var1+var2+var3\n",
    "print('yes' if (sumOfThree > 100 and sumOfThree < 120) else 'no')"
   ]
  },
  {
   "cell_type": "code",
   "execution_count": 18,
   "metadata": {},
   "outputs": [
    {
     "name": "stdout",
     "output_type": "stream",
     "text": [
      "<class 'str'>\n",
      "<class 'int'>\n"
     ]
    }
   ],
   "source": [
    "print(type(myName))\n",
    "print(type(var1))\n",
    "# and so on.."
   ]
  },
  {
   "cell_type": "markdown",
   "metadata": {
    "colab_type": "text",
    "id": "rkpr5XvjcKwV"
   },
   "source": [
    "### **TASK 2:**\n",
    "\n",
    "Write your own loops.\n",
    "\n",
    "Given:\n",
    "\n",
    "```\n",
    " modules = [\"cognitive\", \"developmental\", \"neuro\", \"clinical\", \"social\", \"computational\"]\n",
    " comparisonVariable = \"introductory\"\n",
    "```\n",
    " \n",
    "Determine whether any of the modules have names that are longer than the comparison variable."
   ]
  },
  {
   "cell_type": "code",
   "execution_count": 21,
   "metadata": {
    "colab": {},
    "colab_type": "code",
    "id": "cwYlwrZGcI46"
   },
   "outputs": [
    {
     "name": "stdout",
     "output_type": "stream",
     "text": [
      "True\n"
     ]
    }
   ],
   "source": [
    "modules = [\"cognitive\", \"developmental\", \"neuro\", \"clinical\", \"social\", \"computational\"]\n",
    "comparisonVariable = \"introductory\"\n",
    "\n",
    "# Your code here\n",
    "anyNameLonger = False\n",
    "for mod in modules:\n",
    "    if len(mod) > len(comparisonVariable):\n",
    "        anyNameLonger = True\n",
    "        break\n",
    "print(anyNameLonger)"
   ]
  },
  {
   "cell_type": "markdown",
   "metadata": {
    "colab_type": "text",
    "id": "DFSomZjhDMBY"
   },
   "source": [
    "### **Task 3: Write your own function!**"
   ]
  },
  {
   "cell_type": "markdown",
   "metadata": {
    "colab_type": "text",
    "id": "7L_29-wrPX3k"
   },
   "source": [
    "Write a function that takes a list of numbers as input and returns the **mean** of these numbers.\n",
    "\n",
    "Remember, given a vector of numbers\n",
    "> $\\textbf{x} = [x_1, x_2, x_3, x_4, ...., x_n]$\n",
    "  \n",
    "the mean is defined as:  \n",
    "\n",
    "> $mean(\\textbf{x})=\\frac{1}{N}\\sum_{i=1}^{N} x_i = \\frac{1}{N}(x_1 + x_2 + x_3 + ... + x_n)$\n",
    "\n",
    "**Don't forget to add docstrings to your function!**\n"
   ]
  },
  {
   "cell_type": "code",
   "execution_count": 25,
   "metadata": {
    "colab": {},
    "colab_type": "code",
    "id": "VYIMV0z5DQcx"
   },
   "outputs": [
    {
     "name": "stdout",
     "output_type": "stream",
     "text": [
      "5.0\n",
      "Help on function compute_mean in module __main__:\n",
      "\n",
      "compute_mean(x)\n",
      "    computes mean of a list of numbers \n",
      "    INPUT: x (list)\n",
      "    OUTPUT: mu (float)\n",
      "\n"
     ]
    }
   ],
   "source": [
    "numbers = [2,5,8,7,1,4,4,9]\n",
    "# your code goes here\n",
    "def compute_mean(x):\n",
    "    ''' \n",
    "    computes mean of a list of numbers \n",
    "    INPUT: x (list)\n",
    "    OUTPUT: mu (float)\n",
    "    '''\n",
    "    return sum(x)/len(x)\n",
    "print(compute_mean(numbers))\n",
    "help(compute_mean)"
   ]
  },
  {
   "cell_type": "code",
   "execution_count": 24,
   "metadata": {},
   "outputs": [
    {
     "name": "stdout",
     "output_type": "stream",
     "text": [
      "5.0\n",
      "Help on function compute_mean in module __main__:\n",
      "\n",
      "compute_mean(x)\n",
      "    computes mean of a list of numbers \n",
      "    INPUT: x (list)\n",
      "    OUTPUT: mu (float)\n",
      "\n"
     ]
    }
   ],
   "source": [
    "# ... or:\n",
    "def compute_mean(x):\n",
    "    ''' \n",
    "    computes mean of a list of numbers \n",
    "    INPUT: x (list)\n",
    "    OUTPUT: mu (float)\n",
    "    '''\n",
    "    sum_of_numbers = 0\n",
    "    for ii in x:\n",
    "        sum_of_numbers = sum_of_numbers + ii\n",
    "    mean = sum_of_numbers/len(x)\n",
    "    return mean\n",
    "print(compute_mean(numbers))\n",
    "help(compute_mean)"
   ]
  },
  {
   "cell_type": "markdown",
   "metadata": {
    "colab_type": "text",
    "id": "bB6MQJKAsfaI"
   },
   "source": [
    "### **TASK 4: .methods() for string formatting**:\n",
    "\n",
    "You're given the following string:\n",
    "\n",
    "```python\n",
    "sentence = 'Michaelmas term starts in October.'\n",
    "```\n",
    "\n",
    "1. Write a function that puts all vowels in the upper case, while all the consonants stay in the lower case. Test your function on the variable 'sentence'.\n",
    "\n",
    "2. Create a new variable where the word 'Michaelmas' will be replaced with the word 'Trinity' and 'October' with 'April'."
   ]
  },
  {
   "cell_type": "code",
   "execution_count": 26,
   "metadata": {
    "colab": {
     "base_uri": "https://localhost:8080/",
     "height": 72
    },
    "colab_type": "code",
    "id": "01VtovFIuBms",
    "outputId": "703707c8-495a-43f6-eb5b-303e9b9c3e52"
   },
   "outputs": [
    {
     "data": {
      "text/plain": [
       "'mIchAElmAs tErm stArts In OctObEr.'"
      ]
     },
     "execution_count": 26,
     "metadata": {},
     "output_type": "execute_result"
    }
   ],
   "source": [
    "sentence = 'Michaelmas term starts in October.'\n",
    "# Solution (Task 1):\n",
    "def UpperVowelsLowerConsonants(string):\n",
    "  newString = []\n",
    "  vowels = ['a','e','i','o','u', 'A', 'E', 'I', 'O', 'U']\n",
    "  for letter in string:\n",
    "    if letter in vowels:\n",
    "      letter = letter.upper()\n",
    "      newString.append(letter)\n",
    "    else:\n",
    "      letter = letter.lower()\n",
    "      newString.append(letter)\n",
    "  newString = ''.join(newString)\n",
    "  return(newString)\n",
    "\n",
    "UpperVowelsLowerConsonants(sentence)"
   ]
  },
  {
   "cell_type": "code",
   "execution_count": 27,
   "metadata": {},
   "outputs": [
    {
     "name": "stdout",
     "output_type": "stream",
     "text": [
      "Trinity term starts in April.\n"
     ]
    }
   ],
   "source": [
    "# Solution (Task 2):\n",
    "sentenceTT = sentence.replace('Michaelmas', 'Trinity')\n",
    "sentenceTT = sentenceTT.replace('October', 'April')\n",
    "\n",
    "print(sentenceTT)"
   ]
  },
  {
   "cell_type": "markdown",
   "metadata": {
    "colab_type": "text",
    "id": "7gm9sIZvgRMJ"
   },
   "source": [
    "# **PART2: PYTHON FOR SCIENTISTS: PACKAGES/LIBRARIES**"
   ]
  },
  {
   "cell_type": "markdown",
   "metadata": {
    "colab_type": "text",
    "id": "6izgMqZ74JxD"
   },
   "source": [
    "### Task 5 : Data Visualisation\n",
    "Try to plot lengths against widths of the petals for all flower types. The kind of plot you'll want to use is most likely a scatterplot, so see if you can google your way to syntax that will take petal length and width as inputs for each datapoint. "
   ]
  },
  {
   "cell_type": "code",
   "execution_count": 28,
   "metadata": {
    "colab": {
     "base_uri": "https://localhost:8080/",
     "height": 297
    },
    "colab_type": "code",
    "id": "n7kAx99W4KJj",
    "outputId": "e5ac0498-7a51-436a-af7e-cae150e73941"
   },
   "outputs": [
    {
     "data": {
      "text/plain": [
       "<AxesSubplot:xlabel='petal_width', ylabel='petal_length'>"
      ]
     },
     "execution_count": 28,
     "metadata": {},
     "output_type": "execute_result"
    },
    {
     "data": {
      "image/png": "[encoded data removed]",
      "text/plain": [
       "<Figure size 432x288 with 1 Axes>"
      ]
     },
     "metadata": {
      "needs_background": "light"
     },
     "output_type": "display_data"
    }
   ],
   "source": [
    "from sklearn import datasets\n",
    "import seaborn as sns \n",
    "iris = sns.load_dataset(\"iris\") # Load the available dataset \n",
    "\n",
    "sns.scatterplot(x='petal_width',y='petal_length',data=iris)"
   ]
  },
  {
   "cell_type": "markdown",
   "metadata": {
    "colab_type": "text",
    "id": "iHPbqpAoD8sf"
   },
   "source": [
    "Now try to change your scatterplot code from the cell above to color different species of flowers differently. Hint: Seaborn is fancy, so it will call color \"hue\"... look for hue designations in scatterplot documentation for help. **hint** (https://seaborn.pydata.org/generated/seaborn.scatterplot.html)"
   ]
  },
  {
   "cell_type": "code",
   "execution_count": 30,
   "metadata": {
    "colab": {
     "base_uri": "https://localhost:8080/",
     "height": 297
    },
    "colab_type": "code",
    "id": "aHMZUgrkD6KZ",
    "outputId": "5b4ac376-03a5-43a2-efbd-30123b8975b4"
   },
   "outputs": [
    {
     "data": {
      "text/plain": [
       "<AxesSubplot:xlabel='petal_width', ylabel='petal_length'>"
      ]
     },
     "execution_count": 30,
     "metadata": {},
     "output_type": "execute_result"
    },
    {
     "data": {
      "image/png": "[encoded data removed]",
      "text/plain": [
       "<Figure size 432x288 with 1 Axes>"
      ]
     },
     "metadata": {
      "needs_background": "light"
     },
     "output_type": "display_data"
    }
   ],
   "source": [
    "# Your code goes here\n",
    "\n",
    "sns.scatterplot(x='petal_width',y='petal_length',data=iris, hue='species')"
   ]
  },
  {
   "cell_type": "markdown",
   "metadata": {},
   "source": [
    "# **PART 3. HANDS-ON DATA VISUALIZATION AND ANALYSIS**"
   ]
  },
  {
   "cell_type": "markdown",
   "metadata": {},
   "source": [
    "### Task 6: Data Descriptives\n",
    "\n",
    "\n",
    "1. Try to find a method that will tell you how many responses there are in the 'low', 'medium' and 'high' condition. (**Question**: How do we access a column in pandas data frame?). Hint: you can use the function .value_counts() for this)\n",
    "\n",
    "2. Try to calculate a grand mean rating score. Hint: Remember what you've learned in Part 2 You can use numpy for this!!\n"
   ]
  },
  {
   "cell_type": "code",
   "execution_count": 33,
   "metadata": {},
   "outputs": [
    {
     "name": "stdout",
     "output_type": "stream",
     "text": [
      "(195, 2)\n",
      "medium    65\n",
      "low       65\n",
      "high      65\n",
      "Name: influence_level, dtype: int64\n",
      "0.5293119276379907\n"
     ]
    }
   ],
   "source": [
    "\n",
    "import numpy as np \n",
    "import pandas as pd\n",
    "import warnings; warnings.simplefilter('ignore')\n",
    "# Load the data\n",
    "socialDecisionMakingData_ANOVA = pd.read_excel('data/data_BN_task1.xlsx', sheet_name = 'ANOVA')\n",
    "\n",
    "# Before you start any analysis, explore the ANOVA dataset \n",
    "print(socialDecisionMakingData_ANOVA.shape)\n",
    "\n",
    "# Solution (Task 1):\n",
    "print(socialDecisionMakingData_ANOVA['influence_level'].value_counts())\n",
    "\n",
    "# Solution (Task 2):\n",
    "grand_mean = np. mean(socialDecisionMakingData_ANOVA['rating_score']) # Overall mean rating score\n",
    "print(grand_mean)"
   ]
  },
  {
   "cell_type": "markdown",
   "metadata": {},
   "source": [
    "### Task 7: Data Visualisation\n",
    "Now try to make a so-called **violin plot** using the same variables we used above (influence_level, rating_score)."
   ]
  },
  {
   "cell_type": "code",
   "execution_count": 34,
   "metadata": {},
   "outputs": [
    {
     "data": {
      "text/plain": [
       "<seaborn.axisgrid.FacetGrid at 0x7f2ebe637fd0>"
      ]
     },
     "execution_count": 34,
     "metadata": {},
     "output_type": "execute_result"
    },
    {
     "data": {
      "image/png": "[encoded data removed]",
      "text/plain": [
       "<Figure size 360x360 with 1 Axes>"
      ]
     },
     "metadata": {
      "needs_background": "light"
     },
     "output_type": "display_data"
    }
   ],
   "source": [
    "# Solution (Task 1):\n",
    "import seaborn as sns\n",
    "sns.catplot(x=\"influence_level\", y=\"rating_score\",\n",
    "            kind=\"violin\", data=socialDecisionMakingData_ANOVA)"
   ]
  },
  {
   "cell_type": "markdown",
   "metadata": {},
   "source": [
    "### Task 8: Nonparametric Significance Tests for categorical IVs"
   ]
  },
  {
   "cell_type": "markdown",
   "metadata": {},
   "source": [
    "As pointed out above, we shouldn't have carried out an ANOVA as some of the assumptions were violated. \n",
    "We could have transformed the data, checked for normality again and carried out an ANOVA on the transformed data (provided it would be normally distributed).   \n",
    "Alternatively, we could use nonparametric tests instead, which don't make these distributional assumptions (but are usually less powerful, i.e. worse at detecting an effect).   \n",
    "If you've followed our tutorial carefully, you should have learned enough to do this yourself!  \n",
    "Please carry out\n",
    "* a Friedman test as non-parametric alternative to the ANOVA (https://pingouin-stats.org/generated/pingouin.friedman.html) \n",
    "* a Wicoxon Signed-Rank test as  non-parametric alternative to the t-test (https://docs.scipy.org/doc/scipy/reference/generated/scipy.stats.wilcoxon.html)\n",
    "\n",
    "**Hint:** THe signed rank test from the scipy.stats package doesn't return the z-statistic, which you would usually need to report together with the p-value. You can obtain an unsigned approximation with the following formula: $$z = ISF(\\frac{f}{2})$$\n",
    "where ISF corresponds to the inverse survival function, which is the inverse of the CDF of a gaussian, i.e. $$ISF(X) = [1-CDF(X)]^{-1}$$"
   ]
  },
  {
   "cell_type": "code",
   "execution_count": 38,
   "metadata": {},
   "outputs": [
    {
     "data": {
      "text/html": [
       "<div>\n",
       "<style scoped>\n",
       "    .dataframe tbody tr th:only-of-type {\n",
       "        vertical-align: middle;\n",
       "    }\n",
       "\n",
       "    .dataframe tbody tr th {\n",
       "        vertical-align: top;\n",
       "    }\n",
       "\n",
       "    .dataframe thead th {\n",
       "        text-align: right;\n",
       "    }\n",
       "</style>\n",
       "<table border=\"1\" class=\"dataframe\">\n",
       "  <thead>\n",
       "    <tr style=\"text-align: right;\">\n",
       "      <th></th>\n",
       "      <th>influence_level</th>\n",
       "      <th>rating_score</th>\n",
       "      <th>subject</th>\n",
       "    </tr>\n",
       "  </thead>\n",
       "  <tbody>\n",
       "    <tr>\n",
       "      <th>0</th>\n",
       "      <td>high</td>\n",
       "      <td>0.633333</td>\n",
       "      <td>1</td>\n",
       "    </tr>\n",
       "    <tr>\n",
       "      <th>1</th>\n",
       "      <td>high</td>\n",
       "      <td>0.550000</td>\n",
       "      <td>2</td>\n",
       "    </tr>\n",
       "    <tr>\n",
       "      <th>2</th>\n",
       "      <td>high</td>\n",
       "      <td>0.610000</td>\n",
       "      <td>3</td>\n",
       "    </tr>\n",
       "    <tr>\n",
       "      <th>3</th>\n",
       "      <td>high</td>\n",
       "      <td>0.557143</td>\n",
       "      <td>4</td>\n",
       "    </tr>\n",
       "    <tr>\n",
       "      <th>4</th>\n",
       "      <td>high</td>\n",
       "      <td>0.542857</td>\n",
       "      <td>7</td>\n",
       "    </tr>\n",
       "    <tr>\n",
       "      <th>...</th>\n",
       "      <td>...</td>\n",
       "      <td>...</td>\n",
       "      <td>...</td>\n",
       "    </tr>\n",
       "    <tr>\n",
       "      <th>142</th>\n",
       "      <td>medium</td>\n",
       "      <td>0.500000</td>\n",
       "      <td>60</td>\n",
       "    </tr>\n",
       "    <tr>\n",
       "      <th>143</th>\n",
       "      <td>medium</td>\n",
       "      <td>0.545032</td>\n",
       "      <td>62</td>\n",
       "    </tr>\n",
       "    <tr>\n",
       "      <th>144</th>\n",
       "      <td>medium</td>\n",
       "      <td>0.500000</td>\n",
       "      <td>63</td>\n",
       "    </tr>\n",
       "    <tr>\n",
       "      <th>145</th>\n",
       "      <td>medium</td>\n",
       "      <td>0.508333</td>\n",
       "      <td>64</td>\n",
       "    </tr>\n",
       "    <tr>\n",
       "      <th>146</th>\n",
       "      <td>medium</td>\n",
       "      <td>0.500000</td>\n",
       "      <td>65</td>\n",
       "    </tr>\n",
       "  </tbody>\n",
       "</table>\n",
       "<p>147 rows × 3 columns</p>\n",
       "</div>"
      ],
      "text/plain": [
       "    influence_level  rating_score  subject\n",
       "0              high      0.633333        1\n",
       "1              high      0.550000        2\n",
       "2              high      0.610000        3\n",
       "3              high      0.557143        4\n",
       "4              high      0.542857        7\n",
       "..              ...           ...      ...\n",
       "142          medium      0.500000       60\n",
       "143          medium      0.545032       62\n",
       "144          medium      0.500000       63\n",
       "145          medium      0.508333       64\n",
       "146          medium      0.500000       65\n",
       "\n",
       "[147 rows x 3 columns]"
      ]
     },
     "execution_count": 38,
     "metadata": {},
     "output_type": "execute_result"
    }
   ],
   "source": [
    "import numpy as np \n",
    "import pandas as pd\n",
    "import warnings; warnings.simplefilter('ignore')\n",
    "from scipy.stats import zscore\n",
    "# Load the data\n",
    "df = pd.read_excel('data/data_BN_task1.xlsx', sheet_name = 'ANOVA')\n",
    "\n",
    "# convert from long format to wide format \n",
    "df['subject'] = np.tile(np.arange(1,66),3)\n",
    "df = df.pivot(index='subject',columns='influence_level',values='rating_score')\n",
    "\n",
    "# remove outliers \n",
    "df['zs_high'] = zscore(df['high'])\n",
    "df['zs_medium'] = zscore(df['medium'])\n",
    "df['zs_low'] = zscore(df['low'])\n",
    "outliers = np.abs(df)>2\n",
    "outlier_mask = np.any(outliers,axis=1)\n",
    "df = df[outlier_mask==False]\n",
    "# convert back from wide to long \n",
    "subject_ids = np.asarray(df.index)\n",
    "df = df[df.columns[:3]].melt(value_name='rating_score')\n",
    "df['subject'] = np.tile(subject_ids,3)\n",
    "df"
   ]
  },
  {
   "cell_type": "code",
   "execution_count": 40,
   "metadata": {},
   "outputs": [
    {
     "name": "stdout",
     "output_type": "stream",
     "text": [
      "                   Source  ddof1          Q         p-unc\n",
      "Friedman  influence_level      2  48.163043  3.479589e-11\n"
     ]
    }
   ],
   "source": [
    "from pingouin import friedman\n",
    "results = friedman(data=df,dv='rating_score',subject='subject',within='influence_level')\n",
    "print(results)"
   ]
  },
  {
   "cell_type": "code",
   "execution_count": 43,
   "metadata": {},
   "outputs": [
    {
     "name": "stdout",
     "output_type": "stream",
     "text": [
      "low vs medium: z=1.53, p=0.12587\n",
      "low vs high: z=5.26, p=0.0\n",
      "medium vs high: z=5.12, p=0.0\n"
     ]
    }
   ],
   "source": [
    "from scipy.stats import wilcoxon, norm\n",
    "\n",
    "scores = ['low','medium','high']\n",
    "# let's loop through all possible combinations\n",
    "for ii in range(len(scores)):\n",
    "    for jj in range(ii+1,len(scores)):\n",
    "        lvl1 = df['rating_score'][df['influence_level']==scores[ii]]\n",
    "        lvl2 = df['rating_score'][df['influence_level']==scores[jj]]        \n",
    "        s,p = wilcoxon(lvl1,lvl2)        \n",
    "        # s is sum of ranks, so we need to convert it to a z score \n",
    "        # we use the inverse survival function (1-cdf) to recover z from p (except for the sign)\n",
    "        z = norm.isf(p / 2)\n",
    "        print('{} vs {}: z={}, p={}'.format(scores[ii],scores[jj],str(np.round(z,2)),str(np.round(p,5))))\n"
   ]
  },
  {
   "cell_type": "code",
   "execution_count": null,
   "metadata": {},
   "outputs": [],
   "source": []
  }
 ],
 "metadata": {
  "colab": {
   "collapsed_sections": [
    "27GJWJouueMT"
   ],
   "name": "intro_to_python_students.ipynb",
   "provenance": []
  },
  "kernelspec": {
   "display_name": "Python 3",
   "language": "python",
   "name": "python3"
  },
  "language_info": {
   "codemirror_mode": {
    "name": "ipython",
    "version": 3
   },
   "file_extension": ".py",
   "mimetype": "text/x-python",
   "name": "python",
   "nbconvert_exporter": "python",
   "pygments_lexer": "ipython3",
   "version": "3.7.9"
  }
 },
 "nbformat": 4,
 "nbformat_minor": 1
}
