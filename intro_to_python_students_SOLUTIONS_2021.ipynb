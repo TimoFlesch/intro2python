{
 "cells": [
  {
   "cell_type": "markdown",
   "metadata": {
    "colab_type": "text",
    "id": "OW_kXbq5J6Ek"
   },
   "source": [
    "# **PART 1: PYTHON - A (VERY) SHORT INTRODUCTION**"
   ]
  },
  {
   "cell_type": "markdown",
   "metadata": {
    "colab_type": "text",
    "id": "2kBA_M83Z1Ld"
   },
   "source": [
    "## **1.1 VARIABLES**"
   ]
  },
  {
   "cell_type": "markdown",
   "metadata": {
    "colab_type": "text",
    "id": "PGuGYduxaz_w"
   },
   "source": [
    "### **TASK 1:**\n",
    "1. Open a new Python code cell below this task description for each of the bullet points.\n",
    "2. Calculate the square root of 144 and save it to a variable 'sqroot144'\n",
    "3. Define a string variable that will contain your name and check if you have letter 'i' in your name\n",
    "4. Assign any 3 numbers (between 1 and 100) to 3 different variables. After doing that, add up your 3 variables and print whether their sum is between 100 and 120\n",
    "5. Check the type of each of the variables you defined by using the function type()"
   ]
  },
  {
   "cell_type": "code",
   "execution_count": null,
   "metadata": {
    "colab": {},
    "colab_type": "code",
    "id": "rbGcv16raibA"
   },
   "outputs": [],
   "source": [
    "# Task 1.1\n",
    "# To open a new cell, press '+' above and set the cell to 'Code' in the dropdown menu"
   ]
  },
  {
   "cell_type": "code",
   "execution_count": null,
   "metadata": {},
   "outputs": [],
   "source": [
    "# Task 1.2\n",
    "sqroot144 = 144**0.5\n",
    "\n",
    "import math\n",
    "sqroot144_2 = math.sqrt(144)"
   ]
  },
  {
   "cell_type": "code",
   "execution_count": null,
   "metadata": {},
   "outputs": [],
   "source": [
    "# Task 1.3\n",
    "name = \"Jelka\"\n",
    "print(\"i\" in name)"
   ]
  },
  {
   "cell_type": "code",
   "execution_count": null,
   "metadata": {},
   "outputs": [],
   "source": [
    "# Task 1.4\n",
    "n1 = 34 \n",
    "n2 = 55\n",
    "n3 = 4\n",
    "\n",
    "total = n1 + n2 + n3\n",
    "print(120 > total > 100)"
   ]
  },
  {
   "cell_type": "code",
   "execution_count": null,
   "metadata": {},
   "outputs": [],
   "source": [
    "# Task 1.5 = Example variable\n",
    "type(sqroot144)"
   ]
  },
  {
   "cell_type": "markdown",
   "metadata": {
    "colab_type": "text",
    "id": "RUnpVcD6btev"
   },
   "source": [
    "## **1.2 LOOPS and STATEMENTS**"
   ]
  },
  {
   "cell_type": "markdown",
   "metadata": {
    "colab_type": "text",
    "id": "rkpr5XvjcKwV"
   },
   "source": [
    "#### **TASK 2:**\n",
    "\n",
    "Write your own loops.\n",
    "\n",
    "Given:\n",
    "\n",
    "```\n",
    " modules = [\"cognitive\", \"developmental\", \"neuro\", \"clinical\", \"social\", \"computational\"]\n",
    " comparisonVariable = \"introductory\"\n",
    "```\n",
    " \n",
    "Determine whether any of the modules have names that are longer than the comparison variable."
   ]
  },
  {
   "cell_type": "code",
   "execution_count": null,
   "metadata": {
    "colab": {},
    "colab_type": "code",
    "id": "cwYlwrZGcI46"
   },
   "outputs": [],
   "source": [
    "modules = [\"cognitive\", \"developmental\", \"neuro\", \"clinical\", \"social\", \"computational\"]\n",
    "comparisonVariable = \"introductory\"\n",
    "\n",
    "# Your code here\n",
    "anyNameLonger = False\n",
    "for mod in modules:\n",
    "    if len(mod) > len(comparisonVariable):\n",
    "        anyNameLonger = True\n",
    "print(anyNameLonger)"
   ]
  },
  {
   "cell_type": "markdown",
   "metadata": {
    "colab_type": "text",
    "id": "mzr0TpU0w7kz"
   },
   "source": [
    "## **1.3 FUNCTIONS**"
   ]
  },
  {
   "cell_type": "markdown",
   "metadata": {
    "colab_type": "text",
    "id": "7L_29-wrPX3k"
   },
   "source": [
    "#### **TASK 3:**\n",
    "\n",
    "Write a function that takes a list of numbers as input and returns the **mean** of these numbers.\n",
    "\n",
    "Remember, given a vector of numbers\n",
    "> $\\textbf{x} = [x_1, x_2, x_3, x_4, ...., x_n]$\n",
    "  \n",
    "the mean is defined as:  \n",
    "\n",
    "> $mean(\\textbf{x})=\\frac{1}{N}\\sum_{i=1}^{N} x_i = \\frac{1}{N}(x_1 + x_2 + x_3 + ... + x_n)$\n",
    "\n",
    "**Don't forget to add docstrings to your function!**"
   ]
  },
  {
   "cell_type": "code",
   "execution_count": null,
   "metadata": {
    "colab": {},
    "colab_type": "code",
    "id": "VYIMV0z5DQcx"
   },
   "outputs": [],
   "source": [
    "# Option 1\n",
    "numbers = [2,5,8,7,1,4,4,9]\n",
    "\n",
    "def compute_mean(x):\n",
    "    return sum(x)/len(x)\n",
    "\n",
    "print(compute_mean(numbers))"
   ]
  },
  {
   "cell_type": "code",
   "execution_count": null,
   "metadata": {},
   "outputs": [],
   "source": [
    "# Option 2\n",
    "def compute_mean(x):\n",
    "    sum_of_numbers = 0\n",
    "    for ii in x:\n",
    "        sum_of_numbers = sum_of_numbers + ii\n",
    "    mean = sum_of_numbers/len(x)\n",
    "    return mean\n",
    "\n",
    "print(compute_mean(numbers))"
   ]
  },
  {
   "cell_type": "markdown",
   "metadata": {
    "colab_type": "text",
    "id": "tA6FEF5HyEX5"
   },
   "source": [
    "Now add docstrings to your functions to explain how to use them"
   ]
  },
  {
   "cell_type": "code",
   "execution_count": null,
   "metadata": {
    "colab": {},
    "colab_type": "code",
    "id": "W-79OVZSyOni"
   },
   "outputs": [],
   "source": [
    "# Docstrings example\n",
    "def compute_mean(x):\n",
    "    ''' \n",
    "    computes mean of a list of numbers \n",
    "    INPUT: x (list)\n",
    "    OUTPUT: mu (float)\n",
    "    '''\n",
    "    return sum(x)/len(x)"
   ]
  },
  {
   "cell_type": "markdown",
   "metadata": {
    "colab_type": "text",
    "id": "yLgaYKSq-yoc"
   },
   "source": [
    "## **1.4 .METHODS()**"
   ]
  },
  {
   "cell_type": "markdown",
   "metadata": {
    "colab_type": "text",
    "id": "bB6MQJKAsfaI"
   },
   "source": [
    "#### **TASK 4**:\n",
    "\n",
    "You're given the following string:\n",
    "\n",
    "```python\n",
    "sentence = 'Michaelmas term starts in October.'\n",
    "```\n",
    "\n",
    "1. Write a function that puts all vowels in the upper case, while all the consonants stay in the lower case. Test your function on the variable 'sentence'.\n",
    "\n",
    "2. Create a new variable where the word 'Michaelmas' will be replaced with the word 'Trinity' and 'October' with 'April'."
   ]
  },
  {
   "cell_type": "code",
   "execution_count": null,
   "metadata": {
    "colab": {
     "base_uri": "https://localhost:8080/",
     "height": 72
    },
    "colab_type": "code",
    "id": "01VtovFIuBms",
    "outputId": "703707c8-495a-43f6-eb5b-303e9b9c3e52"
   },
   "outputs": [],
   "source": [
    "# Task 4.1\n",
    "sentence = 'Michaelmas term starts in October.'\n",
    "\n",
    "def UpperVowelsLowerConsonants(string):\n",
    "  newString = []\n",
    "  vowels = ['a','e','i','o','u', 'A', 'E', 'I', 'O', 'U']\n",
    "  for letter in string:\n",
    "    if letter in vowels:\n",
    "      letter = letter.upper()\n",
    "      newString.append(letter)\n",
    "    else:\n",
    "      letter = letter.lower()\n",
    "      newString.append(letter)\n",
    "  newString = ''.join(newString)\n",
    "  return(newString)\n",
    "\n",
    "UpperVowelsLowerConsonants(sentence)"
   ]
  },
  {
   "cell_type": "code",
   "execution_count": null,
   "metadata": {},
   "outputs": [],
   "source": [
    "# Task 4.2\n",
    "\n",
    "sentenceTT = sentence.replace('Michaelmas', 'Trinity')\n",
    "sentenceTT = sentenceTT.replace('October', 'April')\n",
    "\n",
    "print(sentenceTT)"
   ]
  },
  {
   "cell_type": "markdown",
   "metadata": {
    "colab_type": "text",
    "id": "7gm9sIZvgRMJ"
   },
   "source": [
    "# **PART 2: PYTHON FOR SCIENTISTS: PACKAGES/LIBRARIES**"
   ]
  },
  {
   "cell_type": "markdown",
   "metadata": {
    "colab_type": "text",
    "id": "6izgMqZ74JxD"
   },
   "source": [
    "#### **TASK 5**:\n",
    "\n",
    "Now try to plot lengths against widths of the petals for all flower types. The kind of plot you'll want to use is most likely a scatterplot, so see if you can google your way to the syntax that will take petal length and width as inputs for each datapoint."
   ]
  },
  {
   "cell_type": "code",
   "execution_count": null,
   "metadata": {},
   "outputs": [],
   "source": [
    "from sklearn import datasets\n",
    "import seaborn as sns \n",
    "\n",
    "iris = sns.load_dataset(\"iris\") # Load the available dataset "
   ]
  },
  {
   "cell_type": "code",
   "execution_count": null,
   "metadata": {
    "colab": {
     "base_uri": "https://localhost:8080/",
     "height": 297
    },
    "colab_type": "code",
    "id": "n7kAx99W4KJj",
    "outputId": "e5ac0498-7a51-436a-af7e-cae150e73941"
   },
   "outputs": [],
   "source": [
    "sns.scatterplot(x='petal_width',y='petal_length',data=iris)"
   ]
  },
  {
   "cell_type": "code",
   "execution_count": null,
   "metadata": {},
   "outputs": [],
   "source": [
    "sns.scatterplot(x='petal_width',y='petal_length',data=iris, hue='species')"
   ]
  },
  {
   "cell_type": "markdown",
   "metadata": {},
   "source": [
    "# **PART 3: HANDS-ON DATA VISUALIZATION AND ANALYSIS**"
   ]
  },
  {
   "cell_type": "markdown",
   "metadata": {},
   "source": [
    "#### **TASK 6**:\n",
    "\n",
    "1. Try to find a method that will tell you how many responses there are in the 'low', 'medium' and 'high' condition. (**Question**: How do we access a column in pandas data frame?). Hint: you can use the function .value_counts() for this)\n",
    "\n",
    "2. Try to calculate a grand mean rating score. Hint: Remember what you've learned in Part 2!"
   ]
  },
  {
   "cell_type": "code",
   "execution_count": null,
   "metadata": {},
   "outputs": [],
   "source": [
    "import numpy as np \n",
    "import pandas as pd\n",
    "import warnings; warnings.simplefilter('ignore') \n",
    "\n",
    "# Load the data\n",
    "socialDecisionMakingData_ANOVA = pd.read_excel('data/data_BN_task1.xlsx', sheet_name = 'ANOVA')"
   ]
  },
  {
   "cell_type": "code",
   "execution_count": null,
   "metadata": {},
   "outputs": [],
   "source": [
    "# Task 6.1\n",
    "socialDecisionMakingData_ANOVA['influence_level'].value_counts()"
   ]
  },
  {
   "cell_type": "code",
   "execution_count": null,
   "metadata": {},
   "outputs": [],
   "source": [
    "# Task 6.2\n",
    "np. mean(socialDecisionMakingData_ANOVA['rating_score'])"
   ]
  },
  {
   "cell_type": "markdown",
   "metadata": {},
   "source": [
    "#### **TASK 7**:\n",
    "\n",
    "1. Now try to make a so-called **violin plot** using the same variables we used above (influence_level, rating_score)."
   ]
  },
  {
   "cell_type": "code",
   "execution_count": null,
   "metadata": {},
   "outputs": [],
   "source": [
    "# Task 7.1\n",
    "sns.catplot(x=\"influence_level\", y=\"rating_score\",\n",
    "            kind=\"violin\", data=socialDecisionMakingData_ANOVA)"
   ]
  },
  {
   "cell_type": "markdown",
   "metadata": {},
   "source": [
    "#### **TASK 8**:\n",
    "\n",
    "1. Examine the GLM dataset the same way we did above for the ANOVA dataset (e.g. check the shape, the first/last few rows, descriptive statistics)."
   ]
  },
  {
   "cell_type": "code",
   "execution_count": null,
   "metadata": {},
   "outputs": [],
   "source": [
    "# Load the data \n",
    "data_forGLM = pd.read_excel('data/data_BN_task1.xlsx', sheet_name = 'GLM')"
   ]
  },
  {
   "cell_type": "code",
   "execution_count": null,
   "metadata": {},
   "outputs": [],
   "source": [
    "# Some of the ways you can explore the data\n",
    "data_forGLM.head()"
   ]
  },
  {
   "cell_type": "code",
   "execution_count": null,
   "metadata": {},
   "outputs": [],
   "source": [
    "data_forGLM.info()"
   ]
  },
  {
   "cell_type": "code",
   "execution_count": null,
   "metadata": {},
   "outputs": [],
   "source": [
    "data_forGLM.shape"
   ]
  },
  {
   "cell_type": "code",
   "execution_count": null,
   "metadata": {},
   "outputs": [],
   "source": [
    "# How many subjects?\n",
    "print('How many subjects? {}'.format(len(np.unique(data_forGLM['subject id']))))"
   ]
  },
  {
   "cell_type": "code",
   "execution_count": null,
   "metadata": {},
   "outputs": [],
   "source": [
    "data_forGLM[data_forGLM['subject id'] == 19]"
   ]
  }
 ],
 "metadata": {
  "colab": {
   "collapsed_sections": [
    "27GJWJouueMT"
   ],
   "name": "intro_to_python_students.ipynb",
   "provenance": []
  },
  "kernelspec": {
   "display_name": "Python 3",
   "language": "python",
   "name": "python3"
  },
  "language_info": {
   "codemirror_mode": {
    "name": "ipython",
    "version": 3
   },
   "file_extension": ".py",
   "mimetype": "text/x-python",
   "name": "python",
   "nbconvert_exporter": "python",
   "pygments_lexer": "ipython3",
   "version": "3.7.3"
  }
 },
 "nbformat": 4,
 "nbformat_minor": 1
}
