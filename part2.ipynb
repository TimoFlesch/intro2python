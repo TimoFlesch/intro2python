{
 "cells": [
  {
   "cell_type": "markdown",
   "metadata": {
    "id": "iMYT-1jkeA-D"
   },
   "source": [
    "# **PART 2: PYTHON FOR SCIENTISTS: PACKAGES/LIBRARIES**"
   ]
  },
  {
   "cell_type": "markdown",
   "metadata": {
    "id": "KZ2ey4tieDtk"
   },
   "source": [
    "Some of the most powerful tools you'll use in Python are packages and libraries. These contain useful functions - from quite simple to more advanced ones. We'll go through only a few basic examples today, but we'll leave you with a list of libraries and packages to check out: \n",
    "\n",
    "- numpy \n",
    "- matplotlib\n",
    "- seaborn\n",
    "- scipy \n",
    "\n",
    "**You'll need to import every package you want to use**. This is not a one-time thing - you have to do it in each new Python notebook. With time you'll have a pretty good sense of what packages you need (and Stackoverflow to the rescue, always!). "
   ]
  },
  {
   "cell_type": "markdown",
   "metadata": {},
   "source": [
    "## 2.1 DATA MANIPULATION AND BASIC STATS WITH NUMPY AND SCIPY"
   ]
  },
  {
   "cell_type": "markdown",
   "metadata": {},
   "source": [
    "### 2.1.1 Array manipulation with Numpy"
   ]
  },
  {
   "cell_type": "code",
   "execution_count": null,
   "metadata": {
    "id": "rJ2HS41meCVi"
   },
   "outputs": [],
   "source": [
    "# Try it yourself\n",
    "import numpy"
   ]
  },
  {
   "cell_type": "code",
   "execution_count": null,
   "metadata": {
    "id": "pZKg3nTiejs_"
   },
   "outputs": [],
   "source": [
    "# Calculate the mean in a new way\n",
    "array = [2, 4, 6, 8, 10]\n",
    "\n",
    "averageOfArray = numpy.mean(array)\n",
    "print(averageOfArray)"
   ]
  },
  {
   "cell_type": "markdown",
   "metadata": {},
   "source": [
    "Alternatively, you can use abbreviations for packages - this is really handy. "
   ]
  },
  {
   "cell_type": "code",
   "execution_count": null,
   "metadata": {
    "id": "kCpKWnkQe24A"
   },
   "outputs": [],
   "source": [
    "import numpy as np\n",
    "\n",
    "averageOfArray = np.mean(array)\n",
    "print(averageOfArray)"
   ]
  },
  {
   "cell_type": "markdown",
   "metadata": {},
   "source": [
    "And, of course, you can print or use any of these directly, such as: "
   ]
  },
  {
   "cell_type": "code",
   "execution_count": null,
   "metadata": {
    "id": "7BrCkOThe_xC"
   },
   "outputs": [],
   "source": [
    "print(np.mean(array))"
   ]
  },
  {
   "cell_type": "markdown",
   "metadata": {},
   "source": [
    "Sometimes, we need arrays that are prepopulated with a few numbers. Here's how to do it"
   ]
  },
  {
   "cell_type": "code",
   "execution_count": null,
   "metadata": {
    "id": "k5nXc37mfD1j"
   },
   "outputs": [],
   "source": [
    "# Numpy is also powerful in prepopulating your arrays\n",
    "a = np.zeros((2))  \n",
    "print(a) \n",
    "\n",
    "print('') # Space to separate outputs\n",
    "\n",
    "# Even if you need multiple dimensions\n",
    "b = np.ones((2, 2))\n",
    "print(b)\n",
    "\n",
    "print('') # Space to separate outputs\n",
    "\n",
    "# You can also create an array filled with the same number of choice, something like \n",
    "x = 27.34 \n",
    "c = np.full((5), x)\n",
    "print(c)"
   ]
  },
  {
   "cell_type": "markdown",
   "metadata": {},
   "source": [
    "### 2.1.2 Correlation and linear regression with Numpy and Scipy"
   ]
  },
  {
   "cell_type": "markdown",
   "metadata": {},
   "source": [
    "Want to know how correlated your variables are? \n",
    "There are always multiple ways to do things in Python. Here is an example of \n",
    "how even something as simple as a correlation between two variables can be calculated \n",
    "using multiple packages. \n"
   ]
  },
  {
   "cell_type": "code",
   "execution_count": null,
   "metadata": {
    "id": "BUwQ6z3iBFXF"
   },
   "outputs": [],
   "source": [
    "x = [1, 2, 3, 4, 5, 1, 2, 3, 4, 5, 1, 2, 3, 4, 5]\n",
    "y = [2, 5, 6, 11, 14, 5, 2, 7, 8, 9, 1, 2, 3, 7, 3]\n",
    "\n",
    "# we can print the entire cross-correlation matrix (which is an array of arrays) ...\n",
    "print(np.corrcoef(x, y))\n",
    "\n",
    "# .. or only the correlations we are interested in\n",
    "print('Correlation using numpy: ', np.corrcoef(x, y)[0][1]) # What do you think [0][1] means?\n",
    "\n",
    "# we can also perform simple linear regression in one line of code!\n",
    "from scipy.stats import linregress\n",
    "\n",
    "print(linregress(x, y))\n",
    "print('Regression Slope using scipy: ', linregress(x, y)[2])"
   ]
  },
  {
   "cell_type": "markdown",
   "metadata": {
    "id": "VK4ofpuvD3Dd"
   },
   "source": [
    "## **2.2 DATA VISUALISATION**"
   ]
  },
  {
   "cell_type": "markdown",
   "metadata": {},
   "source": [
    "We've been staring at numbers for quite a bit. However, it's not really feasible to infer relationships between variables from their raw values.  \n",
    "That's where figures come in handy. Python has several really great packages for data visualisation. Today we'll learn about the two most popular ones, matplotlib and seaborn.  \n",
    "Matplotlib has syntax very similar to Matlab, so it might look familiar to you.  \n",
    "Seaborn builds on top of matplotlib and automatises most of the figure formatting for you."
   ]
  },
  {
   "cell_type": "markdown",
   "metadata": {},
   "source": [
    "### 2.2.1 Data visualisation with Matplotlib"
   ]
  },
  {
   "cell_type": "code",
   "execution_count": null,
   "metadata": {
    "id": "96LwqG1WD0yC"
   },
   "outputs": [],
   "source": [
    "# Let's start by plotting something quite simple using a line plot in matplotlib (remember to import this in every notebook)\n",
    "import matplotlib.pyplot as plt\n",
    "\n",
    "x = [1, 2, 3, 4, 5]\n",
    "y = [2, 5, 6, 11, 14]\n",
    "\n",
    "plt.plot(x, y, linestyle='--')"
   ]
  },
  {
   "cell_type": "code",
   "execution_count": null,
   "metadata": {
    "id": "7B1bcW2_AV-W"
   },
   "outputs": [],
   "source": [
    "# Alternatively, styles can be spelled out as well (this is true for colors, etc.) \n",
    "plt.plot(x, y, linestyle='dashed', color = 'orange', linewidth = 8)"
   ]
  },
  {
   "cell_type": "code",
   "execution_count": null,
   "metadata": {
    "id": "ZxKqAHg4ACrT"
   },
   "outputs": [],
   "source": [
    "# It's likely you'll often want to look at a relationship between two variables. \n",
    "# You can do this simply by scattering them in matplotlib. \n",
    "\n",
    "x = [1, 2, 3, 4, 5, 1, 2, 3, 4, 5, 1, 2, 3, 4, 5]\n",
    "y = [2, 5, 6, 11, 14, 5, 2, 7, 8, 9, 1, 2, 3, 7, 3]\n",
    "\n",
    "plt.scatter(x, y, color = 'royalblue')"
   ]
  },
  {
   "cell_type": "markdown",
   "metadata": {},
   "source": [
    "### 2.2.2 Data visualisation with Seaborn"
   ]
  },
  {
   "cell_type": "markdown",
   "metadata": {},
   "source": [
    "Alternatively, more powerful visualizations are available in seaborn. \n",
    "Here, we are plotting the exact same data as in the figure above, but we are also denoting \n",
    "the line of best fit for this data. Seaborn works best with so-called pandas dataframes. Pandas is a package that allows you to work with tabular data, similar to the one you would import to Excel or SPSS. We'll talk more about this later!"
   ]
  },
  {
   "cell_type": "code",
   "execution_count": null,
   "metadata": {
    "id": "mQT2wF7UAnPI"
   },
   "outputs": [],
   "source": [
    "import pandas as pd\n",
    "import seaborn as sns \n",
    "\n",
    "dataframe = pd.DataFrame({'x': x, \n",
    "                        'y': y})\n",
    "\n",
    "g = sns.lmplot(x='x', y='y', data = dataframe)"
   ]
  },
  {
   "cell_type": "markdown",
   "metadata": {},
   "source": [
    "## 2.3 THE PANDAS PACKAGE FOR TABULAR DATA"
   ]
  },
  {
   "cell_type": "markdown",
   "metadata": {
    "id": "Aht4ntBrzGVB"
   },
   "source": [
    "### 2.3.1 Working with real-world datasets\n",
    "So far in this class we've avoided using external datasets, but big data are hard to visualize with simulated sets. So, for the next few examples we'll ask you to play with an existing dataset for Python called Iris, which contains some flower feature data.\n",
    "\n",
    "This data is in a pandas dataframe, which means some of the functions that are most useful to work with it will be other pandas functions. Working with a dataset like this is a great example of a task that will require a bit of googling and pasting together bits of code other people have written or reading some documentation for functions you are interested in."
   ]
  },
  {
   "cell_type": "code",
   "execution_count": null,
   "metadata": {
    "id": "GSF2YeKlznGh"
   },
   "outputs": [],
   "source": [
    "from sklearn import datasets\n",
    "import seaborn as sns \n",
    "\n",
    "iris = sns.load_dataset(\"iris\") # Load the available dataset "
   ]
  },
  {
   "cell_type": "markdown",
   "metadata": {},
   "source": [
    "Pandas stores data in so-called dataframes. think of them as tables, similar to the ones you'd load into SPSS. In fact, we'll later use pandas to re-analyse the data from the Behavioural Neuroscience Core-practical.  \n",
    "Pandas has a few very useful functions to summarise features of the dataset. Let's have a look at a few of these"
   ]
  },
  {
   "cell_type": "code",
   "execution_count": null,
   "metadata": {},
   "outputs": [],
   "source": [
    "# Let's have a look at the data. \n",
    "# For 150 flowers, we have their sepal length, sepal width, petal length, petal width and species. Neat!\n",
    "print(iris.shape)\n",
    "iris.head()"
   ]
  },
  {
   "cell_type": "code",
   "execution_count": null,
   "metadata": {},
   "outputs": [],
   "source": [
    "# let's get descriptive statistics in one line of code!\n",
    "iris.describe() "
   ]
  },
  {
   "cell_type": "markdown",
   "metadata": {},
   "source": [
    "We'll learn more about pandas in the next session (part 3). But first, it's time for a little exercise!"
   ]
  },
  {
   "cell_type": "markdown",
   "metadata": {},
   "source": [
    "### TASK 5: Data visualisation with Seaborn"
   ]
  },
  {
   "cell_type": "markdown",
   "metadata": {
    "id": "QlKWAHQkz-QF"
   },
   "source": [
    "Pandas is great, but from staring at numbers, it's almost impossible to detect interesting structure. Let's use what we've learned about seaborn to visualise interesting relationships between variables in the dataset!     \n",
    "\n",
    "Try to plot lengths against widths of the petals for all flower types. The kind of plot you'll want to use is most likely a scatterplot, so see if you can google your way to the syntax that will take petal length and width as inputs for each datapoint.   \n",
    "\n",
    "**Hint**: Link to scatterplot documentation - https://seaborn.pydata.org/generated/seaborn.scatterplot.html"
   ]
  },
  {
   "cell_type": "code",
   "execution_count": null,
   "metadata": {
    "id": "m_mCRDfcz5As"
   },
   "outputs": [],
   "source": [
    "from sklearn import datasets\n",
    "import seaborn as sns \n",
    "iris = sns.load_dataset(\"iris\") # Load the available dataset \n",
    "\n",
    "# Type your code below:\n"
   ]
  },
  {
   "cell_type": "markdown",
   "metadata": {},
   "source": [
    "Now try to change your scatterplot code from the cell above to color different species of flowers differently. \n",
    "\n",
    "**Hint**: Seaborn is fancy, so it will call color \"hue\"... look for hue designations in scatterplot documentation for help. (https://seaborn.pydata.org/generated/seaborn.scatterplot.html)"
   ]
  },
  {
   "cell_type": "code",
   "execution_count": null,
   "metadata": {},
   "outputs": [],
   "source": [
    "# Type your code below:\n"
   ]
  },
  {
   "cell_type": "markdown",
   "metadata": {},
   "source": [
    "**Congrats, you made it to the end of part2!**\n",
    "\n",
    "In the next section, we'll put what we've learned to practice and analyse a real dataset from a psychological experiment!"
   ]
  }
 ],
 "metadata": {
  "colab": {
   "collapsed_sections": [
    "27GJWJouueMT"
   ],
   "name": "intro_to_python_students.ipynb",
   "provenance": []
  },
  "kernelspec": {
   "display_name": "Python 3",
   "language": "python",
   "name": "python3"
  },
  "language_info": {
   "codemirror_mode": {
    "name": "ipython",
    "version": 3
   },
   "file_extension": ".py",
   "mimetype": "text/x-python",
   "name": "python",
   "nbconvert_exporter": "python",
   "pygments_lexer": "ipython3",
   "version": "3.7.3"
  }
 },
 "nbformat": 4,
 "nbformat_minor": 1
}
