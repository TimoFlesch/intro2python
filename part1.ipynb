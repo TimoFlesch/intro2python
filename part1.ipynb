{
 "cells": [
  {
   "cell_type": "markdown",
   "metadata": {
    "id": "OW_kXbq5J6Ek"
   },
   "source": [
    "# **PART 1: PYTHON - A (VERY) SHORT INTRODUCTION**"
   ]
  },
  {
   "cell_type": "markdown",
   "metadata": {
    "id": "SAB59OcIvw_n"
   },
   "source": [
    "Today you'll learn the basics of programming in Python. We are currently using a so-called **Python notebook**. The notebook consists of two types of cells, those that contain text (like the one you're reading right now) and those that contain Python code.  \n",
    "\n",
    "Below is an example of a cell with Python code. When we click on a cell with code and either press [SHIFT] + [ENTER] or click on the [RUN] button above, we tell the computer to interpret the commands which means that it turns the Python code into actions we want it to execute."
   ]
  },
  {
   "cell_type": "code",
   "execution_count": null,
   "metadata": {
    "id": "jzXA8DuCwaM8"
   },
   "outputs": [],
   "source": [
    "# This is a comment. Everything preceeded by a hash symbol (#) is ignored by the computer. \n",
    "# This allows you to add comments/notes/documentation to your Python programme.\n",
    "print(\"Hello world\")"
   ]
  },
  {
   "cell_type": "markdown",
   "metadata": {
    "id": "ydFDepGcwdOg"
   },
   "source": [
    "As you can see, we instructed the computer to \"print\" a string of letters.\n",
    "\n",
    "Don't worry too much about the syntax right now, we'll go through this step by step."
   ]
  },
  {
   "cell_type": "markdown",
   "metadata": {
    "id": "2kBA_M83Z1Ld"
   },
   "source": [
    "___\n",
    "## **1.1 VARIABLES**"
   ]
  },
  {
   "cell_type": "markdown",
   "metadata": {
    "id": "M9vSHfxauLc2"
   },
   "source": [
    "Variables are used to store information that can later be referenced and manipulated by your computer program. It's helpful to think of variables as containers for information. For example, imagine you build a drawer and put socks in it. In this case, the drawer would be a variable and the socks we put in would correspond to its value(s). When you reference the variable, i.e. open the drawer, you'll find socks in there. "
   ]
  },
  {
   "cell_type": "code",
   "execution_count": null,
   "metadata": {
    "id": "egLUcRqJxA6I"
   },
   "outputs": [],
   "source": [
    "# Let's create a drawer with socks\n",
    "drawer = \"socks\"\n",
    "\n",
    "# Let's have a look what's inside the drawer\n",
    "drawer"
   ]
  },
  {
   "cell_type": "markdown",
   "metadata": {
    "id": "HaxWZWrSvSGF"
   },
   "source": [
    "Variables would be useless if you couldn't assign values to them. Python is able to handle all sorts of different datatypes, such as numbers, strings (= sequences of letters and symbols) and lists of numbers/letters. Below are a few examples:"
   ]
  },
  {
   "cell_type": "markdown",
   "metadata": {
    "id": "1oP3m5C0KfcQ"
   },
   "source": [
    "\n",
    "\n",
    "\n",
    "### **1.1.1 Assign values to variables**"
   ]
  },
  {
   "cell_type": "code",
   "execution_count": null,
   "metadata": {
    "id": "ZMR0QXM8ZfOu"
   },
   "outputs": [],
   "source": [
    "# This is an integer (a number without any decimal points)\n",
    "variable1 = 5 \n",
    "\n",
    "# This is another integer\n",
    "variable2 = 7\n",
    "\n",
    "# This is a float (a number with decimal points)\n",
    "variable3 = -2.563\n",
    "\n",
    "# This is a string (a sequences of characters)\n",
    "variable4 = 'Hello World'\n",
    "\n",
    "# This is a list (a set of different items)\n",
    "variable5 = [1,2, 'Tomato',0,'???']"
   ]
  },
  {
   "cell_type": "markdown",
   "metadata": {
    "id": "ToKYNDaAyPsW"
   },
   "source": [
    "Let's check out what's inside these variables:"
   ]
  },
  {
   "cell_type": "code",
   "execution_count": null,
   "metadata": {
    "id": "Ixn2V250ySMu"
   },
   "outputs": [],
   "source": [
    "variable5"
   ]
  },
  {
   "cell_type": "markdown",
   "metadata": {
    "id": "ZtWQb84byXEm"
   },
   "source": [
    "**IMPORTANT!** \n",
    "\n",
    "Variable names are somewhat arbitrary, but try to give your variables sensible names that explain what kind of information they hold (remember the drawer example above). This prevents a lot of confusion when you come back to code you wrote weeks or months ago!\n",
    "\n",
    "Also, there a few general rules for naming variables.\n",
    "\n",
    "1. Variable names shouldn't start with a **number**.\n",
    "2. Variable names shouldn't start with a **special symbol** (e.g. $ or ^)."
   ]
  },
  {
   "cell_type": "code",
   "execution_count": null,
   "metadata": {
    "id": "rn9FI0Y6mz2R"
   },
   "outputs": [],
   "source": [
    "# See what happens when you try to give your variable an invalid name.\n",
    "^my_var = 12"
   ]
  },
  {
   "cell_type": "markdown",
   "metadata": {
    "id": "o5th5t33Zyut"
   },
   "source": [
    "### **1.1.2 Operations using defined variables**\n"
   ]
  },
  {
   "cell_type": "markdown",
   "metadata": {
    "id": "yOg3z730yyrF"
   },
   "source": [
    "What makes programming languages so powerful is their ability to perform various operations on the variables you have defined. In this section, you'll learn a few of those!"
   ]
  },
  {
   "cell_type": "markdown",
   "metadata": {
    "id": "lK9eXsq_LDs_"
   },
   "source": [
    "#### **Basic addition & subtraction**"
   ]
  },
  {
   "cell_type": "markdown",
   "metadata": {
    "id": "mvNvJOcRiO7B"
   },
   "source": [
    "Let's write a program that adds two of the variables we have defined above:"
   ]
  },
  {
   "cell_type": "code",
   "execution_count": null,
   "metadata": {
    "id": "2_X2OvzSZ4hc"
   },
   "outputs": [],
   "source": [
    "variable1 + variable2 "
   ]
  },
  {
   "cell_type": "markdown",
   "metadata": {
    "id": "s4KDNWcIaeEH"
   },
   "source": [
    "You can conduct basic math directly in-line, but if you need more than one operation to run, you'll want to assign them to variables:\n"
   ]
  },
  {
   "cell_type": "code",
   "execution_count": null,
   "metadata": {
    "id": "rKPxwjW9adGK"
   },
   "outputs": [],
   "source": [
    "sum_of_two = variable1 + variable2\n",
    "difference = variable1 - variable2\n",
    "difference2 = difference - variable3"
   ]
  },
  {
   "cell_type": "markdown",
   "metadata": {
    "id": "kbPxKxvvLLtW"
   },
   "source": [
    "Notice how the results of these operations were not automatically displayed in the command line. This is desired behaviour of any programming language. Imagine that you have a very long and complicated script full of mathematical operations, but are only interested in the end result. It would be a nightmare if each and every intermediate result was displayed in the command line."
   ]
  },
  {
   "cell_type": "markdown",
   "metadata": {
    "id": "-QqXgNiXLsvY"
   },
   "source": [
    "To display specific variables (and some text) in the command line, use the **print** statement.  \n",
    "\n",
    "The print statement is a **function**. As in maths, functions take some value as input, apply a transformation and return the result of this transformation as output. In case of the print statement, it takes strings of characters and variables as input, and - as the name suggests - \"prints\" the result to the command line (in our case the space below a cell with Python code). We'll learn more about functions later in the course.  \n",
    "As you can see in the example below, the print function accepts all sorts of different input formats. Choose the one that works best for you!"
   ]
  },
  {
   "cell_type": "code",
   "execution_count": null,
   "metadata": {
    "id": "WIhvjpB0LNx5"
   },
   "outputs": [],
   "source": [
    "# One variable\n",
    "print(difference2) \n",
    "\n",
    "# Multiple variables can be separated by a comma\n",
    "print(sum_of_two, difference)\n",
    "\n",
    "# We can also construct a string by concatenating text and numbers (that we have turned into strings using the str() function)\n",
    "print('Sum of int1 and int2 is ' + str(sum_of_two) + ' and difference between them is ' + str(difference))\n",
    "\n",
    "# You can also use {} as placeholders and use the format method to feed values into the placeholders\n",
    "print('Sum of int1 and int2 is {}, and differene between them is {}'.format(sum_of_two, difference))"
   ]
  },
  {
   "cell_type": "code",
   "execution_count": null,
   "metadata": {
    "id": "7irA9yDHf25y"
   },
   "outputs": [],
   "source": [
    "# In case you were confused: Python distinguishes between different types of variables. \n",
    "# If we assign a number to a variable, Python will assume that it's a number.\n",
    "# If we put that same number into quotation marks, it will assume it's a string (= letter on your keyboard) and can't do maths with it.\n",
    "# \"+\" between numbers adds them up. \"+\" between strings concatenates them.\n",
    "five_num = 5\n",
    "five_str = '5' # This is equal to str(five_num)\n",
    "one_num = 1\n",
    "one_str = '1'\n",
    "\n",
    "print(five_num + one_num)\n",
    "print(five_str + one_str)\n",
    "print(five_num + five_str)"
   ]
  },
  {
   "cell_type": "markdown",
   "metadata": {
    "id": "Pgabp9RzsrNr"
   },
   "source": [
    "#### **Basic multiplication and division**\n"
   ]
  },
  {
   "cell_type": "markdown",
   "metadata": {
    "id": "L3MZkPW_PN_l"
   },
   "source": [
    "Imagine how limited a programming language would be if you couldn't perform multiplication and division. Luckily, Python has you covered! "
   ]
  },
  {
   "cell_type": "code",
   "execution_count": null,
   "metadata": {
    "id": "WxSrtwJBs2-o"
   },
   "outputs": [],
   "source": [
    "int1 = 20\n",
    "int2 = 6\n",
    "product_of_two = int1 * int2\n",
    "quotient_of_two = int1 / int2\n",
    "modulo_of_two = int1 % int2\n",
    "\n",
    "print('Product of int1 and int2 is {}'.format(product_of_two))\n",
    "print('Dividing int1 by int2 yields {} '.format(quotient_of_two))\n",
    "print('The remainder after dividing int1 by int2 is {} '.format(modulo_of_two))"
   ]
  },
  {
   "cell_type": "markdown",
   "metadata": {
    "id": "3MeFp6c1QSYK"
   },
   "source": [
    "#### **Logical operators**"
   ]
  },
  {
   "cell_type": "markdown",
   "metadata": {
    "id": "hfFV1yhqRgfB"
   },
   "source": [
    "In programming you very often need to know whether some statement is  true or false. This can be achieved with so-called **Boolean variables**, which you'll find very handy over time:"
   ]
  },
  {
   "cell_type": "code",
   "execution_count": null,
   "metadata": {
    "id": "478GGuOpRvtf"
   },
   "outputs": [],
   "source": [
    "bool1 = True\n",
    "bool2 = False \n",
    "print(bool1)\n",
    "print(bool2)\n",
    "print(bool1 and bool2)\n",
    "print(bool1 or bool2)\n",
    "print(bool1 and not bool2)"
   ]
  },
  {
   "cell_type": "code",
   "execution_count": null,
   "metadata": {
    "id": "0I5lNSpJvpsi"
   },
   "outputs": [],
   "source": [
    "numBelow10 = [1,2,3,4,5,6,7,8,9]\n",
    "demonstrators = 'Timo & Jelka'\n",
    "print(11 in numBelow10) # Check whether number 11 is in the previously defined variable 'numBelow10'\n",
    "print('a' in demonstrators) # Check if any of the demonstators have letter 'a' in their names"
   ]
  },
  {
   "cell_type": "code",
   "execution_count": null,
   "metadata": {
    "id": "sg3Z1VdUrBYq"
   },
   "outputs": [],
   "source": [
    "# Boolean variables also have their numerical value. Check the value of 'True' and 'False' in the code below.\n",
    "print(True == 1)\n",
    "print(False == 0)"
   ]
  },
  {
   "cell_type": "markdown",
   "metadata": {
    "id": "4-mgaaRJSLik"
   },
   "source": [
    "Most frequently, you will be able to check whether relationships between variables are true or false or do something conditionally based on whether a statement is true (see below):"
   ]
  },
  {
   "cell_type": "code",
   "execution_count": null,
   "metadata": {
    "id": "5x-bbukLSZeu"
   },
   "outputs": [],
   "source": [
    "print(5 < 6)\n",
    "print(6 >= 5)\n",
    "print(5 != 10/2)\n",
    "print('hello' != 'world')"
   ]
  },
  {
   "cell_type": "markdown",
   "metadata": {
    "id": "gdtGeau7SoJR"
   },
   "source": [
    "Logical operators are very powerful. For instance, you can test whether a variable lies within a certain interval:"
   ]
  },
  {
   "cell_type": "code",
   "execution_count": null,
   "metadata": {
    "id": "T_aP4ZQXS38J"
   },
   "outputs": [],
   "source": [
    "int1 = 10\n",
    "print(int1 < 12 and int1 > 9)\n",
    "print( 9 < int1 < 12)"
   ]
  },
  {
   "cell_type": "markdown",
   "metadata": {
    "id": "PGuGYduxaz_w"
   },
   "source": [
    "#### **TASK 1:**\n",
    "\n",
    "1. Open a new Python code cell below this task description for each of the bullet points.\n",
    "2. Calculate the square root of 144 and save it to a variable 'sqroot144'\n",
    "3. Define a string variable that will contain your name and check if you have letter 'i' in your name\n",
    "4. Assign any 3 numbers (between 1 and 100) to 3 different variables. After doing that, add up your 3 variables and print whether their sum is between 100 and 120\n",
    "5. Check the type of each of the variables you defined by using the function type()\n",
    "\n",
    "**Hint**: You can use a built-in function (sqrt(x)) to calculate the square root of a number.\n",
    "\n",
    "\n"
   ]
  },
  {
   "cell_type": "markdown",
   "metadata": {
    "id": "RUnpVcD6btev"
   },
   "source": [
    "___\n",
    "## **1.2 LOOPS AND STATEMENTS**"
   ]
  },
  {
   "cell_type": "markdown",
   "metadata": {
    "id": "kRL1dl7BzmZQ"
   },
   "source": [
    "Loops allow you to execute the same operation multiple times, but with a different type of input on each iteration.  \n",
    "Statement allow you to structure your code, and have the computer care about certain bits only if conditions you specify are met.  \n",
    "In this section, we'll learn more about both."
   ]
  },
  {
   "cell_type": "markdown",
   "metadata": {
    "id": "snpzo10LhuP_"
   },
   "source": [
    "### **1.2.1 While loops**"
   ]
  },
  {
   "cell_type": "markdown",
   "metadata": {
    "id": "_1p_5qfZh_Ej"
   },
   "source": [
    "Use while loops whenever you need to apply an operation multiple times, but don't know exactly how many iterations are needed:"
   ]
  },
  {
   "cell_type": "code",
   "execution_count": null,
   "metadata": {
    "id": "ZwpYDFl6iL2y"
   },
   "outputs": [],
   "source": [
    "# Example of a while loop\n",
    "x = 500\n",
    "\n",
    "while x > 10:\n",
    "    print(str(x))\n",
    "    x = x // 2"
   ]
  },
  {
   "cell_type": "markdown",
   "metadata": {
    "id": "lKXrCp-TLmOW"
   },
   "source": [
    "### **1.2.2 For loops**"
   ]
  },
  {
   "cell_type": "markdown",
   "metadata": {
    "id": "HsL51e_xMPYI"
   },
   "source": [
    "For loops come in handy whenever you need to apply a function to each item of a\n",
    "(potentially very long) list, and you know exactly how many iterations you need:\n"
   ]
  },
  {
   "cell_type": "code",
   "execution_count": null,
   "metadata": {
    "id": "RHHklUPmbOj8"
   },
   "outputs": [],
   "source": [
    "# Example of a for loop\n",
    "modules = [\"cognitive\", \"developmental\", \"neuro\", \"clinical\", \"social\", \"computational\"]\n",
    "\n",
    "for x in modules:\n",
    "    print(x)\n",
    "\n",
    "# For loops can also iterate over a sequence of numbers using the \"range\" function. \n",
    "for x in range(5): # A sequence starts with 0 and ends with 4! \n",
    "    print(x)\n",
    "\n",
    "# Python 'counts' from 0 and doesn't take the last number into account."
   ]
  },
  {
   "cell_type": "markdown",
   "metadata": {
    "id": "MSfT3btSMAwc"
   },
   "source": [
    "### **1.2.3 If-then conditionals**"
   ]
  },
  {
   "cell_type": "markdown",
   "metadata": {
    "id": "lBSojpjp0X9V"
   },
   "source": [
    "Before we talk about if-then conditionals, let's first learn something new: the **len()** command counts the number of symbols in a list.\n",
    "\n",
    "Example:\n"
   ]
  },
  {
   "cell_type": "code",
   "execution_count": null,
   "metadata": {
    "id": "p0CvFZTZ0ebY"
   },
   "outputs": [],
   "source": [
    "# Let's count how many numbers are in this list\n",
    "print(len([4,5,5,2,1]))\n",
    "\n",
    "# Note that it also works with strings (which are essentially lists of symbols)\n",
    "print(len('hello world'))"
   ]
  },
  {
   "cell_type": "markdown",
   "metadata": {
    "id": "SB7x5emzM78i"
   },
   "source": [
    "Programming is all about case-specific processing. \n",
    "\n",
    "Use if-then statements \n",
    "to process inputs depending on conditions you have specified:"
   ]
  },
  {
   "cell_type": "code",
   "execution_count": null,
   "metadata": {
    "id": "FpXo3d-dcGWn"
   },
   "outputs": [],
   "source": [
    "# Example of a if-then statement\n",
    "favoriteModule = \"computational\"\n",
    "firstModule = \"social\"\n",
    "\n",
    "if len(firstModule) != len(favoriteModule): \n",
    "    print('These modules are of different lengths!')\n",
    "elif len(firstModule) == len(favoriteModule): \n",
    "    print('These modules are of same lengths!')\n",
    "\n",
    "# Based on what you have seen so far, what is the difference between = and == in Python?"
   ]
  },
  {
   "cell_type": "markdown",
   "metadata": {
    "id": "yQMQq9RRLduW"
   },
   "source": [
    "Very often you'll find that you want to check multiple conditions before doing something with your variables. You can do this by using logical connectors such as 'and' or 'or'. \n",
    "\n",
    "[Link to a good starting point on Boolean operators in Python ](https://https://docs.python.org/2.0/ref/lambda.html)"
   ]
  },
  {
   "cell_type": "code",
   "execution_count": null,
   "metadata": {
    "id": "UeAXZzvUc8le"
   },
   "outputs": [],
   "source": [
    "a = 60\n",
    "b = 30\n",
    "c = 70\n",
    "\n",
    "if a > b and c > a:\n",
    "    print('Both conditions are true!')\n",
    "elif a > b or c > a: \n",
    "    print('At least one of the conditions is true!')\n",
    "else:\n",
    "    print('Both conditions are not true!')"
   ]
  },
  {
   "cell_type": "markdown",
   "metadata": {
    "id": "rkpr5XvjcKwV"
   },
   "source": [
    "#### **TASK 2:**\n",
    "\n",
    "Write your own loops.\n",
    "\n",
    "Given:\n",
    "\n",
    "```\n",
    " modules = [\"cognitive\", \"developmental\", \"neuro\", \"clinical\", \"social\", \"computational\"]\n",
    " comparisonVariable = \"introductory\"\n",
    "```\n",
    " \n",
    "Determine whether any of the modules have names that are longer than the comparison variable."
   ]
  },
  {
   "cell_type": "code",
   "execution_count": null,
   "metadata": {
    "id": "cwYlwrZGcI46"
   },
   "outputs": [],
   "source": [
    "modules = [\"cognitive\", \"developmental\", \"neuro\", \"clinical\", \"social\", \"computational\"]\n",
    "comparisonVariable = \"introductory\"\n",
    "\n",
    "# Type your code below:\n"
   ]
  },
  {
   "cell_type": "markdown",
   "metadata": {
    "id": "mzr0TpU0w7kz"
   },
   "source": [
    "___\n",
    "## **1.3 FUNCTIONS**\n"
   ]
  },
  {
   "cell_type": "markdown",
   "metadata": {
    "id": "SSpSOOeGw7y7"
   },
   "source": [
    "### **1.3.1 Introduction to functions**"
   ]
  },
  {
   "cell_type": "markdown",
   "metadata": {
    "id": "IGEpBh8U4th_"
   },
   "source": [
    "Functions are nothing new. You have already worked with them in the previous exercises!\n",
    "\n",
    "Here are some examples...\n",
    "\n"
   ]
  },
  {
   "cell_type": "code",
   "execution_count": null,
   "metadata": {
    "id": "DDjZgAnt43KP"
   },
   "outputs": [],
   "source": [
    "print(\"hello world\")\n",
    "print(\"2*3:\",2*3)\n",
    "print(len(\"hello world\"))"
   ]
  },
  {
   "cell_type": "markdown",
   "metadata": {
    "id": "JmJxHvCw5DYD"
   },
   "source": [
    "What makes coding so great is that you're able to write your own functions! Whenever you identify a recurring task in your workflow, consider writing a function instead of copying and pasting the code over and over again:"
   ]
  },
  {
   "cell_type": "code",
   "execution_count": null,
   "metadata": {
    "id": "7b3xPktW6Y-k"
   },
   "outputs": [],
   "source": [
    "# Naive approach for testing parity of several numbers:\n",
    "if 3 % 2 == 0:\n",
    "    print('{} is even'.format(3))\n",
    "else:\n",
    "    print('{} is odd'.format(3))\n",
    "\n",
    "    \n",
    "if 2 % 2 == 0:\n",
    "    print('{} is even'.format(2))\n",
    "else:\n",
    "    print('{} is odd'.format(2))\n",
    "\n",
    "\n",
    "if 11 % 2 == 0:\n",
    "    print('{} is even'.format(11))\n",
    "else:\n",
    "    print('{} is odd'.format(11))"
   ]
  },
  {
   "cell_type": "markdown",
   "metadata": {
    "id": "UQTXRi0dN83D"
   },
   "source": [
    "In the example above, we tested whether several numbers are odd or even.\n",
    "Instead of repeating the same thing over and over again, we can put it in a neat little function:"
   ]
  },
  {
   "cell_type": "code",
   "execution_count": null,
   "metadata": {
    "id": "lWLm6V4m5u2F"
   },
   "outputs": [],
   "source": [
    "# Let's write a function that does the work for us!\n",
    "def return_parity(n):\n",
    "    result = str(n) + ' is'\n",
    "    if n % 2 == 0:\n",
    "        return result + ' even'\n",
    "    else:\n",
    "        return result + ' odd'"
   ]
  },
  {
   "cell_type": "markdown",
   "metadata": {
    "id": "JyICkQ5pOL4s"
   },
   "source": [
    "Now we can simply apply the function to each of the numbers we're interested in."
   ]
  },
  {
   "cell_type": "code",
   "execution_count": null,
   "metadata": {
    "id": "YumornB_5-se"
   },
   "outputs": [],
   "source": [
    "print(return_parity(3))\n",
    "print(return_parity(2))\n",
    "print(return_parity(11))"
   ]
  },
  {
   "cell_type": "markdown",
   "metadata": {
    "id": "AH7C4IhcORjX"
   },
   "source": [
    "By the way, if-else statements can be compressed into one-liners:"
   ]
  },
  {
   "cell_type": "code",
   "execution_count": null,
   "metadata": {
    "id": "NINVFIb68AGv"
   },
   "outputs": [],
   "source": [
    "# Let's make this shorter\n",
    "def return_parity(n):\n",
    "    result = str(n) + ' is '\n",
    "    return result + 'even' if n % 2 == 0 else result + 'odd'"
   ]
  },
  {
   "cell_type": "markdown",
   "metadata": {
    "id": "pTRmLDpsOY2e"
   },
   "source": [
    "Did you notice something? We applied the function to several different numbers.\n",
    "Why not put all numbers in a list and use a loop to iterate over them?"
   ]
  },
  {
   "cell_type": "code",
   "execution_count": null,
   "metadata": {
    "id": "XOOlnKtP60la"
   },
   "outputs": [],
   "source": [
    "# Let's combine this with loops\n",
    "numbers = [3, 2, 11]\n",
    "for num in numbers:\n",
    "    print(return_parity(num))"
   ]
  },
  {
   "cell_type": "markdown",
   "metadata": {
    "id": "C7WPZXDKOmWj"
   },
   "source": [
    "Functions can be put inside other functions. Let's write a wrapper that iterates over a list!"
   ]
  },
  {
   "cell_type": "code",
   "execution_count": null,
   "metadata": {
    "id": "MCdYiXfz8TNh"
   },
   "outputs": [],
   "source": [
    "#let's write a wrapper!\n",
    "def check_item_parity(arr):\n",
    "    for ii in arr:\n",
    "        print(return_parity(ii))\n",
    "  "
   ]
  },
  {
   "cell_type": "code",
   "execution_count": null,
   "metadata": {
    "id": "av8aRHhA8i3o"
   },
   "outputs": [],
   "source": [
    "check_item_parity(numbers)"
   ]
  },
  {
   "cell_type": "markdown",
   "metadata": {
    "id": "1iHVY95Yw_SC"
   },
   "source": [
    "### **1.3.2 Docstrings**"
   ]
  },
  {
   "cell_type": "markdown",
   "metadata": {
    "id": "MqiVSoJ2xEMO"
   },
   "source": [
    "Programming can be a very complicated endeavour. \n",
    "Who is able to remember each and every function and how to use it? **Nobody.** \n",
    "\n",
    "In fact, in real life, whenever you need to write a program, you'll notice that you spend most of the time Googling stuff and scrolling through online forums. That's absolutely normal and even the biggest coding pros do this all the time.  \n",
    "But even if you don't have internet, there's still hope: Python provides documentation for all of its built-in functions. These brief info snippets are called **docstrings** and now, you will learn two ways to access them.  \n",
    "\n",
    "First, you could simply add a question mark to the function you're interested in, and execute the line of code:"
   ]
  },
  {
   "cell_type": "code",
   "execution_count": null,
   "metadata": {
    "id": "XPwUSARfxN0J"
   },
   "outputs": [],
   "source": [
    "print?"
   ]
  },
  {
   "cell_type": "markdown",
   "metadata": {
    "id": "yr3ivSE_xNaB"
   },
   "source": [
    "Docstring:\n",
    "print(value, ..., sep=' ', end='\\n', file=sys.stdout, flush=False)\n",
    "\n",
    "Prints the values to a stream, or to sys.stdout by default.\n",
    "Optional keyword arguments:\n",
    "file:  a file-like object (stream); defaults to the current sys.stdout.\n",
    "sep:   string inserted between values, default a space.\n",
    "end:   string appended after the last value, default a newline.\n",
    "flush: whether to forcibly flush the stream.\n",
    "Type:      builtin_function_or_method"
   ]
  },
  {
   "cell_type": "markdown",
   "metadata": {
    "id": "fEEYnPu5xYDw"
   },
   "source": [
    "Alternatively, you pass it as argument to the help function:"
   ]
  },
  {
   "cell_type": "code",
   "execution_count": null,
   "metadata": {
    "id": "iLl4saNrxcda"
   },
   "outputs": [],
   "source": [
    "help(print)"
   ]
  },
  {
   "cell_type": "markdown",
   "metadata": {
    "id": "DJd_iruuxiFG"
   },
   "source": [
    "**When you write your own functions, don't forget to add documentation on how to use them.** \n",
    "\n",
    "This saves a lot of time and avoids nervous breakdowns when you come back to your code a few months later. \n",
    "In fact, you can easily write your own docstrings! Here's an example:"
   ]
  },
  {
   "cell_type": "code",
   "execution_count": null,
   "metadata": {
    "id": "niGmfSinyQnM"
   },
   "outputs": [],
   "source": [
    "def return_parity(n):\n",
    "    \"\"\" \n",
    "      This function tests whether its input is odd or even.\n",
    "      INPUT: (int) an arbitrary number\n",
    "      OUTPUT: (str) 'even' or 'odd' \n",
    "    \"\"\"\n",
    "    result = str(n) + ' is '\n",
    "    return result + 'even' if n % 2 == 0 else result + 'odd'"
   ]
  },
  {
   "cell_type": "code",
   "execution_count": null,
   "metadata": {
    "id": "HmiqetkRyfxa"
   },
   "outputs": [],
   "source": [
    "help(return_parity)"
   ]
  },
  {
   "cell_type": "markdown",
   "metadata": {
    "id": "DFSomZjhDMBY"
   },
   "source": [
    "#### **TASK 3:**"
   ]
  },
  {
   "cell_type": "markdown",
   "metadata": {
    "id": "7L_29-wrPX3k"
   },
   "source": [
    "Write a function that takes a list of numbers as input and returns the **mean** of these numbers.\n",
    "\n",
    "Remember, given a vector of numbers\n",
    "> $\\textbf{x} = [x_1, x_2, x_3, x_4, ...., x_n]$\n",
    "  \n",
    "the mean is defined as:  \n",
    "\n",
    "> $mean(\\textbf{x})=\\frac{1}{N}\\sum_{i=1}^{N} x_i = \\frac{1}{N}(x_1 + x_2 + x_3 + ... + x_n)$\n",
    "\n",
    "**Don't forget to add docstrings to your function!**\n"
   ]
  },
  {
   "cell_type": "code",
   "execution_count": null,
   "metadata": {
    "id": "VYIMV0z5DQcx"
   },
   "outputs": [],
   "source": [
    "numbers = [2,5,8,7,1,4,4,9]\n",
    "\n",
    "# Type your code below:\n"
   ]
  },
  {
   "cell_type": "markdown",
   "metadata": {
    "id": "yLgaYKSq-yoc"
   },
   "source": [
    "___\n",
    "## **1.4 .METHODS()**"
   ]
  },
  {
   "cell_type": "markdown",
   "metadata": {
    "id": "H3FV0ztQ-2mm"
   },
   "source": [
    "Python is an object-oriented language. An object is an abstract entity that contains \n",
    "some data and functions that can be applied to the data (Imagine a drawer (container) for socks (data) that has a built-in sock sorting machine (function)).   Functions that are applied directly to objects are called **methods**. In this section we'll learn how to apply methods to objects.  \n",
    "\n",
    "\n",
    "Many entities in Python are objects. For example, strings are objects as they contain some data, as for example \"hello world\", and they come with many functions that can be applied to the data. \n",
    "\n",
    "Let's have a look at an example:"
   ]
  },
  {
   "cell_type": "markdown",
   "metadata": {
    "id": "k7EErE7uwYr4"
   },
   "source": [
    "### **1.4.1 Example: Methods to manipulate strings**"
   ]
  },
  {
   "cell_type": "code",
   "execution_count": null,
   "metadata": {
    "id": "1P-XaCi7_QgI"
   },
   "outputs": [],
   "source": [
    "# First, we create a simple variable that contains a sequence of symbols\n",
    "string = \"hello world\"\n",
    "\n",
    "# Python understands that this is a string, and allows you to apply methods\n",
    "# that are purpose-built for string manipulation:\n",
    "print(string.upper())\n",
    "print(string.capitalize())\n",
    "print(string.replace(' world',', nice to meet you'))\n",
    "listOfWords = string.split(' ')\n",
    "print(listOfWords)\n",
    "newString = ', '.join(listOfWords)\n",
    "print(newString)"
   ]
  },
  {
   "cell_type": "markdown",
   "metadata": {
    "id": "crIH7Usv_8T-"
   },
   "source": [
    "In contrast to functions, for which the syntax is **function(argument)**, methods are bound to objects. Thus, the syntax is **object.method(argument)**."
   ]
  },
  {
   "cell_type": "markdown",
   "metadata": {
    "id": "QWfolgywwldz"
   },
   "source": [
    "### **1.4.2 Methods are object specific!**"
   ]
  },
  {
   "cell_type": "markdown",
   "metadata": {
    "id": "3mPPCEK2AIvg"
   },
   "source": [
    "As methods are bound to a particular object type, you can't apply them to other objects. For instance, you can't capitalise numbers:"
   ]
  },
  {
   "cell_type": "code",
   "execution_count": null,
   "metadata": {
    "id": "rSlCxzm4AXl3"
   },
   "outputs": [],
   "source": [
    "# Let's create a variable that contains a number\n",
    "number = 0.5\n",
    "\n",
    "# Python realises that this is not a string, and therefore you're not able to capitalise it!\n",
    "number.capitalize()"
   ]
  },
  {
   "cell_type": "markdown",
   "metadata": {
    "id": "w4V1QmNHwsXo"
   },
   "source": [
    "### **1.4.3 How to figure out which methods are provided for a given object**"
   ]
  },
  {
   "cell_type": "markdown",
   "metadata": {
    "id": "b3k3rv7BAfIa"
   },
   "source": [
    "To see a list of all available methods, either press [TAB] after placing a dot behind an object, or use the following syntax:"
   ]
  },
  {
   "cell_type": "code",
   "execution_count": null,
   "metadata": {
    "id": "UfXxkA0TAdUI"
   },
   "outputs": [],
   "source": [
    "dir(str)"
   ]
  },
  {
   "cell_type": "code",
   "execution_count": null,
   "metadata": {
    "id": "kXOmSeJoA_7P"
   },
   "outputs": [],
   "source": [
    "help(str.split)"
   ]
  },
  {
   "cell_type": "markdown",
   "metadata": {
    "id": "kRIKZ9Tuo1Mg"
   },
   "source": [
    "#### **TASK 4**:\n",
    "\n",
    "You're given the following string:\n",
    "\n",
    "```python\n",
    "sentence = 'Michaelmas term starts in October.'\n",
    "```\n",
    "\n",
    "1. Write a function that puts all vowels in the upper case, while all the consonants stay in the lower case. Test your function on the variable 'sentence'.\n",
    "\n",
    "2. Create a new variable where the word 'Michaelmas' will be replaced with the word 'Trinity' and 'October' with 'April'."
   ]
  },
  {
   "cell_type": "code",
   "execution_count": null,
   "metadata": {
    "id": "Nyhz2wxbqFxY"
   },
   "outputs": [],
   "source": [
    "sentence = 'Michaelmas term starts in October.'\n",
    "\n",
    "# Type your code below:\n"
   ]
  },
  {
   "cell_type": "code",
   "execution_count": null,
   "metadata": {
    "id": "tft-4ClLtGAE"
   },
   "outputs": [],
   "source": [
    "# Solution (Task 1):\n",
    "def UpperVowelsLowerConsonants(string):\n",
    "  newString = []\n",
    "  vowels = ['a','e','i','o','u', 'A', 'E', 'I', 'O', 'U']\n",
    "  for letter in string:\n",
    "    if letter in vowels:\n",
    "      letter = letter.upper()\n",
    "      newString.append(letter)\n",
    "    else:\n",
    "      letter = letter.lower()\n",
    "      newString.append(letter)\n",
    "  newString = ''.join(newString)\n",
    "  return(newString)\n",
    "\n",
    "UpperVowelsLowerConsonants(sentence)"
   ]
  },
  {
   "cell_type": "code",
   "execution_count": null,
   "metadata": {
    "id": "qjMdZoQttHJb"
   },
   "outputs": [],
   "source": [
    "# Solution (Task 2):\n",
    "sentenceTT = sentence.replace('Michaelmas', 'Trinity')\n",
    "sentenceTT = sentenceTT.replace('October', 'April')\n",
    "\n",
    "print(sentenceTT)"
   ]
  },
  {
   "cell_type": "markdown",
   "metadata": {},
   "source": [
    "Congratulations, you made it to the end of part 1!\n",
    "Let's now continue with part 2, where we'll show you how to use packages to enhance the functionality of python, and how to use Python like a scientist!"
   ]
  },
  {
   "cell_type": "code",
   "execution_count": null,
   "metadata": {},
   "outputs": [],
   "source": []
  }
 ],
 "metadata": {
  "colab": {
   "collapsed_sections": [
    "27GJWJouueMT"
   ],
   "name": "intro_to_python_students.ipynb",
   "provenance": []
  },
  "kernelspec": {
   "display_name": "Python 3",
   "language": "python",
   "name": "python3"
  },
  "language_info": {
   "codemirror_mode": {
    "name": "ipython",
    "version": 3
   },
   "file_extension": ".py",
   "mimetype": "text/x-python",
   "name": "python",
   "nbconvert_exporter": "python",
   "pygments_lexer": "ipython3",
   "version": "3.7.9"
  }
 },
 "nbformat": 4,
 "nbformat_minor": 1
}
