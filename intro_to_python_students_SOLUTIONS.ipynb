{
 "cells": [
  {
   "cell_type": "markdown",
   "metadata": {
    "colab_type": "text",
    "id": "OW_kXbq5J6Ek"
   },
   "source": [
    "# **PART 1: PYTHON - A (VERY) SHORT INTRODUCTION**"
   ]
  },
  {
   "cell_type": "markdown",
   "metadata": {
    "colab_type": "text",
    "id": "2kBA_M83Z1Ld"
   },
   "source": [
    "## **1.1 VARIABLES**"
   ]
  },
  {
   "cell_type": "markdown",
   "metadata": {
    "colab_type": "text",
    "id": "PGuGYduxaz_w"
   },
   "source": [
    "### **TASK: Define variables and write code to...**\n",
    "1. Calculate square root of 25, 144 and 289 \n",
    "2. Translate the following into Python\n",
    "  - assign numbers between 1 and 100 to 3 different variables\n",
    "  - add up your 3 variables and print whether the sum is bigger than 100\n",
    "\n",
    "**Hints**:\n",
    "* You can perform clever exponentiation (what does x^0.5 do to x?)\n",
    "* look at the section on logical operators if you're stuck!\n",
    "\n"
   ]
  },
  {
   "cell_type": "code",
   "execution_count": 2,
   "metadata": {
    "colab": {},
    "colab_type": "code",
    "id": "rbGcv16raibA"
   },
   "outputs": [
    {
     "name": "stdout",
     "output_type": "stream",
     "text": [
      "5.0\n",
      "12.0\n",
      "17.0\n"
     ]
    }
   ],
   "source": [
    "# Your code for example 1 here \n",
    "print(25**0.5)\n",
    "print(144**.5)\n",
    "print(289**.5)"
   ]
  },
  {
   "cell_type": "code",
   "execution_count": 3,
   "metadata": {
    "colab": {},
    "colab_type": "code",
    "id": "lqXbdrZJb54j"
   },
   "outputs": [
    {
     "name": "stdout",
     "output_type": "stream",
     "text": [
      "False\n"
     ]
    }
   ],
   "source": [
    "# Your code for example 2 here \n",
    "var1 = 20\n",
    "var2 = 66\n",
    "var3 = 2\n",
    "print((var1 + var2 + var3) > 100)"
   ]
  },
  {
   "cell_type": "markdown",
   "metadata": {
    "colab_type": "text",
    "id": "RUnpVcD6btev"
   },
   "source": [
    "## **1.2 LOOPS and STATEMENTS**"
   ]
  },
  {
   "cell_type": "markdown",
   "metadata": {
    "colab_type": "text",
    "id": "rkpr5XvjcKwV"
   },
   "source": [
    "### **TASK: Write your own for loop and if/then statement**\n",
    "\n",
    "Given \n",
    "\n",
    "```\n",
    " modules = [\"cognitive\", \"developmental\", \"neuro\", \"clinical\", \"social\", \"computational\"]\n",
    " comparisonVariable = \"introductory\"\n",
    "\n",
    "```\n",
    "\n",
    "\n",
    " \n",
    "Determine whether any of the modules have names that are longer than the comparison variable."
   ]
  },
  {
   "cell_type": "code",
   "execution_count": 1,
   "metadata": {
    "colab": {},
    "colab_type": "code",
    "id": "cwYlwrZGcI46"
   },
   "outputs": [
    {
     "name": "stdout",
     "output_type": "stream",
     "text": [
      "True\n"
     ]
    }
   ],
   "source": [
    "modules = [\"cognitive\", \"developmental\", \"neuro\", \"clinical\", \"social\", \"computational\"]\n",
    "comparisonVariable = \"introductory\"\n",
    "\n",
    "# Your code here\n",
    "anyNameLonger = False\n",
    "for mod in modules:\n",
    "    if len(mod) > len(comparisonVariable):\n",
    "        anyNameLonger = True\n",
    "print(anyNameLonger)"
   ]
  },
  {
   "cell_type": "markdown",
   "metadata": {
    "colab_type": "text",
    "id": "mzr0TpU0w7kz"
   },
   "source": [
    "## **1.3 FUNCTIONS**"
   ]
  },
  {
   "cell_type": "markdown",
   "metadata": {
    "colab_type": "text",
    "id": "DFSomZjhDMBY"
   },
   "source": [
    "### **Task: Write your own function!**"
   ]
  },
  {
   "cell_type": "markdown",
   "metadata": {
    "colab_type": "text",
    "id": "7L_29-wrPX3k"
   },
   "source": [
    "Write a function that takes a list of numbers as inputs and returns the mean of these numbers!  \n",
    "Remember, given a vector of numbers\n",
    "> $\\textbf{x} = [x_1, x_2, x_3, x_4, ...., x_n]$\n",
    "  \n",
    "the mean is defined as:  \n",
    "\n",
    "> $mean(\\textbf{x})=\\frac{1}{N}\\sum_{i=1}^{N} x_i = \\frac{1}{N}(x_1 + x_2 + x_3 + ... + x_n)$\n"
   ]
  },
  {
   "cell_type": "code",
   "execution_count": 5,
   "metadata": {
    "colab": {},
    "colab_type": "code",
    "id": "VYIMV0z5DQcx"
   },
   "outputs": [
    {
     "name": "stdout",
     "output_type": "stream",
     "text": [
      "5.0\n"
     ]
    }
   ],
   "source": [
    "numbers = [2,5,8,7,1,4,4,9]\n",
    "# your code goes here\n",
    "def compute_mean(x):\n",
    "    return sum(x)/len(x)\n",
    "print(compute_mean(numbers))"
   ]
  },
  {
   "cell_type": "markdown",
   "metadata": {
    "colab_type": "text",
    "id": "RtoqtwAhQfQC"
   },
   "source": [
    "Now write a function that computes the variance of a list of numbers.\n",
    "Remember, the variance is defined as \n",
    "> $var(\\textbf{x}) = \\frac{1}{N} \\sum_{i=1}^{N}(x_i-\\bar{x})^2$, where $mean(\\textbf{x}) = \\bar{x}$  \n",
    ">\n",
    "> or alternatively:  \n",
    ">\n",
    "> $var(\\textbf{x}) = \\frac{1}{N} \\sum_{i=1}^{N}(x_i^2) -\\bar{x}^2$ (\"expectation of square minus square of expectation\")"
   ]
  },
  {
   "cell_type": "code",
   "execution_count": 6,
   "metadata": {
    "colab": {},
    "colab_type": "code",
    "id": "u6LkZn5cyDSQ"
   },
   "outputs": [
    {
     "name": "stdout",
     "output_type": "stream",
     "text": [
      "7.0\n"
     ]
    }
   ],
   "source": [
    "numbers = [2,5,8,7,1,4,4,9]\n",
    "# your code goes here\n",
    "def compute_variance(x):  \n",
    "    return compute_mean([ii**2 for ii in x])-compute_mean(x)**2\n",
    "print(compute_variance(numbers))\n"
   ]
  },
  {
   "cell_type": "markdown",
   "metadata": {
    "colab_type": "text",
    "id": "tA6FEF5HyEX5"
   },
   "source": [
    "Now add docstrings to your functions to explain how to use them"
   ]
  },
  {
   "cell_type": "code",
   "execution_count": 4,
   "metadata": {
    "colab": {},
    "colab_type": "code",
    "id": "W-79OVZSyOni"
   },
   "outputs": [
    {
     "name": "stdout",
     "output_type": "stream",
     "text": [
      "Help on function compute_mean in module __main__:\n",
      "\n",
      "compute_mean(x)\n",
      "    computes mean of a list of numbers \n",
      "    INPUT: x (list)\n",
      "    OUTPUT: mu (float)\n",
      "\n",
      "None\n",
      "Help on function compute_variance in module __main__:\n",
      "\n",
      "compute_variance(x)\n",
      "    computes variance of a list of numbers \n",
      "    INPUT: x (list)\n",
      "    OUTPUT: var (float)\n",
      "\n",
      "None\n"
     ]
    }
   ],
   "source": [
    "#SAMPLE SOLUTIONS\n",
    "def compute_mean(x):\n",
    "    ''' \n",
    "    computes mean of a list of numbers \n",
    "    INPUT: x (list)\n",
    "    OUTPUT: mu (float)\n",
    "    '''\n",
    "    return sum(x)/len(x)\n",
    "\n",
    "def compute_variance(x):  \n",
    "    '''\n",
    "    computes variance of a list of numbers \n",
    "    INPUT: x (list)\n",
    "    OUTPUT: var (float)\n",
    "    '''\n",
    "    return compute_mean([ii**2 for ii in x])-compute_mean(x)**2\n",
    "\n",
    "print(help(compute_mean))\n",
    "print(help(compute_variance))"
   ]
  },
  {
   "cell_type": "markdown",
   "metadata": {
    "colab_type": "text",
    "id": "yLgaYKSq-yoc"
   },
   "source": [
    "## **1.4 .METHODS()**"
   ]
  },
  {
   "cell_type": "markdown",
   "metadata": {
    "colab_type": "text",
    "id": "bB6MQJKAsfaI"
   },
   "source": [
    "### **Task: String Manipulation**\n",
    "You're given the following two strings:\n",
    "```python\n",
    "gibberish_1 = 'is much I can''t enough.'\n",
    "gibberish_2 = 'cOdinG sO FuN. JuST gEt '\n",
    "```\n",
    "* turn the strings into lists of words (use the .split method)\n",
    "* make sure that gibberish_2 contains only lower case letters (.lower() method)\n",
    "* create a new empty list ( assign [] to a variable)\n",
    "* loop through 5 steps and for each iteration, add pairs of words to your new empty list \n",
    "* turn the list into a string (use the ' '.join(list) method)\n",
    "* print the result"
   ]
  },
  {
   "cell_type": "code",
   "execution_count": 55,
   "metadata": {
    "colab": {
     "base_uri": "https://localhost:8080/",
     "height": 72
    },
    "colab_type": "code",
    "id": "01VtovFIuBms",
    "outputId": "703707c8-495a-43f6-eb5b-303e9b9c3e52"
   },
   "outputs": [
    {
     "name": "stdout",
     "output_type": "stream",
     "text": [
      "coding is so much fun. I just cant get enough.\n",
      "coding is so much fun. I just cant get enough.\n",
      "coding is so much fun. I just cant get enough.\n"
     ]
    }
   ],
   "source": [
    "gibberish_1 = 'is much I can''t enough.'\n",
    "gibberish_2 = 'cOdinG sO FuN. JuST gEt '\n",
    "\n",
    "# Your code goes here\n",
    "# SAMPLE SOLUTION 1\n",
    "seq1 = gibberish_1.split() \n",
    "seq2 = gibberish_2.lower().split()\n",
    "wordlist = []\n",
    "for ii in range(len(seq1)):\n",
    "    wordlist.append(' '.join((seq2[ii], seq1[ii])))\n",
    "sentence = ' '.join(wordlist)\n",
    "print(sentence)\n",
    "\n",
    "# SAMPLE SOLUTION 2\n",
    "seq1 = gibberish_1.split() \n",
    "seq2 = gibberish_2.lower().split()\n",
    "wordlist = []\n",
    "for ii in range(len(seq1)):\n",
    "    wordlist.append(seq2[ii])\n",
    "    wordlist.append(seq1[ii])\n",
    "sentence = ' '.join(wordlist)\n",
    "print(sentence)\n",
    "\n",
    "# SAMPLE SOLUTION 3 \n",
    "seq1 = gibberish_1.split() \n",
    "seq2 = gibberish_2.lower().split()\n",
    "print(' '.join([' '.join((seq2[ii],seq1[ii])) for ii in range(len(seq1))]))\n"
   ]
  },
  {
   "cell_type": "markdown",
   "metadata": {
    "colab_type": "text",
    "id": "7gm9sIZvgRMJ"
   },
   "source": [
    "# **PART2: PYTHON FOR SCIENTISTS: PACKAGES/LIBRARIES**"
   ]
  },
  {
   "cell_type": "markdown",
   "metadata": {
    "colab_type": "text",
    "id": "6izgMqZ74JxD"
   },
   "source": [
    "### TASK: DATA PLOTTING \n",
    "Try to plot lengths against widths of the petals for all flower types. The kind of plot you'll want to use is most likely a scatterplot, so see if you can google your way to syntax that will take petal length and width as inputs for each datapoint. "
   ]
  },
  {
   "cell_type": "code",
   "execution_count": 4,
   "metadata": {
    "colab": {
     "base_uri": "https://localhost:8080/",
     "height": 297
    },
    "colab_type": "code",
    "id": "n7kAx99W4KJj",
    "outputId": "e5ac0498-7a51-436a-af7e-cae150e73941"
   },
   "outputs": [
    {
     "data": {
      "text/plain": [
       "<matplotlib.axes._subplots.AxesSubplot at 0x7fb294db3048>"
      ]
     },
     "execution_count": 4,
     "metadata": {
      "tags": []
     },
     "output_type": "execute_result"
    },
    {
     "data": {
      "image/png": "[encoded data removed]",
      "text/plain": [
       "<Figure size 432x288 with 1 Axes>"
      ]
     },
     "metadata": {
      "tags": []
     },
     "output_type": "display_data"
    }
   ],
   "source": [
    "# Your code for task 1 goes here: \n",
    "\n",
    "sns.scatterplot(iris['petal_length'],iris['petal_width'])"
   ]
  },
  {
   "cell_type": "markdown",
   "metadata": {
    "colab_type": "text",
    "id": "iHPbqpAoD8sf"
   },
   "source": [
    "Now try to change your scatterplot code from the cell above to color different species of flowers differently. Hint: Seaborn is fancy, so it will call color \"hue\"... look for hue designations in scatterplot documentation for help. "
   ]
  },
  {
   "cell_type": "code",
   "execution_count": 3,
   "metadata": {
    "colab": {
     "base_uri": "https://localhost:8080/",
     "height": 297
    },
    "colab_type": "code",
    "id": "aHMZUgrkD6KZ",
    "outputId": "5b4ac376-03a5-43a2-efbd-30123b8975b4"
   },
   "outputs": [
    {
     "data": {
      "text/plain": [
       "<matplotlib.axes._subplots.AxesSubplot at 0x7fb29771eb70>"
      ]
     },
     "execution_count": 3,
     "metadata": {
      "tags": []
     },
     "output_type": "execute_result"
    },
    {
     "data": {
      "image/png": "[encoded data removed]",
      "text/plain": [
       "<Figure size 432x288 with 1 Axes>"
      ]
     },
     "metadata": {
      "tags": []
     },
     "output_type": "display_data"
    }
   ],
   "source": [
    "# Your code goes here\n",
    "\n",
    "\n",
    "import seaborn as sns\n",
    "sns.scatterplot(iris['petal_length'],iris['petal_width'],hue=iris['species'])"
   ]
  },
  {
   "cell_type": "markdown",
   "metadata": {
    "colab_type": "text",
    "id": "ktAPt8hK4pGe"
   },
   "source": [
    "### TASK: DATA VISUALIZATIONS\n",
    "1. Try to plot all datapoints of petal lenghts by species in this dataset. What you want are little clusters of petal length values distributed by type of flower in your dataset. Hint: you might want to look at **swarmplots** using seaborn for this. \n"
   ]
  },
  {
   "cell_type": "code",
   "execution_count": 6,
   "metadata": {
    "colab": {
     "base_uri": "https://localhost:8080/",
     "height": 296
    },
    "colab_type": "code",
    "id": "3eXb5Sve4plK",
    "outputId": "1511da45-885d-44d5-f4e9-bc3db1aecac7"
   },
   "outputs": [
    {
     "data": {
      "text/plain": [
       "<matplotlib.axes._subplots.AxesSubplot at 0x7fb29247b4e0>"
      ]
     },
     "execution_count": 6,
     "metadata": {
      "tags": []
     },
     "output_type": "execute_result"
    },
    {
     "data": {
      "image/png": "[encoded data removed]",
      "text/plain": [
       "<Figure size 432x288 with 1 Axes>"
      ]
     },
     "metadata": {
      "tags": []
     },
     "output_type": "display_data"
    }
   ],
   "source": [
    "# Your code for task 1 goes here: \n",
    "\n",
    "sns.swarmplot(x=iris['species'],y=iris['petal_length'])\n"
   ]
  },
  {
   "cell_type": "markdown",
   "metadata": {
    "colab_type": "text",
    "id": "n-0qCFfNDzE8"
   },
   "source": [
    "\n",
    "2. When you are done with 1, try to plot means and standard deviations of petal lengths by species. Essentially, you are trying to create the exact same visualization as in the previous task, but now instead of seeing every data point you are interested in seeing the key values of your set - mean and stdev. Hint: you might want to look at **boxplots** using seaborn for this. "
   ]
  },
  {
   "cell_type": "code",
   "execution_count": 7,
   "metadata": {
    "colab": {
     "base_uri": "https://localhost:8080/",
     "height": 296
    },
    "colab_type": "code",
    "id": "vcltFqP8Dx9E",
    "outputId": "b5da1d5c-5803-4b4c-cf69-a7ffa3c22727"
   },
   "outputs": [
    {
     "data": {
      "text/plain": [
       "<matplotlib.axes._subplots.AxesSubplot at 0x7fb2906575f8>"
      ]
     },
     "execution_count": 7,
     "metadata": {
      "tags": []
     },
     "output_type": "execute_result"
    },
    {
     "data": {
      "image/png": "[encoded data removed]",
      "text/plain": [
       "<Figure size 432x288 with 1 Axes>"
      ]
     },
     "metadata": {
      "tags": []
     },
     "output_type": "display_data"
    }
   ],
   "source": [
    "# Your code for task 2 goes here: \n",
    "\n",
    "sns.boxplot(x=iris['species'],y=iris['petal_length'])\n",
    "\n"
   ]
  }
 ],
 "metadata": {
  "colab": {
   "collapsed_sections": [
    "27GJWJouueMT"
   ],
   "name": "intro_to_python_students.ipynb",
   "provenance": []
  },
  "kernelspec": {
   "display_name": "Python 3",
   "language": "python",
   "name": "python3"
  },
  "language_info": {
   "codemirror_mode": {
    "name": "ipython",
    "version": 3
   },
   "file_extension": ".py",
   "mimetype": "text/x-python",
   "name": "python",
   "nbconvert_exporter": "python",
   "pygments_lexer": "ipython3",
   "version": "3.6.5"
  }
 },
 "nbformat": 4,
 "nbformat_minor": 1
}
